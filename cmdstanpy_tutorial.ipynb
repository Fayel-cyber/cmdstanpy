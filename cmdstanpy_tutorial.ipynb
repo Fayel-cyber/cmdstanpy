{
 "cells": [
  {
   "cell_type": "markdown",
   "metadata": {},
   "source": [
    "# CmdStanPy Tutorial: do inference over a model conditioned on data\n",
    "\n",
    "\n",
    "## Overview\n",
    "\n",
    "The CmdStanPy interface manages the pieces of the puzzle that comprise a Bayesian data analysis:\n",
    "\n",
    " + The model, written as a Stan program\n",
    " + The data, i.e., the definitions for all data variables in the Stan program\n",
    " + The inference engine configuration, i.e., all arguments to the CmdStan command-line interface\n",
    " + The inference engine outputs:  output and diagnostic files, console message, error messages, and process return codes.\n",
    "\n",
    "The CmdStan interface is entirely file-based, therefore CmdStanPy manages the process of converting in-memory data structures to their file-based representation and vice versa."
   ]
  },
  {
   "cell_type": "markdown",
   "metadata": {},
   "source": [
    "### The Stan program\n",
    "\n",
    "When working in CmdStanPy, all models must be supplied either as a Stan program file or as a compiled model executable file; or both, in which case, the base filenames must match.   While writing a program as a file requires a text editor, as opposed to the convenience of a Python notebook, in the long run, this is a more efficient way to develop complex models. "
   ]
  },
  {
   "cell_type": "markdown",
   "metadata": {},
   "source": [
    "### The data\n",
    "\n",
    "Definitions of all data variables in the model are supplied either as a Python dictionary or as an on-disk data file which can be in either JSON or Rdump format.\n",
    "\n",
    "\n",
    "### Inference Methods\n",
    "\n",
    "For each of the inference methods on the `CmdStanModel` class, listed above, there is a result class defined which encapsulates the appropriate information and operations:\n",
    "\n",
    " + `sample` - returns a `CmdStanMCMC` object which contains all draws from all sampler chains.\n",
    " + `optimize` - returns a `CmdStanMLE` object which contains point estimates for all model variables.\n",
    " + `variational` - returns a `CmdStanVB` object which contains the approximate estimates.\n",
    " + `generate_quantities` - returns a `CmdStanGQ` object which contains the draws for the generated quantities variables.\n",
    "\n",
    "\n",
    "### Output files and logs\n",
    "\n",
    "Each run of an inference algorithm produces one or more output files in [Stan CSV format](https://mc-stan.org/docs/cmdstan-guide/stan-csv.html), as well as the messages written to stdout and stderr.  CmdStanPy uses per-run directories to keep all files together; the location of the directory can be specified when setting up the run, or it can be specified and/or changed afterwards via the `save_csvfiles` method, common to all inference method classes."
   ]
  },
  {
   "cell_type": "markdown",
   "metadata": {},
   "source": [
    "### Installation\n",
    "\n",
    "* From the shell command line, install Python package from PyPI or directly from GitHub using the Python `pip` installer for Python3:\n",
    "\n",
    "  + `pip3 install --upgrade cmdstanpy`\n",
    "  + `pip3 install -e git+https://github.com/stan-dev/cmdstanpy`\n",
    "\n",
    "\n",
    "* CmdStanPy uses CmdStan directly to compile and run Stan programs, therefore CmdStan must be installed locally.\n",
    "\n",
    "  + if you have a working installation of CmdStan, set environment variable `CMDSTAN` to the full path to the top-level CmdStan directory.\n",
    "  \n",
    "  + if you don't already have CmdStan installed, run Python script `install_cmdstan` which downloads and compiles the latest release from https://github.com/stan-dev/cmdstan/releases.  By default this installs the latest version of CmdStan in the location `~/.cmdstan`.  Flags -d and -v are used to specify the directory and version, respectively.\n"
   ]
  },
  {
   "cell_type": "markdown",
   "metadata": {},
   "source": [
    "## Hello World:  Compile and run CmdStan example model `bernoulli.stan`\n",
    "\n",
    "Every CmdStan release has an `examples/bernoulli` directory which contains the Stan model and test data files.  In this example we compile the model and run the NUTS-HMC sampler to obtain the full posterior density.\n",
    "\n",
    "  + The `CmdStanModel` class method `sample` invokes Stan's NUTS-HMC sampler which conditions the model on the input data and returns a `CmdStanMCMC` object. The `CmdStanMCMC` object contains the set of draws from the posterior plus metadata.\n",
    "  + Runs any number of chains - default is 4 chains.\n",
    "  + The output of each chain is stored on disk as a Stan csv file.\n"
   ]
  },
  {
   "cell_type": "markdown",
   "metadata": {},
   "source": [
    "### Import CmdStanPy classes and methods"
   ]
  },
  {
   "cell_type": "code",
   "execution_count": 1,
   "metadata": {},
   "outputs": [],
   "source": [
    "import os\n",
    "from cmdstanpy import cmdstan_path, CmdStanModel"
   ]
  },
  {
   "cell_type": "markdown",
   "metadata": {},
   "source": [
    "### Compile the model"
   ]
  },
  {
   "cell_type": "markdown",
   "metadata": {},
   "source": [
    "The CmdStanPy directory `examples/bernoulli` contains the model and data files."
   ]
  },
  {
   "cell_type": "code",
   "execution_count": 2,
   "metadata": {},
   "outputs": [
    {
     "name": "stdout",
     "output_type": "stream",
     "text": [
      "data {\n",
      "  int<lower=0> N;\n",
      "  int<lower=0,upper=1> y[N];\n",
      "}\n",
      "parameters {\n",
      "  real<lower=0,upper=1> theta;\n",
      "}\n",
      "model {\n",
      "  theta ~ beta(1,1);  // uniform prior on interval 0,1\n",
      "  y ~ bernoulli(theta);\n",
      "}\n",
      "\n"
     ]
    }
   ],
   "source": [
    "bernoulli_dir = os.path.join(cmdstan_path(), 'examples', 'bernoulli')\n",
    "bernoulli_stan = os.path.join(bernoulli_dir, 'bernoulli.stan')\n",
    "with open(bernoulli_stan, 'r') as f:\n",
    "    print(f.read())"
   ]
  },
  {
   "cell_type": "markdown",
   "metadata": {},
   "source": [
    "The `CmdStanModel` object stores the filepaths of the Stan program and the compiled executable file.  By default, if no executable file is supplied, or if the timestamp on the model file is newer than the timestamp on the executable file, the model will be compiled on instantiation."
   ]
  },
  {
   "cell_type": "code",
   "execution_count": 3,
   "metadata": {},
   "outputs": [
    {
     "name": "stderr",
     "output_type": "stream",
     "text": [
      "INFO:cmdstanpy:found newer exe file, not recompiling\n",
      "INFO:cmdstanpy:compiled model file: /Users/mitzi/.cmdstan/cmdstan-2.26.0/examples/bernoulli/bernoulli\n"
     ]
    },
    {
     "name": "stdout",
     "output_type": "stream",
     "text": [
      "CmdStanModel: name=bernoulli\n",
      "\t stan_file=/Users/mitzi/.cmdstan/cmdstan-2.26.0/examples/bernoulli/bernoulli.stan\n",
      "\t exe_file=/Users/mitzi/.cmdstan/cmdstan-2.26.0/examples/bernoulli/bernoulli\n",
      "\t compiler_options=stanc_options=None, cpp_options=None\n"
     ]
    }
   ],
   "source": [
    "bernoulli_model = CmdStanModel(stan_file=bernoulli_stan)\n",
    "print(bernoulli_model)"
   ]
  },
  {
   "cell_type": "markdown",
   "metadata": {},
   "source": [
    "### Assemble the data\n",
    "\n",
    "Input data is either a Python `Dict` with entries corresponding to input data values, or it can be a file in JSON or Rdump format.\n",
    "\n",
    "If a `Dict` is specified, CmdStanPy writes it to a temp file in JSON format."
   ]
  },
  {
   "cell_type": "code",
   "execution_count": 4,
   "metadata": {},
   "outputs": [],
   "source": [
    "bern_data = { \"N\" : 10, \"y\" : [0,1,0,0,0,0,0,0,0,1] }"
   ]
  },
  {
   "cell_type": "markdown",
   "metadata": {},
   "source": [
    "In the CmdStan `examples/bernoulli` directory, there are data files in both `JSON` and `rdump` formats."
   ]
  },
  {
   "cell_type": "code",
   "execution_count": 5,
   "metadata": {},
   "outputs": [
    {
     "name": "stdout",
     "output_type": "stream",
     "text": [
      "{\n",
      "    \"N\" : 10,\n",
      "    \"y\" : [0,1,0,0,0,0,0,0,0,1]\n",
      "}\n",
      "\n"
     ]
    }
   ],
   "source": [
    "bern_json = os.path.join(bernoulli_dir, 'bernoulli.data.json')\n",
    "with open(bern_json, 'r') as f:\n",
    "    print(f.read())"
   ]
  },
  {
   "cell_type": "markdown",
   "metadata": {},
   "source": [
    "### Do Inference\n",
    "\n",
    "The `CmdStanModel` class provides the following methods:\n",
    "\n",
    " + `sample` - run the HMC-NUTS sampler to produce a set of draws from the posterior distribution.\n",
    " + `optimize` - produce a penalized maximum likelihood estimate (point estimate) of the model parameters.\n",
    " + `variational` - run CmdStan’s variational inference algorithm to approximate the posterior distribution.\n",
    " + `generate_quantities` - run CmdStan’s generate_quantities method to produce additional quantities of interest based on each draw from an existing sample.\n",
    " \n",
    "\n",
    "In this tutorial, we run the `sample` sample method.  By default, `sample` runs 4 sampler chains."
   ]
  },
  {
   "cell_type": "code",
   "execution_count": 6,
   "metadata": {},
   "outputs": [
    {
     "name": "stderr",
     "output_type": "stream",
     "text": [
      "INFO:cmdstanpy:start chain 1\n",
      "INFO:cmdstanpy:start chain 2\n",
      "INFO:cmdstanpy:start chain 3\n",
      "INFO:cmdstanpy:start chain 4\n",
      "INFO:cmdstanpy:finish chain 1\n",
      "INFO:cmdstanpy:finish chain 2\n",
      "INFO:cmdstanpy:finish chain 3\n",
      "INFO:cmdstanpy:finish chain 4\n"
     ]
    },
    {
     "name": "stdout",
     "output_type": "stream",
     "text": [
      "CmdStanMCMC: model=bernoulli chains=4['method=sample', 'algorithm=hmc', 'adapt', 'engaged=1']\n",
      " csv_files:\n",
      "\t/var/folders/db/4jnggnf549s42z50bd61jskm0000gq/T/tmpig67uioy/bernoulli-202102041602-1-wq_k_3js.csv\n",
      "\t/var/folders/db/4jnggnf549s42z50bd61jskm0000gq/T/tmpig67uioy/bernoulli-202102041602-2-o8490c4v.csv\n",
      "\t/var/folders/db/4jnggnf549s42z50bd61jskm0000gq/T/tmpig67uioy/bernoulli-202102041602-3-4yo3tqvx.csv\n",
      "\t/var/folders/db/4jnggnf549s42z50bd61jskm0000gq/T/tmpig67uioy/bernoulli-202102041602-4-offwotv2.csv\n",
      " output_files:\n",
      "\t/var/folders/db/4jnggnf549s42z50bd61jskm0000gq/T/tmpig67uioy/bernoulli-202102041602-1-wq_k_3js-stdout.txt\n",
      "\t/var/folders/db/4jnggnf549s42z50bd61jskm0000gq/T/tmpig67uioy/bernoulli-202102041602-2-o8490c4v-stdout.txt\n",
      "\t/var/folders/db/4jnggnf549s42z50bd61jskm0000gq/T/tmpig67uioy/bernoulli-202102041602-3-4yo3tqvx-stdout.txt\n",
      "\t/var/folders/db/4jnggnf549s42z50bd61jskm0000gq/T/tmpig67uioy/bernoulli-202102041602-4-offwotv2-stdout.txt\n"
     ]
    }
   ],
   "source": [
    "bern_fit = bernoulli_model.sample(data=bern_data)\n",
    "print(bern_fit)"
   ]
  },
  {
   "cell_type": "markdown",
   "metadata": {},
   "source": [
    "### Access the sample: the `CmdStanMCMC` object attributes and methods\n",
    "\n",
    "The CmdStanMCMC class has properties and methods to access the sampler outputs and all metadata.  Accessor properties include:\n",
    "\n",
    "    + `draws`  - all draws from all chains, stored as a 3-D numpy.ndarray.\n",
    "    + `num_draws` - total number of warmup and sampling draws\n",
    "    + `chains` - number of chains run by sampler\n",
    "    + `metric`, `stepsize` - per-chain HMC tuning parameters\n",
    "    + `csv_files` - list of Stan csv output files which comprise the sample\n",
    "    \n",
    "The `draws` array is created only as needed; therefore the first time that this property is accessed, CmdStanPy parses the set of csv output files, at the same time it parses the contain stepsize and metric information.  Depending on the size of the sample and your computing environment, this may take a few seconds or more.\n",
    "\n",
    "The numpy ndarray is stored column major format so that values for each parameter are stored contiguously in memory, likewise all draws from a chain are contiguous.  Thus the dimensions of the ndarray are arranged as follows:  (draws, chains, columns)"
   ]
  },
  {
   "cell_type": "code",
   "execution_count": 7,
   "metadata": {},
   "outputs": [
    {
     "data": {
      "text/plain": [
       "(1000, 4, 8)"
      ]
     },
     "execution_count": 7,
     "metadata": {},
     "output_type": "execute_result"
    }
   ],
   "source": [
    "bern_fit.draws().shape"
   ]
  },
  {
   "cell_type": "markdown",
   "metadata": {},
   "source": [
    "#### Viewing the sample as a set of variables:  sampler variables and program variables\n",
    "\n",
    "The `CmdStanMCMC` property `draws` is a 3-D numpy ndarray which contains all draws across all chains.  \n",
    "    \n",
    "- `stan_variables` - dictionary mapping Stan program variables names to the draws for that variable.\n",
    "- `sampler_variables` - dictionary mapping the sampler variables names, (e.g., `lp__`) to the draws for that variable."
   ]
  },
  {
   "cell_type": "code",
   "execution_count": 8,
   "metadata": {},
   "outputs": [
    {
     "name": "stdout",
     "output_type": "stream",
     "text": [
      "theta (4000,)\n"
     ]
    },
    {
     "data": {
      "text/plain": [
       "<AxesSubplot:ylabel='Density'>"
      ]
     },
     "execution_count": 8,
     "metadata": {},
     "output_type": "execute_result"
    },
    {
     "data": {
      "image/png": "[encoded data removed]",
      "text/plain": [
       "<Figure size 432x288 with 1 Axes>"
      ]
     },
     "metadata": {
      "needs_background": "light"
     },
     "output_type": "display_data"
    }
   ],
   "source": [
    "%matplotlib inline\n",
    "import pandas as pd\n",
    "\n",
    "vars = bern_fit.stan_variables()\n",
    "for (k,v) in vars.items():\n",
    "    print(k, v.shape)\n",
    "\n",
    "thetas = bern_fit.stan_variable(name='theta')\n",
    "pd.DataFrame(data=thetas).plot.density()"
   ]
  },
  {
   "cell_type": "markdown",
   "metadata": {},
   "source": [
    "#### Get HMC sampler tuning parameters\n",
    "\n",
    "##### stepsize\n",
    "\n",
    "The `CmdStanMCMC` property `stepsize` property is a 1-D numpy ndarray which contains the stepsize used by the sampler for each chain.  This array is created at the same time as the `sample` and `metric` arrays are created.\n",
    "\n",
    "At the end of adaptation, the stepsize for the 4 chains in this example is:"
   ]
  },
  {
   "cell_type": "code",
   "execution_count": 9,
   "metadata": {},
   "outputs": [
    {
     "data": {
      "text/plain": [
       "array([0.938294, 1.06715 , 1.11832 , 0.82201 ])"
      ]
     },
     "execution_count": 9,
     "metadata": {},
     "output_type": "execute_result"
    }
   ],
   "source": [
    "bern_fit.stepsize"
   ]
  },
  {
   "cell_type": "markdown",
   "metadata": {},
   "source": [
    "#### metric_type, metric\n",
    "\n",
    "The `metric` property is an numpy ndarray which contains the metric used by the sampler for each chain.  This array is created at the same time as the `sample` and `stepsize` arrays are created.\n",
    "\n",
    "At the end of adaptation, the metric for the 4 chains in this example is:"
   ]
  },
  {
   "cell_type": "code",
   "execution_count": 10,
   "metadata": {},
   "outputs": [
    {
     "data": {
      "text/plain": [
       "('diag_e',\n",
       " array([[0.616921],\n",
       "        [0.419509],\n",
       "        [0.406662],\n",
       "        [0.554869]]))"
      ]
     },
     "execution_count": 10,
     "metadata": {},
     "output_type": "execute_result"
    }
   ],
   "source": [
    "bern_fit.metric_type,  bern_fit.metric"
   ]
  },
  {
   "cell_type": "markdown",
   "metadata": {},
   "source": [
    "#### Summarize the results\n",
    "\n",
    "The `CmdStanMCMC` method `summary` returns output of CmdStan `bin/stansummary` as a pandas.DataFrame which contains\n",
    "estimates of posterior means, standard deviations, Monte-Carlo standard error, effective sample size, and convergence diagnostic statistic for both the reported sampler parameters and all parameters, transformed parameters, and generated quantities variables:"
   ]
  },
  {
   "cell_type": "code",
   "execution_count": 11,
   "metadata": {},
   "outputs": [
    {
     "data": {
      "text/html": [
       "<div>\n",
       "<style scoped>\n",
       "    .dataframe tbody tr th:only-of-type {\n",
       "        vertical-align: middle;\n",
       "    }\n",
       "\n",
       "    .dataframe tbody tr th {\n",
       "        vertical-align: top;\n",
       "    }\n",
       "\n",
       "    .dataframe thead th {\n",
       "        text-align: right;\n",
       "    }\n",
       "</style>\n",
       "<table border=\"1\" class=\"dataframe\">\n",
       "  <thead>\n",
       "    <tr style=\"text-align: right;\">\n",
       "      <th></th>\n",
       "      <th>Mean</th>\n",
       "      <th>MCSE</th>\n",
       "      <th>StdDev</th>\n",
       "      <th>5%</th>\n",
       "      <th>50%</th>\n",
       "      <th>95%</th>\n",
       "      <th>N_Eff</th>\n",
       "      <th>N_Eff/s</th>\n",
       "      <th>R_hat</th>\n",
       "    </tr>\n",
       "    <tr>\n",
       "      <th>name</th>\n",
       "      <th></th>\n",
       "      <th></th>\n",
       "      <th></th>\n",
       "      <th></th>\n",
       "      <th></th>\n",
       "      <th></th>\n",
       "      <th></th>\n",
       "      <th></th>\n",
       "      <th></th>\n",
       "    </tr>\n",
       "  </thead>\n",
       "  <tbody>\n",
       "    <tr>\n",
       "      <th>lp__</th>\n",
       "      <td>-7.30</td>\n",
       "      <td>0.0170</td>\n",
       "      <td>0.70</td>\n",
       "      <td>-8.700</td>\n",
       "      <td>-7.00</td>\n",
       "      <td>-6.80</td>\n",
       "      <td>1700.0</td>\n",
       "      <td>33000.0</td>\n",
       "      <td>1.0</td>\n",
       "    </tr>\n",
       "    <tr>\n",
       "      <th>theta</th>\n",
       "      <td>0.25</td>\n",
       "      <td>0.0032</td>\n",
       "      <td>0.12</td>\n",
       "      <td>0.081</td>\n",
       "      <td>0.24</td>\n",
       "      <td>0.47</td>\n",
       "      <td>1300.0</td>\n",
       "      <td>26000.0</td>\n",
       "      <td>1.0</td>\n",
       "    </tr>\n",
       "  </tbody>\n",
       "</table>\n",
       "</div>"
      ],
      "text/plain": [
       "       Mean    MCSE  StdDev     5%   50%   95%   N_Eff  N_Eff/s  R_hat\n",
       "name                                                                  \n",
       "lp__  -7.30  0.0170    0.70 -8.700 -7.00 -6.80  1700.0  33000.0    1.0\n",
       "theta  0.25  0.0032    0.12  0.081  0.24  0.47  1300.0  26000.0    1.0"
      ]
     },
     "execution_count": 11,
     "metadata": {},
     "output_type": "execute_result"
    }
   ],
   "source": [
    "bern_fit.summary()"
   ]
  },
  {
   "cell_type": "markdown",
   "metadata": {},
   "source": [
    "#### Run sampler diagnostics\n",
    "\n",
    "The `CmdStanMCMC` method `diagnose` prints the output of CmdStan bin/stansummary to the console.  This is useful when the summary report shows `R_hat` values outside of the range of .99 to 1.01, or the number of effective samples (`N_eff` value) is below 5% of the total draws in the sample. \n",
    "\n",
    "\n",
    "   + The `CmdStanMCMC` class method `diagnose` invokes CmdStan's `diagnose` utility which checks for the following problems:\n",
    "    + transitions that hit the maximum treedepth\n",
    "    + divergent transitions\n",
    "    + low E-BFMI values (sampler transitions HMC potential energy)\n",
    "    + low effective sample sizes\n",
    "    + high R-hat values\n",
    "   + See the Stan reference manual section on [posterior analysis](https://mc-stan.org/docs/reference-manual/analysis-chapter.html) for further details.\n",
    "\n"
   ]
  },
  {
   "cell_type": "code",
   "execution_count": 12,
   "metadata": {},
   "outputs": [
    {
     "name": "stderr",
     "output_type": "stream",
     "text": [
      "INFO:cmdstanpy:Processing csv files: /var/folders/db/4jnggnf549s42z50bd61jskm0000gq/T/tmpig67uioy/bernoulli-202102041602-1-wq_k_3js.csv, /var/folders/db/4jnggnf549s42z50bd61jskm0000gq/T/tmpig67uioy/bernoulli-202102041602-2-o8490c4v.csv, /var/folders/db/4jnggnf549s42z50bd61jskm0000gq/T/tmpig67uioy/bernoulli-202102041602-3-4yo3tqvx.csv, /var/folders/db/4jnggnf549s42z50bd61jskm0000gq/T/tmpig67uioy/bernoulli-202102041602-4-offwotv2.csv\n",
      "\n",
      "Checking sampler transitions treedepth.\n",
      "Treedepth satisfactory for all transitions.\n",
      "\n",
      "Checking sampler transitions for divergences.\n",
      "No divergent transitions found.\n",
      "\n",
      "Checking E-BFMI - sampler transitions HMC potential energy.\n",
      "E-BFMI satisfactory for all transitions.\n",
      "\n",
      "Effective sample size satisfactory.\n",
      "\n",
      "Split R-hat values satisfactory all parameters.\n",
      "\n",
      "Processing complete, no problems detected.\n"
     ]
    },
    {
     "data": {
      "text/plain": [
       "'Processing csv files: /var/folders/db/4jnggnf549s42z50bd61jskm0000gq/T/tmpig67uioy/bernoulli-202102041602-1-wq_k_3js.csv, /var/folders/db/4jnggnf549s42z50bd61jskm0000gq/T/tmpig67uioy/bernoulli-202102041602-2-o8490c4v.csv, /var/folders/db/4jnggnf549s42z50bd61jskm0000gq/T/tmpig67uioy/bernoulli-202102041602-3-4yo3tqvx.csv, /var/folders/db/4jnggnf549s42z50bd61jskm0000gq/T/tmpig67uioy/bernoulli-202102041602-4-offwotv2.csv\\n\\nChecking sampler transitions treedepth.\\nTreedepth satisfactory for all transitions.\\n\\nChecking sampler transitions for divergences.\\nNo divergent transitions found.\\n\\nChecking E-BFMI - sampler transitions HMC potential energy.\\nE-BFMI satisfactory for all transitions.\\n\\nEffective sample size satisfactory.\\n\\nSplit R-hat values satisfactory all parameters.\\n\\nProcessing complete, no problems detected.'"
      ]
     },
     "execution_count": 12,
     "metadata": {},
     "output_type": "execute_result"
    }
   ],
   "source": [
    "bern_fit.diagnose()"
   ]
  }
 ],
 "metadata": {
  "kernelspec": {
   "display_name": "Python 3",
   "language": "python",
   "name": "python3"
  },
  "language_info": {
   "codemirror_mode": {
    "name": "ipython",
    "version": 3
   },
   "file_extension": ".py",
   "mimetype": "text/x-python",
   "name": "python",
   "nbconvert_exporter": "python",
   "pygments_lexer": "ipython3",
   "version": "3.8.5"
  }
 },
 "nbformat": 4,
 "nbformat_minor": 2
}
