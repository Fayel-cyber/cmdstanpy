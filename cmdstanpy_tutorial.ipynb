{
 "cells": [
  {
   "cell_type": "markdown",
   "metadata": {},
   "source": [
    "# CmdStanPy Tutorial\n",
    "\n",
    "\n",
    "### Workflow Outline\n",
    "\n",
    "Given a dataset and a model specification written as a Stan program, the CmdStanPy workflow is:\n",
    "\n",
    "#### Assemble input data as either:\n",
    "  + A Python `dict` object consisting of key-value pairs where the key corresponds\n",
    " to Stan data variables and the value is of the correct type and shape.\n",
    "  + An existing data file on disk in either JSON or Rdump format.\n",
    "\n",
    "#### Compile Stan program: function `compile_model`\n",
    "  + Takes as input a Stan program and produces the corresponding c++ executable.\n",
    "  + Returns `Model` object which wraps program, c++ executable filenames or raises exception.\n",
    "  + Both Stan program and c++ executable stored on disk.\n",
    "\n",
    "#### Run sampler: function `sample`\n",
    "  + Invokes Stan's NUTS-HMC sampler to condition model on input data, produces output csv files.\n",
    "  + Creates lightweight object `RunSet` which wraps sampler arguments, per-chain outcome, output files.\n",
    "  + Runs any number of chains - default is 4 chains.\n",
    "  + Validates that all chains run to completion, produce expected number of draws.\n",
    "  + Returns `RunSet` if sample is valid, else raises exception.\n",
    "\n",
    "#### Assemble fit in-memory: function `get_drawset`\n",
    "  + Sampler output consists of csv files\n",
    "  + `RunSet` method `assemble_sample` reads sampler output csv files into 3-D numpy ndarray (draws, chains, columns)\n",
    "  + Function `get_drawset` flattens chains, returns a pandas DataFrame one row per draw, one column per parameters.\n",
    "  + `get_drawset` argument `params` filters DataFrame columns by list of parameter names.\n",
    "\n",
    "#### Summarize posterior fit:  function `summary`\n",
    "  + Invokes CmdStan's `bin/stansummary` utility\n",
    "  + Returns a Pandas DataFrame with estimates of posterior means, standard deviations, Monte-Carlo standard error, effective sample size, and convergence diagnostic statistic for all parameters in the model.\n",
    "\n",
    "#### Check for problems: function `diagnose`\n",
    "  + Invokes CmdStan's `bin/diagnose` utility\n",
    "  + Prints output to console\n",
    "  + Checks for following problems:\n",
    "    + transitions that hit the maximum treedepth\n",
    "    + divergent transitions\n",
    "    + low E-BFMI values (sampler transitions HMC potential energy)\n",
    "    + low effective sample sizes\n",
    "    + high R-hat values\n"
   ]
  },
  {
   "cell_type": "markdown",
   "metadata": {},
   "source": [
    "### Installation\n",
    "\n",
    "* Install Python package from PyPI or directly from GitHub:\n",
    "\n",
    "  + `pip install --upgrade cmdstanpy`\n",
    "  + `pip install -e git+https://github.com/stan-dev/cmdstanpy`\n",
    "\n",
    "\n",
    "* CmdStanPy uses CmdStan directly to compile and run Stan programs, therefore CmdStan must be installed locally.\n",
    "\n",
    "  + if you have a working installation of CmdStan, set environment variable `CMDSTAN` to the full path to the top-level CmdStan directory.\n",
    "  \n",
    "  + if you don't already have CmdStan installed, run Python script `install_cmdstan` which downloads and compiles the latest release from https://github.com/stan-dev/cmdstan/releases.  By default this installs the latest version of CmdStan in the location `~/.cmdstanpy`.  Flags -d and -v are used to specify the directory and version, respectively.\n"
   ]
  },
  {
   "cell_type": "markdown",
   "metadata": {},
   "source": [
    "### Example 1:  Compile and run CmdStan example model `bernoulli.stan`, data `bernoulli.data.json`\n",
    "\n",
    "Every CmdStan release has an `examples/bernoulli` directory which contains the Stan model and test data files.  In this example we compile the model and run the sampler on the model and data."
   ]
  },
  {
   "cell_type": "markdown",
   "metadata": {},
   "source": [
    "##### Import relevant classes and methods"
   ]
  },
  {
   "cell_type": "code",
   "execution_count": 1,
   "metadata": {},
   "outputs": [],
   "source": [
    "import os\n",
    "import os.path\n",
    "from cmdstanpy import cmdstan_path, compile_model, sample, get_drawset, summary, diagnose"
   ]
  },
  {
   "cell_type": "markdown",
   "metadata": {},
   "source": [
    "##### Compile model, specify data or data file"
   ]
  },
  {
   "cell_type": "markdown",
   "metadata": {},
   "source": [
    "The CmdStanPy directory `examples/bernoulli` contains the model and data files."
   ]
  },
  {
   "cell_type": "code",
   "execution_count": 5,
   "metadata": {},
   "outputs": [],
   "source": [
    "bernoulli_path = os.path.join(cmdstan_path(), 'examples', 'bernoulli')\n",
    "bernoulli_stan = os.path.join(bernoulli_path, 'bernoulli.stan')"
   ]
  },
  {
   "cell_type": "markdown",
   "metadata": {},
   "source": [
    "The `compile_model` functions compiles the Stan program and returns a `Model` object."
   ]
  },
  {
   "cell_type": "code",
   "execution_count": 7,
   "metadata": {},
   "outputs": [
    {
     "name": "stdout",
     "output_type": "stream",
     "text": [
      "Model(name=bernoulli,  stan_file=\"/Users/mitzi/.cmdstanpy/cmdstan-2.19.1/examples/bernoulli/bernoulli.stan\", exe_file=\"/Users/mitzi/.cmdstanpy/cmdstan-2.19.1/examples/bernoulli/bernoulli\")\n"
     ]
    }
   ],
   "source": [
    "bernoulli_model = compile_model(bernoulli_stan)\n",
    "print(bernoulli_model)"
   ]
  },
  {
   "cell_type": "markdown",
   "metadata": {},
   "source": [
    "Input data is either a Python `Dict` with entries corresponding to input data values, or it can be a file in JSON or Rdump format."
   ]
  },
  {
   "cell_type": "code",
   "execution_count": 8,
   "metadata": {},
   "outputs": [],
   "source": [
    "bern_json = os.path.join(bernoulli_path, 'bernoulli.data.json')"
   ]
  },
  {
   "cell_type": "markdown",
   "metadata": {},
   "source": [
    "If a `Dict` is specified, CmdStanPy writes it to a temp file in JSON format."
   ]
  },
  {
   "cell_type": "code",
   "execution_count": 9,
   "metadata": {},
   "outputs": [],
   "source": [
    "bern_data = { \"N\" : 10, \"y\" : [0,1,0,0,0,0,0,0,0,1] }"
   ]
  },
  {
   "cell_type": "markdown",
   "metadata": {},
   "source": [
    "##### Run the HMC-NUTS sampler on the model and data"
   ]
  },
  {
   "cell_type": "markdown",
   "metadata": {},
   "source": [
    "The `sample` function runs the NUTS-HMC sampler and returns a `RunSet` object."
   ]
  },
  {
   "cell_type": "code",
   "execution_count": 28,
   "metadata": {},
   "outputs": [
    {
     "name": "stdout",
     "output_type": "stream",
     "text": [
      "input data tempfile: /var/folders/sc/0f0wdc_11_xgjs2v52g20fvr0000gn/T/tmpggqfg6d4/tmpjvatu0sj.json\n",
      "start chain 1.  \n",
      "finish chain 1.  \n",
      "start chain 2.  \n",
      "finish chain 2.  \n",
      "start chain 3.  \n",
      "finish chain 3.  \n",
      "start chain 4.  \n",
      "finish chain 4.  \n"
     ]
    }
   ],
   "source": [
    "bern_fit = sample(bernoulli_model, data=bern_data)"
   ]
  },
  {
   "cell_type": "markdown",
   "metadata": {},
   "source": [
    "By default, the sample function runs 4 sampler chains.  The `chains` argument specifies the number of chains to run.  The `cores` argument specifies the number of processes to run in parallel."
   ]
  },
  {
   "cell_type": "code",
   "execution_count": 29,
   "metadata": {},
   "outputs": [
    {
     "name": "stdout",
     "output_type": "stream",
     "text": [
      "input data tempfile: /var/folders/sc/0f0wdc_11_xgjs2v52g20fvr0000gn/T/tmpggqfg6d4/tmp0f38xgj5.json\n",
      "start chain 1.  start chain 2.  start chain 3.  \n",
      "\n",
      "\n",
      "finish chain 3.  \n",
      "start chain 4.  \n",
      "finish chain 1.  \n",
      "finish chain 2.  start chain 5.  \n",
      "\n",
      "finish chain 4.  \n",
      "finish chain 5.  \n"
     ]
    }
   ],
   "source": [
    "bern_fit = sample(bernoulli_model, chains=5, cores=3, data=bern_data)"
   ]
  },
  {
   "cell_type": "markdown",
   "metadata": {},
   "source": [
    "##### Summarize or save the results"
   ]
  },
  {
   "cell_type": "markdown",
   "metadata": {},
   "source": [
    "The `summary` function returns output of CmdStan bin/stansummary as pandas.DataFrame:"
   ]
  },
  {
   "cell_type": "code",
   "execution_count": 30,
   "metadata": {},
   "outputs": [
    {
     "data": {
      "text/html": [
       "<div>\n",
       "<style scoped>\n",
       "    .dataframe tbody tr th:only-of-type {\n",
       "        vertical-align: middle;\n",
       "    }\n",
       "\n",
       "    .dataframe tbody tr th {\n",
       "        vertical-align: top;\n",
       "    }\n",
       "\n",
       "    .dataframe thead th {\n",
       "        text-align: right;\n",
       "    }\n",
       "</style>\n",
       "<table border=\"1\" class=\"dataframe\">\n",
       "  <thead>\n",
       "    <tr style=\"text-align: right;\">\n",
       "      <th></th>\n",
       "      <th>Mean</th>\n",
       "      <th>MCSE</th>\n",
       "      <th>StdDev</th>\n",
       "      <th>5%</th>\n",
       "      <th>50%</th>\n",
       "      <th>95%</th>\n",
       "      <th>N_Eff</th>\n",
       "      <th>N_Eff/s</th>\n",
       "      <th>R_hat</th>\n",
       "    </tr>\n",
       "    <tr>\n",
       "      <th>name</th>\n",
       "      <th></th>\n",
       "      <th></th>\n",
       "      <th></th>\n",
       "      <th></th>\n",
       "      <th></th>\n",
       "      <th></th>\n",
       "      <th></th>\n",
       "      <th></th>\n",
       "      <th></th>\n",
       "    </tr>\n",
       "  </thead>\n",
       "  <tbody>\n",
       "    <tr>\n",
       "      <th>lp__</th>\n",
       "      <td>-7.261820</td>\n",
       "      <td>0.018652</td>\n",
       "      <td>0.757622</td>\n",
       "      <td>-8.702790</td>\n",
       "      <td>-6.978630</td>\n",
       "      <td>-6.749400</td>\n",
       "      <td>1649.96</td>\n",
       "      <td>9970.79</td>\n",
       "      <td>1.00165</td>\n",
       "    </tr>\n",
       "    <tr>\n",
       "      <th>theta</th>\n",
       "      <td>0.250187</td>\n",
       "      <td>0.002734</td>\n",
       "      <td>0.119040</td>\n",
       "      <td>0.082719</td>\n",
       "      <td>0.237129</td>\n",
       "      <td>0.467633</td>\n",
       "      <td>1895.30</td>\n",
       "      <td>11453.40</td>\n",
       "      <td>1.00041</td>\n",
       "    </tr>\n",
       "  </tbody>\n",
       "</table>\n",
       "</div>"
      ],
      "text/plain": [
       "           Mean      MCSE    StdDev        5%       50%       95%    N_Eff  \\\n",
       "name                                                                         \n",
       "lp__  -7.261820  0.018652  0.757622 -8.702790 -6.978630 -6.749400  1649.96   \n",
       "theta  0.250187  0.002734  0.119040  0.082719  0.237129  0.467633  1895.30   \n",
       "\n",
       "        N_Eff/s    R_hat  \n",
       "name                      \n",
       "lp__    9970.79  1.00165  \n",
       "theta  11453.40  1.00041  "
      ]
     },
     "execution_count": 30,
     "metadata": {},
     "output_type": "execute_result"
    }
   ],
   "source": [
    "summary(bern_fit)"
   ]
  },
  {
   "cell_type": "markdown",
   "metadata": {},
   "source": [
    "The `diagnose` function prints diagnostics to console:"
   ]
  },
  {
   "cell_type": "code",
   "execution_count": 31,
   "metadata": {},
   "outputs": [
    {
     "name": "stdout",
     "output_type": "stream",
     "text": [
      "No problems detected.\n"
     ]
    }
   ],
   "source": [
    "diagnose(bern_fit)"
   ]
  },
  {
   "cell_type": "markdown",
   "metadata": {},
   "source": [
    "The `get_drawset` function returns a pandas.DataFrame, one draw per row."
   ]
  },
  {
   "cell_type": "code",
   "execution_count": 32,
   "metadata": {},
   "outputs": [],
   "source": [
    "bern_drawset = get_drawset(bern_fit)"
   ]
  },
  {
   "cell_type": "markdown",
   "metadata": {},
   "source": [
    "By default, `get_drawset` returns a DataFrame which contains all columns from the sampler's csv output file, i.e., it contains both the sampler state and the values for all parameter, transformed parameter, and generated quantities variables."
   ]
  },
  {
   "cell_type": "code",
   "execution_count": 33,
   "metadata": {},
   "outputs": [
    {
     "data": {
      "text/plain": [
       "((5000, 8),\n",
       " Index(['lp__', 'accept_stat__', 'stepsize__', 'treedepth__', 'n_leapfrog__',\n",
       "        'divergent__', 'energy__', 'theta'],\n",
       "       dtype='object'))"
      ]
     },
     "execution_count": 33,
     "metadata": {},
     "output_type": "execute_result"
    }
   ],
   "source": [
    "bern_drawset.shape, bern_drawset.columns"
   ]
  },
  {
   "cell_type": "markdown",
   "metadata": {},
   "source": [
    "The `get_drawset` function argument `params` takes a list of parameter or column names:"
   ]
  },
  {
   "cell_type": "code",
   "execution_count": 34,
   "metadata": {},
   "outputs": [
    {
     "data": {
      "text/plain": [
       "(5000, 1)"
      ]
     },
     "execution_count": 34,
     "metadata": {},
     "output_type": "execute_result"
    }
   ],
   "source": [
    "thetas = get_drawset(bern_fit, params=['theta'])\n",
    "thetas.shape\n"
   ]
  },
  {
   "cell_type": "code",
   "execution_count": 35,
   "metadata": {},
   "outputs": [
    {
     "data": {
      "text/html": [
       "<div>\n",
       "<style scoped>\n",
       "    .dataframe tbody tr th:only-of-type {\n",
       "        vertical-align: middle;\n",
       "    }\n",
       "\n",
       "    .dataframe tbody tr th {\n",
       "        vertical-align: top;\n",
       "    }\n",
       "\n",
       "    .dataframe thead th {\n",
       "        text-align: right;\n",
       "    }\n",
       "</style>\n",
       "<table border=\"1\" class=\"dataframe\">\n",
       "  <thead>\n",
       "    <tr style=\"text-align: right;\">\n",
       "      <th></th>\n",
       "      <th>theta</th>\n",
       "    </tr>\n",
       "  </thead>\n",
       "  <tbody>\n",
       "    <tr>\n",
       "      <th>0</th>\n",
       "      <td>0.177184</td>\n",
       "    </tr>\n",
       "    <tr>\n",
       "      <th>1</th>\n",
       "      <td>0.171893</td>\n",
       "    </tr>\n",
       "    <tr>\n",
       "      <th>2</th>\n",
       "      <td>0.551869</td>\n",
       "    </tr>\n",
       "  </tbody>\n",
       "</table>\n",
       "</div>"
      ],
      "text/plain": [
       "      theta\n",
       "0  0.177184\n",
       "1  0.171893\n",
       "2  0.551869"
      ]
     },
     "execution_count": 35,
     "metadata": {},
     "output_type": "execute_result"
    }
   ],
   "source": [
    "thetas[0:3]"
   ]
  },
  {
   "cell_type": "code",
   "execution_count": 36,
   "metadata": {},
   "outputs": [
    {
     "data": {
      "text/plain": [
       "<matplotlib.axes._subplots.AxesSubplot at 0x1182f1da0>"
      ]
     },
     "execution_count": 36,
     "metadata": {},
     "output_type": "execute_result"
    },
    {
     "data": {
      "image/png": "[encoded data removed]",
      "text/plain": [
       "<Figure size 432x288 with 1 Axes>"
      ]
     },
     "metadata": {
      "needs_background": "light"
     },
     "output_type": "display_data"
    }
   ],
   "source": [
    "bern_drawset.theta.plot.density()"
   ]
  },
  {
   "cell_type": "markdown",
   "metadata": {},
   "source": [
    "### Access to sampler output via `RunSet ` methods and attributes\n",
    "\n",
    "#### sample\n",
    "\n",
    "The `sample` property is a 3-D numpy ndarray which contains all draws across all chains.  This array is created only as needed; therefore the first time that this property is accessed CmdStanPy will read in the contents of the sampler's csv output files.  Because the csv output files also contain stepsize and metric information, the `stepsize` and `metric` arrays will also be created.\n",
    "\n",
    "The ndarray is stored column major format so that values for each parameter are stored contiguously in memory, likewise all draws from a chain are contiguous.  Thus the dimensions of the ndarray are arranged as follows:  (draws, chains, columns):"
   ]
  },
  {
   "cell_type": "code",
   "execution_count": 37,
   "metadata": {},
   "outputs": [
    {
     "data": {
      "text/plain": [
       "(1000, 5, 8)"
      ]
     },
     "execution_count": 37,
     "metadata": {},
     "output_type": "execute_result"
    }
   ],
   "source": [
    "bern_fit.sample\n",
    "bern_fit.sample.shape"
   ]
  },
  {
   "cell_type": "markdown",
   "metadata": {},
   "source": [
    "Python's index slicing operations can be used to access the information by chain.\n",
    "For example, to select all draws and all output columns from the first chain,\n",
    "we specify the chain index (2nd index dimension).  As arrays indexing starts at 0,\n",
    "the index '0' corresponds to the first chain in the ``RunSet``.\n",
    "\n",
    "The following expression selects the first 3 draws from chain 1 for the parameter `theta`:"
   ]
  },
  {
   "cell_type": "code",
   "execution_count": 38,
   "metadata": {},
   "outputs": [
    {
     "data": {
      "text/plain": [
       "('theta', array([0.177184, 0.171893, 0.551869]))"
      ]
     },
     "execution_count": 38,
     "metadata": {},
     "output_type": "execute_result"
    }
   ],
   "source": [
    "bern_fit.column_names[7], bern_fit.sample[0:3,0,7]"
   ]
  },
  {
   "cell_type": "markdown",
   "metadata": {},
   "source": [
    "#### stepsize\n",
    "\n",
    "The `stepsize` property is a 1-D numpy ndarray which contains the stepsize used by the sampler for each chain.  This array is created at the same time as the `sample` and `metric` arrays are created.\n",
    "\n",
    "At the end of adaptation, the stepsize for the 4 chains in this example is:"
   ]
  },
  {
   "cell_type": "code",
   "execution_count": 39,
   "metadata": {},
   "outputs": [
    {
     "data": {
      "text/plain": [
       "array([1.39734 , 1.27207 , 0.956467, 0.804156, 0.867051])"
      ]
     },
     "execution_count": 39,
     "metadata": {},
     "output_type": "execute_result"
    }
   ],
   "source": [
    "bern_fit.stepsize"
   ]
  },
  {
   "cell_type": "markdown",
   "metadata": {},
   "source": [
    "#### metric_type, metric\n",
    "\n",
    "The `metric` property is an numpy ndarray which contains the metric used by the sampler for each chain.  This array is created at the same time as the `sample` and `stepsize` arrays are created.\n",
    "\n",
    "At the end of adaptation, the metric for the 4 chains in this example is:"
   ]
  },
  {
   "cell_type": "code",
   "execution_count": 40,
   "metadata": {},
   "outputs": [
    {
     "data": {
      "text/plain": [
       "('diag_e', array([[0.444845],\n",
       "        [0.441921],\n",
       "        [0.609734],\n",
       "        [0.610979],\n",
       "        [0.566994]]))"
      ]
     },
     "execution_count": 40,
     "metadata": {},
     "output_type": "execute_result"
    }
   ],
   "source": [
    "bern_fit.metric_type,  bern_fit.metric"
   ]
  },
  {
   "cell_type": "code",
   "execution_count": null,
   "metadata": {},
   "outputs": [],
   "source": []
  }
 ],
 "metadata": {
  "kernelspec": {
   "display_name": "Python 3",
   "language": "python",
   "name": "python3"
  },
  "language_info": {
   "codemirror_mode": {
    "name": "ipython",
    "version": 3
   },
   "file_extension": ".py",
   "mimetype": "text/x-python",
   "name": "python",
   "nbconvert_exporter": "python",
   "pygments_lexer": "ipython3",
   "version": "3.7.0"
  }
 },
 "nbformat": 4,
 "nbformat_minor": 2
}
