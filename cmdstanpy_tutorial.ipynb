{
 "cells": [
  {
   "cell_type": "markdown",
   "metadata": {},
   "source": [
    "# CmdStanPy Tutorial\n",
    "\n",
    "\n",
    "### Workflow Outline\n",
    "\n",
    "Given a dataset and a model specification written as a Stan program, the CmdStanPy workflow is:\n",
    "\n",
    "#### Assemble input data as either:\n",
    "  + a Python `dict` object consisting of key-value pairs where the key corresponds\n",
    " to Stan data variables and the value is of the correct type and shape.\n",
    "  + an existing data file on disk in either JSON or Rdump format.\n",
    "  + CmdStanPy provides methods for converting former to latter.\n",
    "\n",
    "\n",
    "\n",
    "\n",
    "#### Compile Stan program - function `compile_model`\n",
    "  + takes as input a Stan program and produces the corresponding c++ executable.\n",
    "  + both Stan program and c++ executable exist as on-disk files\n",
    "\n",
    "#### Assemble input data as either:\n",
    "  + a Python `dict` object consisting of key-value pairs where the key corresponds\n",
    " to Stan data variables and the value is of the correct type and shape.\n",
    "  + an existing data file on disk in either JSON or Rdump format.\n",
    "\n",
    "#### Run sampler - function `sample`\n",
    "  + invokes Stan's NUTS-HMC sampler to condition model on input data, produces output csv files\n",
    "  + runs any number of chains - should run at least 2 (default)\n",
    "  + lightweight object `RunSet` keeps track of sampler arguments, per-chain outcome, output files\n",
    "  + returns `PosteriorSample` object which contains information about sample\n",
    "\n",
    "#### Analyze resulting `PosteriorSample`\n",
    "  + `PosteriorSample` contains names of csv output files, names of csv column headers\n",
    "  + attribute `sample` assembles in-memory sample from csv files\n",
    "  + methods `summary` and `diagnose` invoke CmdStan tools `bin/stansummary` and `bin/diagnose` respectively\n"
   ]
  },
  {
   "cell_type": "markdown",
   "metadata": {},
   "source": [
    "### Installation\n",
    "\n",
    "* Download this repo from GitHub\n",
    "\n",
    "* run script `make_cmdstan.sh` - (need equivalent for Windows) - this installs and builds cmdstan in subdirectory `releases`\n",
    "\n",
    "\n"
   ]
  },
  {
   "cell_type": "markdown",
   "metadata": {},
   "source": [
    "### Example 1:  example model `bernoulli.stan`, data `bernoulli.data.json`\n",
    "\n",
    "Import relevant classes and methods\n"
   ]
  },
  {
   "cell_type": "code",
   "execution_count": 1,
   "metadata": {},
   "outputs": [],
   "source": [
    "import os\n",
    "import os.path\n",
    "from cmdstanpy.lib import Model, PosteriorSample\n",
    "from cmdstanpy.cmds import compile_model, sample\n"
   ]
  },
  {
   "cell_type": "markdown",
   "metadata": {},
   "source": [
    "The CmdStanPy directory `test/data` contains test data and models\n"
   ]
  },
  {
   "cell_type": "code",
   "execution_count": 2,
   "metadata": {},
   "outputs": [],
   "source": [
    "datafiles_path = os.path.expanduser(\n",
    "    os.path.join(\"~\", \"github\", \"stan-dev\", \"cmdstanpy\", \"test\", \"files-data\"))\n",
    "stan = os.path.join(datafiles_path, \"bernoulli.stan\")\n",
    "jdata = os.path.join(datafiles_path, \"bernoulli.data.json\")"
   ]
  },
  {
   "cell_type": "markdown",
   "metadata": {},
   "source": [
    "Call `compile_model` with path to Stan program, returns `Model` object `bernoulli_model`"
   ]
  },
  {
   "cell_type": "code",
   "execution_count": 3,
   "metadata": {},
   "outputs": [
    {
     "name": "stdout",
     "output_type": "stream",
     "text": [
      "Model(name=bernoulli,  stan_file=\"/Users/mitzi/github/stan-dev/cmdstanpy/test/files-data/bernoulli.stan\", exe_file=\"/Users/mitzi/github/stan-dev/cmdstanpy/test/files-data/bernoulli\")\n"
     ]
    }
   ],
   "source": [
    "bernoulli_model = compile_model(stan)\n",
    "print(bernoulli_model)"
   ]
  },
  {
   "cell_type": "markdown",
   "metadata": {},
   "source": [
    "Call `sample` to run NUTS-HMC sampler, returns `PosteriorSample` object `a_sample`"
   ]
  },
  {
   "cell_type": "code",
   "execution_count": 4,
   "metadata": {},
   "outputs": [
    {
     "name": "stdout",
     "output_type": "stream",
     "text": [
      "start chain 1.  start chain 2.  \n",
      "\n",
      "finish chain 1.  \n",
      "start chain 3.  \n",
      "finish chain 2.  \n",
      "start chain 4.  \n",
      "finish chain 3.  \n",
      "finish chain 4.  \n"
     ]
    }
   ],
   "source": [
    "a_sample = sample(bernoulli_model, chains=4, cores=2, data_file=jdata)"
   ]
  },
  {
   "cell_type": "code",
   "execution_count": 5,
   "metadata": {},
   "outputs": [
    {
     "name": "stdout",
     "output_type": "stream",
     "text": [
      "PosteriorSample(chains=4,  draws=1000, columns=8)\n"
     ]
    }
   ],
   "source": [
    "print(a_sample)"
   ]
  },
  {
   "cell_type": "markdown",
   "metadata": {},
   "source": [
    "### `PosteriorSample` object functions and attributes\n",
    "\n",
    "#### PosteriorSample.summary()\n",
    "\n",
    "The `summary` function returns output of CmdStan bin/stansummary as pandas.DataFrame:"
   ]
  },
  {
   "cell_type": "code",
   "execution_count": 6,
   "metadata": {},
   "outputs": [
    {
     "data": {
      "text/html": [
       "<div>\n",
       "<style scoped>\n",
       "    .dataframe tbody tr th:only-of-type {\n",
       "        vertical-align: middle;\n",
       "    }\n",
       "\n",
       "    .dataframe tbody tr th {\n",
       "        vertical-align: top;\n",
       "    }\n",
       "\n",
       "    .dataframe thead th {\n",
       "        text-align: right;\n",
       "    }\n",
       "</style>\n",
       "<table border=\"1\" class=\"dataframe\">\n",
       "  <thead>\n",
       "    <tr style=\"text-align: right;\">\n",
       "      <th></th>\n",
       "      <th>Mean</th>\n",
       "      <th>MCSE</th>\n",
       "      <th>StdDev</th>\n",
       "      <th>5%</th>\n",
       "      <th>50%</th>\n",
       "      <th>95%</th>\n",
       "      <th>N_Eff</th>\n",
       "      <th>N_Eff/s</th>\n",
       "      <th>R_hat</th>\n",
       "    </tr>\n",
       "    <tr>\n",
       "      <th>name</th>\n",
       "      <th></th>\n",
       "      <th></th>\n",
       "      <th></th>\n",
       "      <th></th>\n",
       "      <th></th>\n",
       "      <th></th>\n",
       "      <th></th>\n",
       "      <th></th>\n",
       "      <th></th>\n",
       "    </tr>\n",
       "  </thead>\n",
       "  <tbody>\n",
       "    <tr>\n",
       "      <th>lp__</th>\n",
       "      <td>-7.285420</td>\n",
       "      <td>0.021507</td>\n",
       "      <td>0.787724</td>\n",
       "      <td>-8.874360</td>\n",
       "      <td>-6.977620</td>\n",
       "      <td>-6.749920</td>\n",
       "      <td>1341.47</td>\n",
       "      <td>11473.9</td>\n",
       "      <td>1.001580</td>\n",
       "    </tr>\n",
       "    <tr>\n",
       "      <th>theta</th>\n",
       "      <td>0.252152</td>\n",
       "      <td>0.003159</td>\n",
       "      <td>0.121252</td>\n",
       "      <td>0.079656</td>\n",
       "      <td>0.236828</td>\n",
       "      <td>0.472261</td>\n",
       "      <td>1473.07</td>\n",
       "      <td>12599.5</td>\n",
       "      <td>0.999861</td>\n",
       "    </tr>\n",
       "  </tbody>\n",
       "</table>\n",
       "</div>"
      ],
      "text/plain": [
       "           Mean      MCSE    StdDev        5%       50%       95%    N_Eff  \\\n",
       "name                                                                         \n",
       "lp__  -7.285420  0.021507  0.787724 -8.874360 -6.977620 -6.749920  1341.47   \n",
       "theta  0.252152  0.003159  0.121252  0.079656  0.236828  0.472261  1473.07   \n",
       "\n",
       "       N_Eff/s     R_hat  \n",
       "name                      \n",
       "lp__   11473.9  1.001580  \n",
       "theta  12599.5  0.999861  "
      ]
     },
     "execution_count": 6,
     "metadata": {},
     "output_type": "execute_result"
    }
   ],
   "source": [
    "a_sample.summary()"
   ]
  },
  {
   "cell_type": "markdown",
   "metadata": {},
   "source": [
    "#### PosteriorSample.diagnose()\n",
    "\n",
    "The `diagnose` function prints diagnostics to console:"
   ]
  },
  {
   "cell_type": "code",
   "execution_count": 7,
   "metadata": {},
   "outputs": [
    {
     "name": "stdout",
     "output_type": "stream",
     "text": [
      "No problems detected.\n"
     ]
    }
   ],
   "source": [
    "a_sample.diagnose()"
   ]
  },
  {
   "cell_type": "markdown",
   "metadata": {},
   "source": [
    "#### PosteriorSample.sample\n",
    "\n",
    "The `sample` property is a 3-D numpy ndarray which contains all draws across all chains.  The ndarray is stored column major format so that values for each parameter are stored contiguously in memory, likewise all draws from a chain are contiguous.  Thus the dimensions of the ndarray are arranged as follows:  (draws, chains, columns):"
   ]
  },
  {
   "cell_type": "code",
   "execution_count": 8,
   "metadata": {},
   "outputs": [
    {
     "data": {
      "text/plain": [
       "(1000, 4, 8)"
      ]
     },
     "execution_count": 8,
     "metadata": {},
     "output_type": "execute_result"
    }
   ],
   "source": [
    "a_sample.sample.shape"
   ]
  },
  {
   "cell_type": "markdown",
   "metadata": {},
   "source": [
    "#### PosteriorSample.extract()\n",
    "\n",
    "The `extract` function flattens the `sample` 3-dimensional ndarray (draws X chains X columns) to a  pandas.DataFrame, (i.e., a 2-dimensional ndarray), one draw per row.  "
   ]
  },
  {
   "cell_type": "code",
   "execution_count": 10,
   "metadata": {},
   "outputs": [
    {
     "data": {
      "text/plain": [
       "(Index(['lp__', 'accept_stat__', 'stepsize__', 'treedepth__', 'n_leapfrog__',\n",
       "        'divergent__', 'energy__', 'theta'],\n",
       "       dtype='object'), <matplotlib.axes._subplots.AxesSubplot at 0x11199bac8>)"
      ]
     },
     "execution_count": 10,
     "metadata": {},
     "output_type": "execute_result"
    },
    {
     "data": {
      "image/png": "[encoded data removed]",
      "text/plain": [
       "<Figure size 432x288 with 1 Axes>"
      ]
     },
     "metadata": {
      "needs_background": "light"
     },
     "output_type": "display_data"
    }
   ],
   "source": [
    "samp = a_sample.extract()\n",
    "samp.columns, samp.theta.plot.density()"
   ]
  },
  {
   "cell_type": "code",
   "execution_count": null,
   "metadata": {},
   "outputs": [],
   "source": []
  }
 ],
 "metadata": {
  "kernelspec": {
   "display_name": "Python 3",
   "language": "python",
   "name": "python3"
  },
  "language_info": {
   "codemirror_mode": {
    "name": "ipython",
    "version": 3
   },
   "file_extension": ".py",
   "mimetype": "text/x-python",
   "name": "python",
   "nbconvert_exporter": "python",
   "pygments_lexer": "ipython3",
   "version": "3.7.0"
  }
 },
 "nbformat": 4,
 "nbformat_minor": 2
}
