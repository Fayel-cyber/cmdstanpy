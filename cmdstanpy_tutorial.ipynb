{
 "cells": [
  {
   "cell_type": "markdown",
   "metadata": {},
   "source": [
    "# CmdStanPy Tutorial\n",
    "\n",
    "\n",
    "### Overview\n",
    "\n",
    "Once you have specified your model(s) and have collected or generated some amount of data,\n",
    "the CmdStanPy workflow consists of the following:\n",
    "\n",
    "#### Compile Stan program - function `compile_model`\n",
    "  + takes as input a Stan program and produces the corresponding c++ executable.\n",
    "  + both Stan program and c++ executable exist as on-disk files\n",
    "\n",
    "#### Assemble input data as either:\n",
    "  + a Python `dict` object consisting of key-value pairs where the key corresponds\n",
    " to Stan data variables and the value is of the correct type and shape.\n",
    "  + an existing data file on disk in either JSON or Rdump format.\n",
    "\n",
    "#### Run sampler - function `sample`\n",
    "  + invokes Stan's NUTS-HMC sampler to condition model on input data, produces output csv files\n",
    "  + runs any number of chains - should run at least 2, default 4\n",
    "  + lightweight object `RunSet` keeps track of sampler arguments, per-chain outcome, output files\n",
    "  + returns `PosteriorSample` object which contains information about sample\n",
    "\n",
    "#### Analyze resulting `PosteriorSample`\n",
    "  + `PosteriorSample` contains names of csv output files, names of csv column headers\n",
    "  + attribute `sample` assembles in-memory sample from csv files\n",
    "  + methods `summary` and `diagnose` invoke CmdStan tools `bin/stansummary` and `bin/diagnose` respectively\n"
   ]
  },
  {
   "cell_type": "markdown",
   "metadata": {},
   "source": [
    "### Installation\n",
    "\n",
    "* Download this repo from GitHub\n",
    "\n",
    "* run script `make_cmdstan.sh` - (need equivalent for Windows) - this installs and builds cmdstan in subdirectory `releases`\n",
    "\n",
    "\n"
   ]
  },
  {
   "cell_type": "markdown",
   "metadata": {},
   "source": [
    "### Example 1:  Compiling and running example model `bernoulli.stan` in directory `test/data`"
   ]
  },
  {
   "cell_type": "code",
   "execution_count": 2,
   "metadata": {},
   "outputs": [],
   "source": [
    "import os\n",
    "import os.path\n",
    "import tempfile\n",
    "import numpy as np\n",
    "from pandas import DataFrame\n",
    "from cmdstanpy.lib import Model, RunSet, SamplerArgs, PosteriorSample\n",
    "from cmdstanpy.cmds import compile_model, sample\n"
   ]
  },
  {
   "cell_type": "markdown",
   "metadata": {},
   "source": [
    "Call `compile_model` with path to Stan program, returns `Model` object `bernoulli_model`"
   ]
  },
  {
   "cell_type": "code",
   "execution_count": 3,
   "metadata": {},
   "outputs": [
    {
     "name": "stdout",
     "output_type": "stream",
     "text": [
      "compile_model, CMDSTAN_PATH=/Users/mitzi/github/stan-dev/cmdstanpy/releases/cmdstan\n",
      "Model(name=bernoulli,  stan_file=\"/Users/mitzi/github/stan-dev/cmdstanpy/test/files-data/bernoulli.stan\", exe_file=\"/Users/mitzi/github/stan-dev/cmdstanpy/test/files-data/bernoulli\")\n"
     ]
    }
   ],
   "source": [
    "datafiles_path = os.path.expanduser(\n",
    "    os.path.join(\"~\", \"github\", \"stan-dev\", \"cmdstanpy\", \"test\", \"files-data\"))\n",
    "stan = os.path.join(datafiles_path, \"bernoulli.stan\")\n",
    "bernoulli_model = compile_model(stan)\n",
    "print(bernoulli_model)"
   ]
  },
  {
   "cell_type": "markdown",
   "metadata": {},
   "source": [
    "Specify data - JSON file on disk"
   ]
  },
  {
   "cell_type": "code",
   "execution_count": 4,
   "metadata": {},
   "outputs": [],
   "source": [
    "jdata = os.path.join(datafiles_path, \"bernoulli.data.json\")"
   ]
  },
  {
   "cell_type": "markdown",
   "metadata": {},
   "source": [
    "Call `sample` to run NUTS-HMC sampler, returns `PosteriorSample` object `a_sample`"
   ]
  },
  {
   "cell_type": "code",
   "execution_count": 5,
   "metadata": {},
   "outputs": [
    {
     "name": "stdout",
     "output_type": "stream",
     "text": [
      "start chain 1.\n",
      "start chain 2.\n",
      "\n",
      "\n",
      "finish chain 2.\n",
      "\n",
      "start chain 3.\n",
      "\n",
      "finish chain 1.\n",
      "\n",
      "start chain 4.\n",
      "\n",
      "finish chain 3.\n",
      "\n",
      "finish chain 4.\n",
      "\n"
     ]
    }
   ],
   "source": [
    "a_sample = sample(bernoulli_model, chains=4, cores=2, data_file=jdata)"
   ]
  },
  {
   "cell_type": "markdown",
   "metadata": {},
   "source": [
    "#### `PosteriorSample` object methods\n",
    "\n",
    "print:"
   ]
  },
  {
   "cell_type": "code",
   "execution_count": 6,
   "metadata": {},
   "outputs": [
    {
     "data": {
      "text/plain": [
       "PosteriorSample(chains=4,  draws=1000, columns=8)"
      ]
     },
     "execution_count": 6,
     "metadata": {},
     "output_type": "execute_result"
    }
   ],
   "source": [
    "a_sample"
   ]
  },
  {
   "cell_type": "markdown",
   "metadata": {},
   "source": [
    "Method `summary` returns output of CmdStan `bin/stansummary` as  pandas.DataFrame:"
   ]
  },
  {
   "cell_type": "code",
   "execution_count": 7,
   "metadata": {},
   "outputs": [
    {
     "data": {
      "text/html": [
       "<div>\n",
       "<style scoped>\n",
       "    .dataframe tbody tr th:only-of-type {\n",
       "        vertical-align: middle;\n",
       "    }\n",
       "\n",
       "    .dataframe tbody tr th {\n",
       "        vertical-align: top;\n",
       "    }\n",
       "\n",
       "    .dataframe thead th {\n",
       "        text-align: right;\n",
       "    }\n",
       "</style>\n",
       "<table border=\"1\" class=\"dataframe\">\n",
       "  <thead>\n",
       "    <tr style=\"text-align: right;\">\n",
       "      <th></th>\n",
       "      <th>Mean</th>\n",
       "      <th>MCSE</th>\n",
       "      <th>StdDev</th>\n",
       "      <th>5%</th>\n",
       "      <th>50%</th>\n",
       "      <th>95%</th>\n",
       "      <th>N_Eff</th>\n",
       "      <th>N_Eff/s</th>\n",
       "      <th>R_hat</th>\n",
       "    </tr>\n",
       "    <tr>\n",
       "      <th>name</th>\n",
       "      <th></th>\n",
       "      <th></th>\n",
       "      <th></th>\n",
       "      <th></th>\n",
       "      <th></th>\n",
       "      <th></th>\n",
       "      <th></th>\n",
       "      <th></th>\n",
       "      <th></th>\n",
       "    </tr>\n",
       "  </thead>\n",
       "  <tbody>\n",
       "    <tr>\n",
       "      <th>lp__</th>\n",
       "      <td>-7.267690</td>\n",
       "      <td>0.018608</td>\n",
       "      <td>0.693983</td>\n",
       "      <td>-8.767510</td>\n",
       "      <td>-6.990290</td>\n",
       "      <td>-6.749770</td>\n",
       "      <td>1390.9200</td>\n",
       "      <td>11690.0000</td>\n",
       "      <td>1.002170e+00</td>\n",
       "    </tr>\n",
       "    <tr>\n",
       "      <th>accept_stat__</th>\n",
       "      <td>0.917904</td>\n",
       "      <td>0.022527</td>\n",
       "      <td>0.142122</td>\n",
       "      <td>0.618264</td>\n",
       "      <td>0.975690</td>\n",
       "      <td>1.000000</td>\n",
       "      <td>39.8037</td>\n",
       "      <td>334.5300</td>\n",
       "      <td>1.047260e+00</td>\n",
       "    </tr>\n",
       "    <tr>\n",
       "      <th>stepsize__</th>\n",
       "      <td>0.919820</td>\n",
       "      <td>0.106882</td>\n",
       "      <td>0.151191</td>\n",
       "      <td>0.769726</td>\n",
       "      <td>0.893880</td>\n",
       "      <td>1.170190</td>\n",
       "      <td>2.0010</td>\n",
       "      <td>16.8174</td>\n",
       "      <td>1.256230e+14</td>\n",
       "    </tr>\n",
       "    <tr>\n",
       "      <th>treedepth__</th>\n",
       "      <td>1.499500</td>\n",
       "      <td>0.055308</td>\n",
       "      <td>0.602985</td>\n",
       "      <td>1.000000</td>\n",
       "      <td>1.000000</td>\n",
       "      <td>3.000000</td>\n",
       "      <td>118.8590</td>\n",
       "      <td>998.9500</td>\n",
       "      <td>1.025330e+00</td>\n",
       "    </tr>\n",
       "    <tr>\n",
       "      <th>n_leapfrog__</th>\n",
       "      <td>2.823500</td>\n",
       "      <td>0.239828</td>\n",
       "      <td>1.720050</td>\n",
       "      <td>1.000000</td>\n",
       "      <td>3.000000</td>\n",
       "      <td>7.000000</td>\n",
       "      <td>51.4379</td>\n",
       "      <td>432.3100</td>\n",
       "      <td>1.039010e+00</td>\n",
       "    </tr>\n",
       "    <tr>\n",
       "      <th>divergent__</th>\n",
       "      <td>0.000000</td>\n",
       "      <td>NaN</td>\n",
       "      <td>0.000000</td>\n",
       "      <td>0.000000</td>\n",
       "      <td>0.000000</td>\n",
       "      <td>0.000000</td>\n",
       "      <td>NaN</td>\n",
       "      <td>NaN</td>\n",
       "      <td>NaN</td>\n",
       "    </tr>\n",
       "    <tr>\n",
       "      <th>energy__</th>\n",
       "      <td>7.771590</td>\n",
       "      <td>0.025623</td>\n",
       "      <td>0.991637</td>\n",
       "      <td>6.793990</td>\n",
       "      <td>7.471120</td>\n",
       "      <td>9.822710</td>\n",
       "      <td>1497.7800</td>\n",
       "      <td>12588.1000</td>\n",
       "      <td>1.000880e+00</td>\n",
       "    </tr>\n",
       "    <tr>\n",
       "      <th>theta</th>\n",
       "      <td>0.249754</td>\n",
       "      <td>0.003096</td>\n",
       "      <td>0.120223</td>\n",
       "      <td>0.081411</td>\n",
       "      <td>0.233435</td>\n",
       "      <td>0.474779</td>\n",
       "      <td>1507.6800</td>\n",
       "      <td>12671.3000</td>\n",
       "      <td>1.000460e+00</td>\n",
       "    </tr>\n",
       "  </tbody>\n",
       "</table>\n",
       "</div>"
      ],
      "text/plain": [
       "                   Mean      MCSE    StdDev        5%       50%       95%  \\\n",
       "name                                                                        \n",
       "lp__          -7.267690  0.018608  0.693983 -8.767510 -6.990290 -6.749770   \n",
       "accept_stat__  0.917904  0.022527  0.142122  0.618264  0.975690  1.000000   \n",
       "stepsize__     0.919820  0.106882  0.151191  0.769726  0.893880  1.170190   \n",
       "treedepth__    1.499500  0.055308  0.602985  1.000000  1.000000  3.000000   \n",
       "n_leapfrog__   2.823500  0.239828  1.720050  1.000000  3.000000  7.000000   \n",
       "divergent__    0.000000       NaN  0.000000  0.000000  0.000000  0.000000   \n",
       "energy__       7.771590  0.025623  0.991637  6.793990  7.471120  9.822710   \n",
       "theta          0.249754  0.003096  0.120223  0.081411  0.233435  0.474779   \n",
       "\n",
       "                   N_Eff     N_Eff/s         R_hat  \n",
       "name                                                \n",
       "lp__           1390.9200  11690.0000  1.002170e+00  \n",
       "accept_stat__    39.8037    334.5300  1.047260e+00  \n",
       "stepsize__        2.0010     16.8174  1.256230e+14  \n",
       "treedepth__     118.8590    998.9500  1.025330e+00  \n",
       "n_leapfrog__     51.4379    432.3100  1.039010e+00  \n",
       "divergent__          NaN         NaN           NaN  \n",
       "energy__       1497.7800  12588.1000  1.000880e+00  \n",
       "theta          1507.6800  12671.3000  1.000460e+00  "
      ]
     },
     "execution_count": 7,
     "metadata": {},
     "output_type": "execute_result"
    }
   ],
   "source": [
    "a_sample.summary()"
   ]
  },
  {
   "cell_type": "markdown",
   "metadata": {},
   "source": [
    "Function `diagnose` prints diagnostics to console:"
   ]
  },
  {
   "cell_type": "code",
   "execution_count": 8,
   "metadata": {},
   "outputs": [
    {
     "name": "stdout",
     "output_type": "stream",
     "text": [
      "No problems detected.\n"
     ]
    }
   ],
   "source": [
    "a_sample.diagnose()"
   ]
  },
  {
   "cell_type": "code",
   "execution_count": 9,
   "metadata": {},
   "outputs": [
    {
     "data": {
      "text/plain": [
       "(1000, 4, 8)"
      ]
     },
     "execution_count": 9,
     "metadata": {},
     "output_type": "execute_result"
    }
   ],
   "source": [
    "a_sample.sample.shape"
   ]
  },
  {
   "cell_type": "markdown",
   "metadata": {},
   "source": [
    "Function `extract` flattens ndarray (draws X chains X columns) to pandas.DataFrame over columns"
   ]
  },
  {
   "cell_type": "code",
   "execution_count": 20,
   "metadata": {},
   "outputs": [
    {
     "data": {
      "text/plain": [
       "(Index(['lp__', 'accept_stat__', 'stepsize__', 'treedepth__', 'n_leapfrog__',\n",
       "        'divergent__', 'energy__', 'theta'],\n",
       "       dtype='object'), <matplotlib.axes._subplots.AxesSubplot at 0x11b369390>)"
      ]
     },
     "execution_count": 20,
     "metadata": {},
     "output_type": "execute_result"
    },
    {
     "data": {
      "image/png": "[encoded data removed]",
      "text/plain": [
       "<Figure size 432x288 with 1 Axes>"
      ]
     },
     "metadata": {
      "needs_background": "light"
     },
     "output_type": "display_data"
    }
   ],
   "source": [
    "samp = a_sample.extract()\n",
    "samp.columns, samp.theta.plot.density()"
   ]
  },
  {
   "cell_type": "code",
   "execution_count": null,
   "metadata": {},
   "outputs": [],
   "source": []
  }
 ],
 "metadata": {
  "kernelspec": {
   "display_name": "Python 3",
   "language": "python",
   "name": "python3"
  }
 },
 "nbformat": 4,
 "nbformat_minor": 2
}
