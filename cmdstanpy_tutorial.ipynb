{
 "cells": [
  {
   "cell_type": "markdown",
   "source": [
    "# CmdStanPy Tutorial: do inference over a model conditioned on data\n",
    "\n",
    "\n",
    "## Overview\n",
    "\n",
    "The Bayesian workflow provides a framework for model comparison and model expansion.  To facilitate this workflow, CmdStanPy provides a set of objects which manage the model, and the result of doing inference over a model conditioned on data.   The building blocks of a Bayesian data analysis are\n",
    "\n",
    " + the model, written as a Stan program\n",
    " + the data, i.e., the definitions for all data variables in the Stan program\n",
    " + the resulting inferences over the model conditioned on the data:\n",
    "     + the inference engine configuration, i.e., all arguments to the CmdStan command-line interface\n",
    "     + the inference engine outputs:  output and diagnostic files, console message, error messages, and process return codes.\n",
    "\n",
    "#### The model\n",
    "\n",
    "The CmdStanPy class `CmdStanModel` encapsulates the model.  When working in CmdStanPy, all models must be supplied either as a Stan program file or as a compiled model executable file; or both, in which case, the base filenames must match.   While writing a program as a file requires a text editor, as opposed to the convenience of a Python notebook, in the long run, this is a more efficient way to develop complex models. \n",
    "\n",
    "#### The data\n",
    "\n",
    "Definitions of all data variables in the model are supplied either as a Python dictionary or as an on-disk data file which can be in either JSON or Rdump format.  Python dictionaries are converted to JSON inputs to CmdStanPy.  It is up to the user to save and manage the data; the data itself is not a first-class object in CmdStanPy.\n",
    "\n",
    "\n",
    "#### Inference Methods\n",
    "\n",
    "The `CmdStanModel` provides a set of inference methods, each of which returns an inference-specific result class which encapsulates the appropriate information and operations:\n",
    "\n",
    " + `sample` - Run the HMC-NUTS sampler to produce a set of draws from the posterior distribution. Returns a `CmdStanMCMC` object which contains all draws from all sampler chains.\n",
    " + `optimize` - Produce a penalized maximum likelihood estimate (point estimate) of the model parameters.  Returns a `CmdStanMLE` object containing point estimates for all model variables.\n",
    " + `variational` - Run CmdStan’s variational inference algorithm to approximate the posterior distribution. Returns a `CmdStanVB` object containing the approximate estimates.\n",
    " + `generate_quantities` - Run CmdStan’s generate_quantities method to produce additional quantities of interest based on each draw from an existing sample. Returns a `CmdStanGQ` object which contains the draws for the generated quantities variables.\n",
    "\n",
    "\n",
    "#### Output files and logs\n",
    "\n",
    "The CmdStan interface is entirely file-based, therefore CmdStanPy manages the process of converting in-memory data structures to their file-based representation and vice versa.\n",
    "\n",
    "Each run of an inference algorithm produces one or more output files in [Stan CSV format](https://mc-stan.org/docs/cmdstan-guide/stan-csv.html), as well as the messages written to stdout and stderr.  CmdStanPy uses per-run directories to keep all files together; the location of the directory can be specified when setting up the run, or it can be specified and/or changed afterwards via the `save_csvfiles` method, common to all inference method classes."
   ],
   "metadata": {}
  },
  {
   "cell_type": "markdown",
   "source": [
    "### Installation\n",
    "\n",
    "* From the shell command line, install Python package from PyPI or directly from GitHub using the Python `pip` installer for Python3:\n",
    "\n",
    "  + `pip3 install --upgrade cmdstanpy`\n",
    "  + `pip3 install -e git+https://github.com/stan-dev/cmdstanpy`\n",
    "\n",
    "\n",
    "* CmdStanPy uses CmdStan directly to compile and run Stan programs, therefore CmdStan must be installed locally.\n",
    "\n",
    "  + if you have a working installation of CmdStan, set environment variable `CMDSTAN` to the full path to the top-level CmdStan directory.\n",
    "  \n",
    "  + if you don't already have CmdStan installed, run Python script `install_cmdstan` which downloads and compiles the latest release from https://github.com/stan-dev/cmdstan/releases.  By default this installs the latest version of CmdStan in the location `~/.cmdstan`.  Flags -d and -v are used to specify the directory and version, respectively.\n"
   ],
   "metadata": {}
  },
  {
   "cell_type": "markdown",
   "source": [
    "## Hello World:  Compile and run CmdStan example model `bernoulli.stan`\n",
    "\n",
    "Every CmdStan release has an `examples/bernoulli` directory which contains the Stan model and test data files.  In this example we compile the model and run the NUTS-HMC sampler to obtain the full posterior density.\n",
    "\n",
    "The `CmdStanModel` class method `sample` invokes Stan's NUTS-HMC sampler which conditions the model on the input data and returns a `CmdStanMCMC` object. The `CmdStanMCMC` object contains the set of draws from the posterior plus metadata."
   ],
   "metadata": {}
  },
  {
   "cell_type": "markdown",
   "source": [
    "### Import CmdStanPy classes and methods"
   ],
   "metadata": {}
  },
  {
   "cell_type": "code",
   "execution_count": null,
   "source": [
    "import os\n",
    "from cmdstanpy import cmdstan_path, CmdStanModel"
   ],
   "outputs": [],
   "metadata": {}
  },
  {
   "cell_type": "markdown",
   "source": [
    "### Compile the model"
   ],
   "metadata": {}
  },
  {
   "cell_type": "markdown",
   "source": [
    "The CmdStanPy directory `examples/bernoulli` contains the model and data files."
   ],
   "metadata": {}
  },
  {
   "cell_type": "code",
   "execution_count": null,
   "source": [
    "bernoulli_dir = os.path.join(cmdstan_path(), 'examples', 'bernoulli')\n",
    "stan_file = os.path.join(bernoulli_dir, 'bernoulli.stan')\n",
    "with open(stan_file, 'r') as f:\n",
    "    print(f.read())"
   ],
   "outputs": [],
   "metadata": {}
  },
  {
   "cell_type": "markdown",
   "source": [
    "The `CmdStanModel` object stores the filepaths of the Stan program and the compiled executable file.  By default, if no executable file is supplied, or if the timestamp on the model file is newer than the timestamp on the executable file, the model will be compiled on instantiation."
   ],
   "metadata": {}
  },
  {
   "cell_type": "code",
   "execution_count": null,
   "source": [
    "model = CmdStanModel(stan_file=stan_file)\n",
    "print(model)"
   ],
   "outputs": [],
   "metadata": {}
  },
  {
   "cell_type": "markdown",
   "source": [
    "### Assemble the data\n",
    "\n",
    "Input data is either a Python `Dict` with entries corresponding to input data values, or it can be a file in JSON or Rdump format.\n",
    "\n",
    "If a `Dict` is specified, CmdStanPy writes it to a temp file in JSON format."
   ],
   "metadata": {}
  },
  {
   "cell_type": "code",
   "execution_count": null,
   "source": [
    "data = { \"N\" : 10, \"y\" : [0,1,0,0,0,0,0,0,0,1] }"
   ],
   "outputs": [],
   "metadata": {}
  },
  {
   "cell_type": "markdown",
   "source": [
    "In the CmdStan `examples/bernoulli` directory, there are data files in both `JSON` and `rdump` formats."
   ],
   "metadata": {}
  },
  {
   "cell_type": "code",
   "execution_count": null,
   "source": [
    "data_file = os.path.join(bernoulli_dir, 'bernoulli.data.json')\n",
    "with open(data_file, 'r') as f:\n",
    "    print(f.read())"
   ],
   "outputs": [],
   "metadata": {}
  },
  {
   "cell_type": "markdown",
   "source": [
    "### Do Inference\n",
    "\n",
    "The `CmdStanModel` class `sample` method runs the HMC-NUTS sampler to produce a set of draws from the posterior distribution.  By default, `sample` runs 4 sampler chains."
   ],
   "metadata": {}
  },
  {
   "cell_type": "code",
   "execution_count": null,
   "source": [
    "fit = model.sample(data=data)\n",
    "print(fit)"
   ],
   "outputs": [],
   "metadata": {}
  },
  {
   "cell_type": "markdown",
   "source": [
    "### Access the sample: the `CmdStanMCMC` object attributes and methods\n",
    "\n",
    "The CmdStanMCMC class has properties and methods to access the sampler outputs and all metadata.  Accessor properties include:\n",
    "\n",
    "- `draws`  - all draws from all chains, stored as a 3-D numpy.ndarray.\n",
    "- `num_draws` - total number of warmup and sampling draws\n",
    "- `chains` - number of chains run by sampler\n",
    "- `metric`, `step_size` - per-chain HMC tuning parameters\n",
    "- `csv_files` - list of Stan csv output files which comprise the sample\n",
    "    \n",
    "The `draws` array is created only as needed; therefore the first time that this property is accessed, CmdStanPy parses the set of csv output files, at the same time it parses the contain step size and metric information.  Depending on the size of the sample and your computing environment, this may take a few seconds or more.\n",
    "\n",
    "The numpy ndarray is stored column major format so that values for each parameter are stored contiguously in memory, likewise all draws from a chain are contiguous.  Thus the dimensions of the ndarray are arranged as follows:  (draws, chains, columns).  The draws array contains both the sampler variables and the model variables.  Sampler variables report the sampler state.  For the NUTS-HMC sampler, there are 7 reported variables, all of which end in `__`.  The example model contains a single variable `theta`."
   ],
   "metadata": {}
  },
  {
   "cell_type": "code",
   "execution_count": null,
   "source": [
    "fit.draws().shape"
   ],
   "outputs": [],
   "metadata": {}
  },
  {
   "cell_type": "markdown",
   "source": [
    "#### Viewing the sample as a set of variables:  sampler variables and program variables\n",
    "\n",
    "The `CmdStanMCMC` property `draws` is a 3-D numpy ndarray which contains all draws across all chains.  \n",
    "    \n",
    "- `stan_variables` - dictionary mapping Stan program variables names to the draws for that variable.\n",
    "- `sampler_variables` - dictionary mapping the sampler variables names, (e.g., `lp__`) to the draws for that variable."
   ],
   "metadata": {}
  },
  {
   "cell_type": "code",
   "execution_count": null,
   "source": [
    "%matplotlib inline\n",
    "import pandas as pd\n",
    "\n",
    "vars = fit.stan_variables()\n",
    "for (k,v) in vars.items():\n",
    "    print(k, v.shape)\n",
    "\n",
    "thetas = fit.stan_variable(var='theta')\n",
    "pd.DataFrame(data=thetas).plot.density()"
   ],
   "outputs": [],
   "metadata": {}
  },
  {
   "cell_type": "markdown",
   "source": [
    "#### Get HMC sampler tuning parameters\n",
    "\n",
    "##### step_size\n",
    "\n",
    "The `CmdStanMCMC` property `step_size` property is a 1-D numpy ndarray which contains the step size used by the sampler for each chain.  This array is created at the same time as the `sample` and `metric` arrays are created.\n",
    "\n",
    "At the end of adaptation, the step size for the 4 chains in this example is:"
   ],
   "metadata": {}
  },
  {
   "cell_type": "code",
   "execution_count": null,
   "source": [
    "fit.step_size"
   ],
   "outputs": [],
   "metadata": {}
  },
  {
   "cell_type": "markdown",
   "source": [
    "#### metric_type, metric\n",
    "\n",
    "The `metric` property is an numpy ndarray which contains the metric used by the sampler for each chain.  This array is created at the same time as the `sample` and `step_size` arrays are created.\n",
    "\n",
    "At the end of adaptation, the metric for the 4 chains in this example is:"
   ],
   "metadata": {}
  },
  {
   "cell_type": "code",
   "execution_count": null,
   "source": [
    "fit.metric_type,  fit.metric"
   ],
   "outputs": [],
   "metadata": {}
  },
  {
   "cell_type": "markdown",
   "source": [
    "#### Summarize the results\n",
    "\n",
    "The `CmdStanMCMC` method `summary` returns output of CmdStan `bin/stansummary` as a pandas.DataFrame which contains\n",
    "estimates of posterior means, standard deviations, Monte-Carlo standard error, effective sample size, and convergence diagnostic statistic for both the reported sampler parameters and all parameters, transformed parameters, and generated quantities variables:"
   ],
   "metadata": {}
  },
  {
   "cell_type": "code",
   "execution_count": null,
   "source": [
    "fit.summary()"
   ],
   "outputs": [],
   "metadata": {}
  },
  {
   "cell_type": "markdown",
   "source": [
    "#### Run sampler diagnostics\n",
    "\n",
    "The `CmdStanMCMC` method `diagnose` prints the output of CmdStan bin/stansummary to the console.  This is useful when the summary report shows `R_hat` values outside of the range of .99 to 1.01, or the number of effective samples (`N_eff` value) is below 5% of the total draws in the sample. \n",
    "\n",
    "\n",
    "   + The `CmdStanMCMC` class method `diagnose` invokes CmdStan's `diagnose` utility which checks for the following problems:\n",
    "    + transitions that hit the maximum treedepth\n",
    "    + divergent transitions\n",
    "    + low E-BFMI values (sampler transitions HMC potential energy)\n",
    "    + low effective sample sizes\n",
    "    + high R-hat values\n",
    "   + See the Stan reference manual section on [posterior analysis](https://mc-stan.org/docs/reference-manual/analysis-chapter.html) for further details.\n",
    "\n"
   ],
   "metadata": {}
  },
  {
   "cell_type": "code",
   "execution_count": null,
   "source": [
    "fit.diagnose()"
   ],
   "outputs": [],
   "metadata": {}
  }
 ],
 "metadata": {
  "kernelspec": {
   "name": "python3",
   "display_name": "Python 3.9.5 64-bit"
  },
  "language_info": {
   "codemirror_mode": {
    "name": "ipython",
    "version": 3
   },
   "file_extension": ".py",
   "mimetype": "text/x-python",
   "name": "python",
   "nbconvert_exporter": "python",
   "pygments_lexer": "ipython3",
   "version": "3.9.5"
  },
  "interpreter": {
   "hash": "d31ce8e45781476cfd394e192e0962028add96ff436d4fd4e560a347d206b9cb"
  }
 },
 "nbformat": 4,
 "nbformat_minor": 2
}