{
 "cells": [
  {
   "cell_type": "markdown",
   "metadata": {},
   "source": [
    "# CmdStanPy Tutorial\n",
    "\n",
    "\n",
    "### Workflow Outline\n",
    "\n",
    "Given a dataset and a model specification written as a Stan program, the CmdStanPy workflow is:\n",
    "\n",
    "#### Assemble input data as either:\n",
    "  + a Python `dict` object consisting of key-value pairs where the key corresponds\n",
    " to Stan data variables and the value is of the correct type and shape.\n",
    "  + an existing data file on disk in either JSON or Rdump format.\n",
    "  + CmdStanPy provides methods for converting former to latter.\n",
    "\n",
    "\n",
    "\n",
    "\n",
    "#### Compile Stan program - function `compile_model`\n",
    "  + takes as input a Stan program and produces the corresponding c++ executable.\n",
    "  + both Stan program and c++ executable exist as on-disk files\n",
    "\n",
    "#### Assemble input data as either:\n",
    "  + a Python `dict` object consisting of key-value pairs where the key corresponds\n",
    " to Stan data variables and the value is of the correct type and shape.\n",
    "  + an existing data file on disk in either JSON or Rdump format.\n",
    "\n",
    "#### Run sampler - function `sample`\n",
    "  + invokes Stan's NUTS-HMC sampler to condition model on input data, produces output csv files\n",
    "  + runs any number of chains - should run at least 2 (default)\n",
    "  + lightweight object `RunSet` keeps track of sampler arguments, per-chain outcome, output files\n",
    "  + returns `PosteriorSample` object which contains information about sample\n",
    "\n",
    "#### Analyze resulting `PosteriorSample`\n",
    "  + `PosteriorSample` contains names of csv output files, names of csv column headers\n",
    "  + attribute `sample` assembles in-memory sample from csv files\n",
    "  + methods `summary` and `diagnose` invoke CmdStan tools `bin/stansummary` and `bin/diagnose` respectively\n"
   ]
  },
  {
   "cell_type": "markdown",
   "metadata": {},
   "source": [
    "### Installation\n",
    "\n",
    "* Download this repo from GitHub\n",
    "\n",
    "* run script `make_cmdstan.sh` - (need equivalent for Windows) - this installs and builds cmdstan in subdirectory `releases`\n",
    "\n",
    "\n"
   ]
  },
  {
   "cell_type": "markdown",
   "metadata": {},
   "source": [
    "### Example 1:  example model `bernoulli.stan`, data `bernoulli.data.json`\n",
    "\n",
    "Import relevant classes and methods\n"
   ]
  },
  {
   "cell_type": "code",
   "execution_count": 1,
   "metadata": {},
   "outputs": [],
   "source": [
    "import os\n",
    "import os.path\n",
    "from cmdstanpy.lib import Model, PosteriorSample\n",
    "from cmdstanpy.cmds import compile_model, sample"
   ]
  },
  {
   "cell_type": "markdown",
   "metadata": {},
   "source": [
    "The CmdStanPy directory `test/data` contains test data and models\n"
   ]
  },
  {
   "cell_type": "code",
   "execution_count": 2,
   "metadata": {},
   "outputs": [],
   "source": [
    "datafiles_path = os.path.expanduser(\n",
    "    os.path.join(\"~\", \"github\", \"stan-dev\", \"cmdstanpy\", \"test\", \"data\"))\n",
    "stan = os.path.join(datafiles_path, \"bernoulli.stan\")\n",
    "jdata = os.path.join(datafiles_path, \"bernoulli.data.json\")"
   ]
  },
  {
   "cell_type": "markdown",
   "metadata": {},
   "source": [
    "Call `compile_model` with path to Stan program, returns `Model` object `bernoulli_model`"
   ]
  },
  {
   "cell_type": "code",
   "execution_count": 3,
   "metadata": {},
   "outputs": [
    {
     "name": "stdout",
     "output_type": "stream",
     "text": [
      "Model(name=bernoulli,  stan_file=\"/Users/mitzi/github/stan-dev/cmdstanpy/test/data/bernoulli.stan\", exe_file=\"/Users/mitzi/github/stan-dev/cmdstanpy/test/data/bernoulli\")\n"
     ]
    }
   ],
   "source": [
    "bernoulli_model = compile_model(stan)\n",
    "print(bernoulli_model)"
   ]
  },
  {
   "cell_type": "markdown",
   "metadata": {},
   "source": [
    "Call `sample` to run NUTS-HMC sampler, returns `PosteriorSample` object `a_sample`"
   ]
  },
  {
   "cell_type": "code",
   "execution_count": 4,
   "metadata": {},
   "outputs": [
    {
     "name": "stdout",
     "output_type": "stream",
     "text": [
      "start chain 1.  \n",
      "start chain 2.  \n",
      "finish chain 1.  \n",
      "start chain 3.  \n",
      "finish chain 2.  \n",
      "start chain 4.  \n",
      "finish chain 3.  \n",
      "finish chain 4.  \n"
     ]
    }
   ],
   "source": [
    "a_sample = sample(bernoulli_model, chains=4, cores=2, data_file=jdata)"
   ]
  },
  {
   "cell_type": "code",
   "execution_count": 5,
   "metadata": {},
   "outputs": [
    {
     "name": "stdout",
     "output_type": "stream",
     "text": [
      "PosteriorSample(chains=4,  draws=1000, columns=8)\n"
     ]
    }
   ],
   "source": [
    "print(a_sample)"
   ]
  },
  {
   "cell_type": "markdown",
   "metadata": {},
   "source": [
    "### `PosteriorSample` object functions and attributes\n",
    "\n",
    "#### PosteriorSample.summary()\n",
    "\n",
    "The `summary` function returns output of CmdStan bin/stansummary as pandas.DataFrame:"
   ]
  },
  {
   "cell_type": "code",
   "execution_count": null,
   "metadata": {},
   "outputs": [],
   "source": [
    "a_sample.summary()"
   ]
  },
  {
   "cell_type": "markdown",
   "metadata": {},
   "source": [
    "#### PosteriorSample.diagnose()\n",
    "\n",
    "The `diagnose` function prints diagnostics to console:"
   ]
  },
  {
   "cell_type": "code",
   "execution_count": null,
   "metadata": {},
   "outputs": [],
   "source": [
    "a_sample.diagnose()"
   ]
  },
  {
   "cell_type": "markdown",
   "metadata": {},
   "source": [
    "#### PosteriorSample.sample\n",
    "\n",
    "The `sample` property is a 3-D numpy ndarray which contains all draws across all chains.  The ndarray is stored column major format so that values for each parameter are stored contiguously in memory, likewise all draws from a chain are contiguous.  Thus the dimensions of the ndarray are arranged as follows:  (draws, chains, columns):"
   ]
  },
  {
   "cell_type": "code",
   "execution_count": null,
   "metadata": {},
   "outputs": [],
   "source": [
    "a_sample.sample, a_sample.sample.shape"
   ]
  },
  {
   "cell_type": "markdown",
   "metadata": {},
   "source": [
    "#### PosteriorSample.extract()\n",
    "\n",
    "The `extract` function flattens the `sample` 3-dimensional ndarray (draws X chains X columns) to a  pandas.DataFrame, (i.e., a 2-dimensional ndarray), one draw per row.  "
   ]
  },
  {
   "cell_type": "code",
   "execution_count": null,
   "metadata": {},
   "outputs": [],
   "source": [
    "samp = a_sample.extract()\n",
    "samp.shape, samp.columns, samp.theta.plot.density()"
   ]
  },
  {
   "cell_type": "code",
   "execution_count": null,
   "metadata": {},
   "outputs": [],
   "source": [
    "thetas = a_sample.extract(params=['theta'])"
   ]
  },
  {
   "cell_type": "code",
   "execution_count": null,
   "metadata": {},
   "outputs": [],
   "source": []
  }
 ],
 "metadata": {
  "kernelspec": {
   "display_name": "Python 3",
   "language": "python",
   "name": "python3"
  },
  "language_info": {
   "codemirror_mode": {
    "name": "ipython",
    "version": 3
   },
   "file_extension": ".py",
   "mimetype": "text/x-python",
   "name": "python",
   "nbconvert_exporter": "python",
   "pygments_lexer": "ipython3",
   "version": "3.7.0"
  }
 },
 "nbformat": 4,
 "nbformat_minor": 2
}
