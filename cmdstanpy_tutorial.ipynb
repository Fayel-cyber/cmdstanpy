{
 "cells": [
  {
   "cell_type": "markdown",
   "metadata": {},
   "source": [
    "# CmdStanPy Tutorial\n",
    "\n",
    "\n",
    "### Workflow Outline\n",
    "\n",
    "Given a dataset and a model specification written as a Stan program, the CmdStanPy workflow is:\n",
    "\n",
    "#### Assemble input data as either:\n",
    "  + A Python `dict` object consisting of key-value pairs where the key corresponds\n",
    " to Stan data variables and the value is of the correct type and shape.\n",
    "  + An existing data file on disk in either JSON or Rdump format.\n",
    "\n",
    "#### Compile the model\n",
    "  + A `Model` object stores the filepath of the Stan program.\n",
    "  + Method `compile` translates the Stan program to C++ then calls the C++ compiler.\n",
    "\n",
    "#### Fit the model using the data,  sample from the posterior\n",
    "  + The `Model` class method `sample` invokes Stan's NUTS-HMC sampler to condition model on input data and returns a `StanFit` object which contains a set of draws from the posterior plus metadata.\n",
    "  + Runs any number of chains - default is 4 chains.\n",
    "  + The output of each chain is stored on disk as a Stan csv file.\n",
    "\n",
    "#### Summarize and check the fit\n",
    "   + The `StanFit` class method `summary` invokes CmdStan's `stansummary` utility. Returns a Pandas DataFrame with estimates of posterior means, standard deviations, Monte-Carlo standard error, effective sample size, and convergence diagnostic statistic for all parameters in the model.\n",
    "   + The `StanFit` class method `diagnose` invokes CmdStan's `diagnose` utility which checks for the following problems:\n",
    "    + transitions that hit the maximum treedepth\n",
    "    + divergent transitions\n",
    "    + low E-BFMI values (sampler transitions HMC potential energy)\n",
    "    + low effective sample sizes\n",
    "    + high R-hat values\n",
    "\n",
    "####  Assemble the sample in-memory\n",
    "  + The resulting sample is accessed via the `StanFit` object:\n",
    "    + `sample`  - all draws from all chains, stored as a 3-D numpy.ndarray.\n",
    "    + `chains` - number of chains run by sampler\n",
    "    + `draws` - draws per chain\n",
    "    + `column_names` - names of the parameters, transformed parameters, and generated quantities variables returned in each draw\n",
    "    + `csv_files` - list of Stan csv output files which comprise the sample\n",
    "  + The method `get_drawset` flattens the 3-D sample array into a 2-D pandas.DataFrame for downstream analysis.\n"
   ]
  },
  {
   "cell_type": "markdown",
   "metadata": {},
   "source": [
    "### Installation\n",
    "\n",
    "* Install Python package from PyPI or directly from GitHub:\n",
    "\n",
    "  + `pip install --upgrade cmdstanpy`\n",
    "  + `pip install -e git+https://github.com/stan-dev/cmdstanpy`\n",
    "\n",
    "\n",
    "* CmdStanPy uses CmdStan directly to compile and run Stan programs, therefore CmdStan must be installed locally.\n",
    "\n",
    "  + if you have a working installation of CmdStan, set environment variable `CMDSTAN` to the full path to the top-level CmdStan directory.\n",
    "  \n",
    "  + if you don't already have CmdStan installed, run Python script `install_cmdstan` which downloads and compiles the latest release from https://github.com/stan-dev/cmdstan/releases.  By default this installs the latest version of CmdStan in the location `~/.cmdstanpy`.  Flags -d and -v are used to specify the directory and version, respectively.\n"
   ]
  },
  {
   "cell_type": "markdown",
   "metadata": {},
   "source": [
    "### Example 1:  Compile and run CmdStan example model `bernoulli.stan`, data `bernoulli.data.json`\n",
    "\n",
    "Every CmdStan release has an `examples/bernoulli` directory which contains the Stan model and test data files.  In this example we compile the model and run the sampler on the model and data."
   ]
  },
  {
   "cell_type": "markdown",
   "metadata": {},
   "source": [
    "#### Import relevant classes and methods"
   ]
  },
  {
   "cell_type": "code",
   "execution_count": 1,
   "metadata": {},
   "outputs": [],
   "source": [
    "import os\n",
    "import os.path\n",
    "from cmdstanpy import Model, StanFit, cmdstan_path"
   ]
  },
  {
   "cell_type": "markdown",
   "metadata": {},
   "source": [
    "#### Compile the model"
   ]
  },
  {
   "cell_type": "markdown",
   "metadata": {},
   "source": [
    "The CmdStanPy directory `examples/bernoulli` contains the model and data files."
   ]
  },
  {
   "cell_type": "code",
   "execution_count": 2,
   "metadata": {},
   "outputs": [],
   "source": [
    "bernoulli_path = os.path.join(cmdstan_path(), 'examples', 'bernoulli', 'bernoulli.stan')"
   ]
  },
  {
   "cell_type": "markdown",
   "metadata": {},
   "source": [
    "First we create a `Model` object for the specified Stan program file, then we call the `compile` method to create the corresponding C++ executable program."
   ]
  },
  {
   "cell_type": "code",
   "execution_count": 3,
   "metadata": {},
   "outputs": [
    {
     "name": "stderr",
     "output_type": "stream",
     "text": [
      "INFO:cmdstanpy:compiling c++\n",
      "INFO:cmdstanpy:compiled model file: /Users/lauren.valdivia/.cmdstanpy/cmdstan-2.19.1/examples/bernoulli/bernoulli\n"
     ]
    },
    {
     "name": "stdout",
     "output_type": "stream",
     "text": [
      "Model(name=bernoulli,  stan_file=\"/Users/lauren.valdivia/.cmdstanpy/cmdstan-2.19.1/examples/bernoulli/bernoulli.stan\", exe_file=\"/Users/lauren.valdivia/.cmdstanpy/cmdstan-2.19.1/examples/bernoulli/bernoulli\")\n"
     ]
    }
   ],
   "source": [
    "bernoulli_model = Model(stan_file=bernoulli_path)\n",
    "bernoulli_model.compile()\n",
    "print(bernoulli_model)"
   ]
  },
  {
   "cell_type": "markdown",
   "metadata": {},
   "source": [
    "#### Run the HMC-NUTS sampler on the model and data"
   ]
  },
  {
   "cell_type": "markdown",
   "metadata": {},
   "source": [
    "Input data is either a Python `Dict` with entries corresponding to input data values, or it can be a file in JSON or Rdump format."
   ]
  },
  {
   "cell_type": "code",
   "execution_count": 4,
   "metadata": {},
   "outputs": [],
   "source": [
    "bern_json = os.path.join(bernoulli_path, 'bernoulli.data.json')"
   ]
  },
  {
   "cell_type": "markdown",
   "metadata": {},
   "source": [
    "If a `Dict` is specified, CmdStanPy writes it to a temp file in JSON format."
   ]
  },
  {
   "cell_type": "code",
   "execution_count": 5,
   "metadata": {},
   "outputs": [],
   "source": [
    "bern_data = { \"N\" : 10, \"y\" : [0,1,0,0,0,0,0,0,0,1] }"
   ]
  },
  {
   "cell_type": "markdown",
   "metadata": {},
   "source": [
    "The `Model` method `sample` runs the NUTS-HMC sampler and returns a `StanFit` object."
   ]
  },
  {
   "cell_type": "code",
   "execution_count": 6,
   "metadata": {},
   "outputs": [
    {
     "name": "stderr",
     "output_type": "stream",
     "text": [
      "INFO:cmdstanpy:start chain 1\n",
      "INFO:cmdstanpy:start chain 2\n",
      "INFO:cmdstanpy:start chain 3\n",
      "INFO:cmdstanpy:start chain 4\n",
      "INFO:cmdstanpy:finish chain 1\n",
      "INFO:cmdstanpy:finish chain 3\n",
      "INFO:cmdstanpy:finish chain 4\n",
      "INFO:cmdstanpy:finish chain 2\n"
     ]
    }
   ],
   "source": [
    "bern_fit = bernoulli_model.sample(data=bern_data)"
   ]
  },
  {
   "cell_type": "markdown",
   "metadata": {},
   "source": [
    "By default, `sample` runs 4 sampler chains.  The `chains` argument specifies the number of chains to run.  The `cores` argument specifies the number of processes to run in parallel."
   ]
  },
  {
   "cell_type": "code",
   "execution_count": 7,
   "metadata": {},
   "outputs": [
    {
     "name": "stderr",
     "output_type": "stream",
     "text": [
      "INFO:cmdstanpy:start chain 1\n",
      "INFO:cmdstanpy:start chain 2\n",
      "INFO:cmdstanpy:start chain 3\n",
      "INFO:cmdstanpy:finish chain 1\n",
      "INFO:cmdstanpy:start chain 4\n",
      "INFO:cmdstanpy:finish chain 2\n",
      "INFO:cmdstanpy:start chain 5\n",
      "INFO:cmdstanpy:finish chain 3\n",
      "INFO:cmdstanpy:finish chain 4\n",
      "INFO:cmdstanpy:finish chain 5\n"
     ]
    }
   ],
   "source": [
    "bern_fit = bernoulli_model.sample(chains=5, cores=3, data=bern_data)"
   ]
  },
  {
   "cell_type": "markdown",
   "metadata": {},
   "source": [
    "#### Access the sample: the `StanFit` object attributes and methods"
   ]
  },
  {
   "cell_type": "markdown",
   "metadata": {},
   "source": [
    "##### Summarize the results\n",
    "\n",
    "The `StanFit` method `summary` returns output of CmdStan bin/stansummary as pandas.DataFrame:"
   ]
  },
  {
   "cell_type": "code",
   "execution_count": 8,
   "metadata": {},
   "outputs": [
    {
     "data": {
      "text/html": [
       "<div>\n",
       "<style scoped>\n",
       "    .dataframe tbody tr th:only-of-type {\n",
       "        vertical-align: middle;\n",
       "    }\n",
       "\n",
       "    .dataframe tbody tr th {\n",
       "        vertical-align: top;\n",
       "    }\n",
       "\n",
       "    .dataframe thead th {\n",
       "        text-align: right;\n",
       "    }\n",
       "</style>\n",
       "<table border=\"1\" class=\"dataframe\">\n",
       "  <thead>\n",
       "    <tr style=\"text-align: right;\">\n",
       "      <th></th>\n",
       "      <th>Mean</th>\n",
       "      <th>MCSE</th>\n",
       "      <th>StdDev</th>\n",
       "      <th>5%</th>\n",
       "      <th>50%</th>\n",
       "      <th>95%</th>\n",
       "      <th>N_Eff</th>\n",
       "      <th>N_Eff/s</th>\n",
       "      <th>R_hat</th>\n",
       "    </tr>\n",
       "    <tr>\n",
       "      <th>name</th>\n",
       "      <th></th>\n",
       "      <th></th>\n",
       "      <th></th>\n",
       "      <th></th>\n",
       "      <th></th>\n",
       "      <th></th>\n",
       "      <th></th>\n",
       "      <th></th>\n",
       "      <th></th>\n",
       "    </tr>\n",
       "  </thead>\n",
       "  <tbody>\n",
       "    <tr>\n",
       "      <th>lp__</th>\n",
       "      <td>-7.274580</td>\n",
       "      <td>0.015346</td>\n",
       "      <td>0.725103</td>\n",
       "      <td>-8.729040</td>\n",
       "      <td>-6.993690</td>\n",
       "      <td>-6.749990</td>\n",
       "      <td>2232.51</td>\n",
       "      <td>14605.0</td>\n",
       "      <td>1.00112</td>\n",
       "    </tr>\n",
       "    <tr>\n",
       "      <th>theta</th>\n",
       "      <td>0.251214</td>\n",
       "      <td>0.002739</td>\n",
       "      <td>0.120618</td>\n",
       "      <td>0.079431</td>\n",
       "      <td>0.238581</td>\n",
       "      <td>0.474282</td>\n",
       "      <td>1939.92</td>\n",
       "      <td>12690.9</td>\n",
       "      <td>1.00130</td>\n",
       "    </tr>\n",
       "  </tbody>\n",
       "</table>\n",
       "</div>"
      ],
      "text/plain": [
       "           Mean      MCSE    StdDev        5%       50%       95%    N_Eff  N_Eff/s    R_hat\n",
       "name                                                                                        \n",
       "lp__  -7.274580  0.015346  0.725103 -8.729040 -6.993690 -6.749990  2232.51  14605.0  1.00112\n",
       "theta  0.251214  0.002739  0.120618  0.079431  0.238581  0.474282  1939.92  12690.9  1.00130"
      ]
     },
     "execution_count": 8,
     "metadata": {},
     "output_type": "execute_result"
    }
   ],
   "source": [
    "bern_fit.summary()"
   ]
  },
  {
   "cell_type": "markdown",
   "metadata": {},
   "source": [
    "##### Run sampler diagnostics\n",
    "\n",
    "The `StanFit` method `diagnose` prints diagnostics to console:"
   ]
  },
  {
   "cell_type": "code",
   "execution_count": 9,
   "metadata": {},
   "outputs": [],
   "source": [
    "bern_fit.diagnose()"
   ]
  },
  {
   "cell_type": "markdown",
   "metadata": {},
   "source": [
    "##### Get all draws from all chains as an in-memory pandas DataFrame\n",
    "\n",
    "The `StanFit` method `get_drawset` returns a pandas.DataFrame, one draw per row."
   ]
  },
  {
   "cell_type": "code",
   "execution_count": 10,
   "metadata": {},
   "outputs": [],
   "source": [
    "bern_drawset = bern_fit.get_drawset()"
   ]
  },
  {
   "cell_type": "markdown",
   "metadata": {},
   "source": [
    "By default, `get_drawset` returns a DataFrame which contains all columns from the sampler's csv output file, i.e., it contains both the sampler state and the values for all parameter, transformed parameter, and generated quantities variables."
   ]
  },
  {
   "cell_type": "code",
   "execution_count": 11,
   "metadata": {},
   "outputs": [
    {
     "data": {
      "text/plain": [
       "((5000, 8),\n",
       " Index(['lp__', 'accept_stat__', 'stepsize__', 'treedepth__', 'n_leapfrog__',\n",
       "        'divergent__', 'energy__', 'theta'],\n",
       "       dtype='object'))"
      ]
     },
     "execution_count": 11,
     "metadata": {},
     "output_type": "execute_result"
    }
   ],
   "source": [
    "bern_drawset.shape, bern_drawset.columns"
   ]
  },
  {
   "cell_type": "markdown",
   "metadata": {},
   "source": [
    "The `get_drawset` function argument `params` takes a list of parameter or column names:"
   ]
  },
  {
   "cell_type": "code",
   "execution_count": 12,
   "metadata": {},
   "outputs": [
    {
     "data": {
      "text/plain": [
       "(5000, 1)"
      ]
     },
     "execution_count": 12,
     "metadata": {},
     "output_type": "execute_result"
    }
   ],
   "source": [
    "thetas = bern_fit.get_drawset(params=['theta'])\n",
    "thetas.shape\n"
   ]
  },
  {
   "cell_type": "code",
   "execution_count": 13,
   "metadata": {},
   "outputs": [
    {
     "data": {
      "text/html": [
       "<div>\n",
       "<style scoped>\n",
       "    .dataframe tbody tr th:only-of-type {\n",
       "        vertical-align: middle;\n",
       "    }\n",
       "\n",
       "    .dataframe tbody tr th {\n",
       "        vertical-align: top;\n",
       "    }\n",
       "\n",
       "    .dataframe thead th {\n",
       "        text-align: right;\n",
       "    }\n",
       "</style>\n",
       "<table border=\"1\" class=\"dataframe\">\n",
       "  <thead>\n",
       "    <tr style=\"text-align: right;\">\n",
       "      <th></th>\n",
       "      <th>theta</th>\n",
       "    </tr>\n",
       "  </thead>\n",
       "  <tbody>\n",
       "    <tr>\n",
       "      <th>0</th>\n",
       "      <td>0.342321</td>\n",
       "    </tr>\n",
       "    <tr>\n",
       "      <th>1</th>\n",
       "      <td>0.443100</td>\n",
       "    </tr>\n",
       "    <tr>\n",
       "      <th>2</th>\n",
       "      <td>0.189670</td>\n",
       "    </tr>\n",
       "  </tbody>\n",
       "</table>\n",
       "</div>"
      ],
      "text/plain": [
       "      theta\n",
       "0  0.342321\n",
       "1  0.443100\n",
       "2  0.189670"
      ]
     },
     "execution_count": 13,
     "metadata": {},
     "output_type": "execute_result"
    }
   ],
   "source": [
    "thetas[0:3]"
   ]
  },
  {
   "cell_type": "code",
   "execution_count": 14,
   "metadata": {},
   "outputs": [
    {
     "data": {
      "text/plain": [
       "<matplotlib.axes._subplots.AxesSubplot at 0x120638cc0>"
      ]
     },
     "execution_count": 14,
     "metadata": {},
     "output_type": "execute_result"
    },
    {
     "data": {
      "image/png": "[encoded data removed]",
      "text/plain": [
       "<Figure size 432x288 with 1 Axes>"
      ]
     },
     "metadata": {
      "image/png": {
       "height": 250,
       "width": 387
      },
      "needs_background": "light"
     },
     "output_type": "display_data"
    }
   ],
   "source": [
    "bern_drawset.theta.plot.density()"
   ]
  },
  {
   "cell_type": "markdown",
   "metadata": {},
   "source": [
    "The `StanFit` property `sample` is a 3-D numpy ndarray which contains all draws across all chains.  This array is created only as needed; therefore the first time that this property is accessed CmdStanPy will read in the contents of the sampler's csv output files.  Because the csv output files also contain stepsize and metric information, the `stepsize` and `metric` arrays will also be created.\n",
    "\n",
    "The numpy ndarray is stored column major format so that values for each parameter are stored contiguously in memory, likewise all draws from a chain are contiguous.  Thus the dimensions of the ndarray are arranged as follows:  (draws, chains, columns):"
   ]
  },
  {
   "cell_type": "code",
   "execution_count": 15,
   "metadata": {},
   "outputs": [
    {
     "data": {
      "text/plain": [
       "array([[[-6.98736  ,  1.       ,  0.860234 , ...,  0.       ,\n",
       "          7.2668   ,  0.342321 ],\n",
       "        [-6.7971   ,  1.       ,  0.954811 , ...,  0.       ,\n",
       "          6.82357  ,  0.212266 ],\n",
       "        [-7.21364  ,  1.       ,  1.11266  , ...,  0.       ,\n",
       "          8.00017  ,  0.381288 ],\n",
       "        [-6.88119  ,  1.       ,  1.14001  , ...,  0.       ,\n",
       "          7.15379  ,  0.189466 ],\n",
       "        [-7.72439  ,  0.999538 ,  1.02057  , ...,  0.       ,\n",
       "          8.07603  ,  0.444605 ]],\n",
       "\n",
       "       [[-7.7102   ,  0.813175 ,  0.860234 , ...,  0.       ,\n",
       "          7.71294  ,  0.4431   ],\n",
       "        [-6.84176  ,  0.987872 ,  0.954811 , ...,  0.       ,\n",
       "          6.84871  ,  0.198646 ],\n",
       "        [-7.07381  ,  1.       ,  1.11266  , ...,  0.       ,\n",
       "          7.25283  ,  0.358643 ],\n",
       "        [-6.79461  ,  1.       ,  1.14001  , ...,  0.       ,\n",
       "          6.8601   ,  0.213197 ],\n",
       "        [-7.19766  ,  1.       ,  1.02057  , ...,  0.       ,\n",
       "          7.63383  ,  0.378876 ]],\n",
       "\n",
       "       [[-6.88023  ,  0.907623 ,  0.860234 , ...,  0.       ,\n",
       "          8.30322  ,  0.18967  ],\n",
       "        [-7.41527  ,  0.891816 ,  0.954811 , ...,  0.       ,\n",
       "          7.76332  ,  0.408961 ],\n",
       "        [-7.03537  ,  1.       ,  1.11266  , ...,  0.       ,\n",
       "          7.14791  ,  0.351666 ],\n",
       "        [-7.06237  ,  0.948208 ,  1.14001  , ...,  0.       ,\n",
       "          7.06318  ,  0.160569 ],\n",
       "        [-7.26078  ,  0.992377 ,  1.02057  , ...,  0.       ,\n",
       "          7.40724  ,  0.38819  ]],\n",
       "\n",
       "       ...,\n",
       "\n",
       "       [[-6.74852  ,  0.997491 ,  0.860234 , ...,  0.       ,\n",
       "          6.88181  ,  0.246054 ],\n",
       "        [-7.33802  ,  0.995907 ,  0.954811 , ...,  0.       ,\n",
       "          7.46484  ,  0.132888 ],\n",
       "        [-9.77916  ,  0.6843   ,  1.11266  , ...,  0.       ,\n",
       "         10.3343   ,  0.0439407],\n",
       "        [-7.26442  ,  1.       ,  1.14001  , ...,  0.       ,\n",
       "          7.41258  ,  0.139213 ],\n",
       "        [-6.7806   ,  1.       ,  1.02057  , ...,  0.       ,\n",
       "          7.07924  ,  0.282772 ]],\n",
       "\n",
       "       [[-7.90862  ,  0.836815 ,  0.860234 , ...,  0.       ,\n",
       "          7.93139  ,  0.0974214],\n",
       "        [-8.32544  ,  0.920189 ,  0.954811 , ...,  0.       ,\n",
       "          8.39802  ,  0.500638 ],\n",
       "        [-8.79993  ,  1.       ,  1.11266  , ...,  0.       ,\n",
       "          9.74216  ,  0.0651385],\n",
       "        [-7.37222  ,  0.977937 ,  1.14001  , ...,  0.       ,\n",
       "          7.47425  ,  0.130141 ],\n",
       "        [-7.17187  ,  0.906498 ,  1.02057  , ...,  0.       ,\n",
       "          7.17287  ,  0.374898 ]],\n",
       "\n",
       "       [[-6.76527  ,  0.937339 ,  0.860234 , ...,  0.       ,\n",
       "          8.51186  ,  0.273681 ],\n",
       "        [-6.93599  ,  1.       ,  0.954811 , ...,  0.       ,\n",
       "          7.79265  ,  0.331304 ],\n",
       "        [-7.6833   ,  0.930759 ,  1.11266  , ...,  0.       ,\n",
       "          8.65908  ,  0.109266 ],\n",
       "        [-6.85274  ,  0.935614 ,  1.14001  , ...,  0.       ,\n",
       "          7.51746  ,  0.309886 ],\n",
       "        [-6.74894  ,  1.       ,  1.02057  , ...,  0.       ,\n",
       "          7.06948  ,  0.255369 ]]])"
      ]
     },
     "execution_count": 15,
     "metadata": {},
     "output_type": "execute_result"
    },
    {
     "data": {
      "text/plain": [
       "(1000, 5, 8)"
      ]
     },
     "execution_count": 15,
     "metadata": {},
     "output_type": "execute_result"
    }
   ],
   "source": [
    "bern_fit.sample\n",
    "bern_fit.sample.shape"
   ]
  },
  {
   "cell_type": "markdown",
   "metadata": {},
   "source": [
    "Python's index slicing operations can be used to access the information by chain.\n",
    "For example, to select all draws and all output columns from the first chain,\n",
    "we specify the chain index (2nd index dimension).  As arrays indexing starts at 0,\n",
    "the index '0' corresponds to the first chain in the ``RunSet``.\n",
    "\n",
    "The following expression selects the first 3 draws from chain 1 for the parameter `theta`:"
   ]
  },
  {
   "cell_type": "code",
   "execution_count": 16,
   "metadata": {},
   "outputs": [
    {
     "data": {
      "text/plain": [
       "('theta', array([0.342321, 0.4431  , 0.18967 ]))"
      ]
     },
     "execution_count": 16,
     "metadata": {},
     "output_type": "execute_result"
    }
   ],
   "source": [
    "bern_fit.column_names[7], bern_fit.sample[0:3,0,7]"
   ]
  },
  {
   "cell_type": "markdown",
   "metadata": {},
   "source": [
    "#### stepsize\n",
    "\n",
    "The `StanFit` property `stepsize` property is a 1-D numpy ndarray which contains the stepsize used by the sampler for each chain.  This array is created at the same time as the `sample` and `metric` arrays are created.\n",
    "\n",
    "At the end of adaptation, the stepsize for the 4 chains in this example is:"
   ]
  },
  {
   "cell_type": "code",
   "execution_count": 17,
   "metadata": {},
   "outputs": [
    {
     "data": {
      "text/plain": [
       "array([0.860234, 0.954811, 1.11266 , 1.14001 , 1.02057 ])"
      ]
     },
     "execution_count": 17,
     "metadata": {},
     "output_type": "execute_result"
    }
   ],
   "source": [
    "bern_fit.stepsize"
   ]
  },
  {
   "cell_type": "markdown",
   "metadata": {},
   "source": [
    "#### metric_type, metric\n",
    "\n",
    "The `metric` property is an numpy ndarray which contains the metric used by the sampler for each chain.  This array is created at the same time as the `sample` and `stepsize` arrays are created.\n",
    "\n",
    "At the end of adaptation, the metric for the 4 chains in this example is:"
   ]
  },
  {
   "cell_type": "code",
   "execution_count": 18,
   "metadata": {},
   "outputs": [
    {
     "data": {
      "text/plain": [
       "('diag_e', array([[0.549992],\n",
       "        [0.610039],\n",
       "        [0.403894],\n",
       "        [0.454962],\n",
       "        [0.496115]]))"
      ]
     },
     "execution_count": 18,
     "metadata": {},
     "output_type": "execute_result"
    }
   ],
   "source": [
    "bern_fit.metric_type,  bern_fit.metric"
   ]
  },
  {
   "cell_type": "markdown",
   "metadata": {},
   "source": [
    "### Example 2:  Compile and run CmdStan example model `bernoulli_ppc.stan`, data `bernoulli.data.json` and execute generate_quantities method\n",
    "\n",
    "The `bernoulli_ppc` directory contains the Stan model and the results of a fitted bernoulli sampler.  In this example we execute the `generated quantities` block using previously fitted parameters from a bernoulli sampler.  The `generated quantities` method can be used to generate additional quantities of interest conditioned on the data.  For example, `generated quantities` can be used for generating predictions for new data, calculating posterior event probabilities,  transforming parameters for reporting, etc.\n",
    "\n",
    "The data paths below will work if run from the parent cmdstanpy directory."
   ]
  },
  {
   "cell_type": "code",
   "execution_count": 31,
   "metadata": {},
   "outputs": [],
   "source": [
    "CWD = os.getcwd()\n",
    "test_data_path = os.path.join(CWD, 'test', 'data')\n",
    "bernoulli_ppc_path = os.path.join(test_data_path, 'bernoulli_ppc')\n",
    "bernoulli_ppc_model = os.path.join(bernoulli_ppc_path,'bernoulli_ppc.stan')\n",
    "sampling_output_file = os.path.join(bernoulli_ppc_path,'sampling_output.csv')"
   ]
  },
  {
   "cell_type": "markdown",
   "metadata": {},
   "source": [
    "First we create a Model object for the specified Stan program file, which contains a `generated quantities` block, then we call the compile method to create the corresponding C++ executable program.\n",
    "\n",
    "`\n",
    "generated quantities {\n",
    "  real mu = theta;\n",
    "  int y_rep[N];\n",
    "  for (n in 1:N)\n",
    "    y_rep[n] = bernoulli_rng(theta);\n",
    "}`"
   ]
  },
  {
   "cell_type": "code",
   "execution_count": null,
   "metadata": {},
   "outputs": [],
   "source": [
    "bern_gq_model = Model(stan_file=stan_file)\n",
    "bern_gq_model.compile()\n",
    "print(bern_gq_model)"
   ]
  },
  {
   "cell_type": "markdown",
   "metadata": {},
   "source": [
    "The `run_generate_quantities` method executes the `generated quantities` block in the stan model using the fitted parameters provided in `fitted_params_file`.  The data used to fit the model should be specified as `data`.  The `run_generate_quantities` returns a `StanFit` object."
   ]
  },
  {
   "cell_type": "code",
   "execution_count": 29,
   "metadata": {},
   "outputs": [
    {
     "name": "stderr",
     "output_type": "stream",
     "text": [
      "INFO:cmdstanpy:start chain 1\n",
      "INFO:cmdstanpy:finish chain 1\n"
     ]
    }
   ],
   "source": [
    "stanfit_gq = bern_gq_model.run_generate_quantities(fitted_params_file=sampling_output_file,data = bern_json)"
   ]
  },
  {
   "cell_type": "markdown",
   "metadata": {},
   "source": [
    "The `StanFit` property `generated_quantities` returns a numpy ndarray of the result."
   ]
  },
  {
   "cell_type": "code",
   "execution_count": 30,
   "metadata": {},
   "outputs": [
    {
     "data": {
      "text/plain": [
       "array([[0.170975 , 1.       , 0.       , ..., 0.       , 0.       ,\n",
       "        0.       ],\n",
       "       [0.278471 , 0.       , 0.       , ..., 1.       , 1.       ,\n",
       "        0.       ],\n",
       "       [0.0961425, 0.       , 0.       , ..., 0.       , 0.       ,\n",
       "        0.       ],\n",
       "       ...,\n",
       "       [0.310705 , 0.       , 1.       , ..., 0.       , 0.       ,\n",
       "        0.       ],\n",
       "       [0.273562 , 0.       , 0.       , ..., 0.       , 0.       ,\n",
       "        0.       ],\n",
       "       [0.388814 , 1.       , 0.       , ..., 0.       , 0.       ,\n",
       "        1.       ]])"
      ]
     },
     "execution_count": 30,
     "metadata": {},
     "output_type": "execute_result"
    }
   ],
   "source": [
    "stanfit_gq.generated_quantities"
   ]
  }
 ],
 "metadata": {
  "kernelspec": {
   "display_name": "Python 3",
   "language": "python",
   "name": "python3"
  },
  "language_info": {
   "codemirror_mode": {
    "name": "ipython",
    "version": 3
   },
   "file_extension": ".py",
   "mimetype": "text/x-python",
   "name": "python",
   "nbconvert_exporter": "python",
   "pygments_lexer": "ipython3",
   "version": "3.7.3"
  }
 },
 "nbformat": 4,
 "nbformat_minor": 2
}
