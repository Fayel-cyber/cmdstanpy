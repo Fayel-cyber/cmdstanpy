{
 "cells": [
  {
   "cell_type": "markdown",
   "metadata": {},
   "source": [
    "## Using Variational Estimates to Initialize the NUTS-HMC Sampler\n",
    "\n",
    "In this example we show how to use the parameter estimates return by Stan's variational inference algorithm\n",
    "as the initial parameter values for Stan's NUTS-HMC sampler, using a the [earnings-logearn_height model](https://github.com/stan-dev/posteriordb/blob/master/posterior_database/models/stan/logearn_height.stan) and data from the [posteriordb package](https://github.com/stan-dev/posteriordb).\n",
    "\n",
    "The experiments reported in the paper [Pathfinder: Parallel quasi-Newton variational inference](https://arxiv.org/abs/2108.03782) by Zhang et al. show that mean-field ADVI provides a better estimate of the posterior, as measured by the 1-Wasserstein distance to the reference posterior, than 75 iterations of the warmup Phase I algorithm used by the NUTS-HMC sampler, furthermore, ADVI is more computationally efficient, requiring fewer evaluations of the log density and gradient functions.  Therefore, using the estimates from ADVI to initialize the parameter values for the NUTS-HMC sampler will allow the sampler to do a better job of adapting the stepsize and metric during warmup, resulting in better performance and estimation.\n",
    "\n",
    "\n",
    "### Model and data\n",
    "\n",
    "For conveince, we have copied the posteriordb model and data to this directory, in files [logearn_height.stan](logearn_height.stan) and [earnings.json](earnings.json)."
   ]
  },
  {
   "cell_type": "code",
   "execution_count": null,
   "metadata": {},
   "outputs": [],
   "source": [
    "import os\n",
    "from cmdstanpy import CmdStanModel\n",
    "    \n",
    "stan_file = 'logearn_height.stan'\n",
    "data_file = 'earnings.json'\n",
    "\n",
    "# instantiate, compile bernoulli model\n",
    "model = CmdStanModel(stan_file=stan_file)"
   ]
  },
  {
   "cell_type": "markdown",
   "metadata": {},
   "source": [
    "### Run Stan's variational inference algorithm, obtain fitted estimates\n",
    "\n",
    "The `CmdStanModel` method `variational` runs CmdStan's ADVI algorithm.\n",
    "Conditioning the model on the data results in a posterior geometry which is difficult to navigate.  Because the ADVI algorithm may fail to converge, we run it with argument `require_converged` set to `False`."
   ]
  },
  {
   "cell_type": "code",
   "execution_count": null,
   "metadata": {},
   "outputs": [],
   "source": [
    "vb_fit = model.variational(data=data_file, require_converged=False, seed=123)"
   ]
  },
  {
   "cell_type": "markdown",
   "metadata": {},
   "source": [
    "The ADVI algorithm provides estimates of all model parameters as well as the step size scaling factor `eta`.\n",
    "\n",
    "The `variational` method returns a `CmdStanVB` object, with methods `eta` and `stan_variables`, which\n",
    "return the step size scaling factor and estimates of all model parameters as a Python dictionary respectively."
   ]
  },
  {
   "cell_type": "code",
   "execution_count": null,
   "metadata": {},
   "outputs": [],
   "source": [
    "print(vb_fit.eta, vb_fit.stan_variables())"
   ]
  },
  {
   "cell_type": "markdown",
   "metadata": {},
   "source": [
    "Posteriordb provides reference posteriors for all models.  For the logearn_height model, conditioned on the dataset `earnings.json`, the posterior variables are:\n",
    "\n",
    "- beta[1]:  5.782\n",
    "- beta[2]:  0.059\n",
    "- sigma: 0.894\n",
    "\n",
    "By default, the sampler algorithm randomly initializes all model parameters in the range uniform[-2, 2].  The ADVI estimates will provide a better starting point, especially w/r/t to parameter `beta[1]`, than the defaults.\n",
    "In addition, we can use the step size scaling factor to scale the initial step size, which allows us to skip the first phase of warmup (default 75 iterations)."
   ]
  },
  {
   "cell_type": "code",
   "execution_count": null,
   "metadata": {},
   "outputs": [],
   "source": [
    "vb_vars = vb_fit.stan_variables()\n",
    "vb_stepsize = 1.0 / vb_fit.eta\n",
    "mcmc_vb_inits_fit = model.sample(\n",
    "    data=data_file, inits=vb_vars, step_size=vb_stepsize,\n",
    "    adapt_init_phase=0, seed=123\n",
    ")"
   ]
  },
  {
   "cell_type": "code",
   "execution_count": null,
   "metadata": {},
   "outputs": [],
   "source": [
    "mcmc_vb_inits_fit.summary()"
   ]
  },
  {
   "cell_type": "markdown",
   "metadata": {},
   "source": [
    "The sampler results match the reference posterior, (taking into account MCSE).\n",
    "\n",
    "- beta[1]:  5.782\n",
    "- beta[2]:  0.059\n",
    "- sigma: 0.894\n",
    "\n",
    "To see how this is useful, we run the sampler with default initializations, step size, and warmup, (same random seed)."
   ]
  },
  {
   "cell_type": "code",
   "execution_count": null,
   "metadata": {},
   "outputs": [],
   "source": [
    "mcmc_random_inits_fit = model.sample(data=data_file, seed=123)"
   ]
  },
  {
   "cell_type": "code",
   "execution_count": null,
   "metadata": {},
   "outputs": [],
   "source": [
    "mcmc_random_inits_fit.summary()"
   ]
  },
  {
   "cell_type": "markdown",
   "metadata": {},
   "source": [
    "On my machine, using the variational estimates to skip warmup phase I shows improved N_Eff/s (number of effective sampler per second) values for all parameters.\n",
    "\n",
    "This is a simple model run on a small dataset.  For complex models where the initial parameter values are far from the default initializations, this procedure may allow for faster and better adaptation during warmup."
   ]
  }
 ],
 "metadata": {
  "kernelspec": {
   "display_name": "Python 3",
   "language": "python",
   "name": "python3"
  },
  "language_info": {
   "codemirror_mode": {
    "name": "ipython",
    "version": 3
   },
   "file_extension": ".py",
   "mimetype": "text/x-python",
   "name": "python",
   "nbconvert_exporter": "python",
   "pygments_lexer": "ipython3",
   "version": "3.8.5"
  }
 },
 "nbformat": 4,
 "nbformat_minor": 4
}
