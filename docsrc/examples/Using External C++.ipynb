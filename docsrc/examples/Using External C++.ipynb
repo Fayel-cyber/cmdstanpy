{
 "cells": [
  {
   "cell_type": "markdown",
   "source": [
    "# Advanced Topic: Using External C++ Functions\n",
    "\n",
    "This is based on the relevant portion of the CmdStan documentation [here](https://mc-stan.org/docs/cmdstan-guide/using-external-cpp-code.html)"
   ],
   "metadata": {}
  },
  {
   "cell_type": "markdown",
   "source": [
    "Consider the following Stan model, based on the bernoulli example."
   ],
   "metadata": {}
  },
  {
   "cell_type": "code",
   "execution_count": null,
   "source": [
    "import os\n",
    "from cmdstanpy import cmdstan_path, CmdStanModel\n",
    "model_external = CmdStanModel(stan_file='bernoulli_external.stan', compile=False)\n",
    "print(model_external.code())"
   ],
   "outputs": [],
   "metadata": {}
  },
  {
   "cell_type": "markdown",
   "source": [
    "As you can see, it features a function declaration for `make_odds`, but no definition. If we try to compile this, we will get an error. "
   ],
   "metadata": {}
  },
  {
   "cell_type": "code",
   "execution_count": null,
   "source": [
    "model_external.compile()"
   ],
   "outputs": [],
   "metadata": {}
  },
  {
   "cell_type": "markdown",
   "source": [
    "Even enabling the `--allow_undefined` flag to stanc3 will not allow this model to be compiled quite yet."
   ],
   "metadata": {}
  },
  {
   "cell_type": "code",
   "execution_count": null,
   "source": [
    "model_external.compile(stanc_options={'allow_undefined':True})"
   ],
   "outputs": [],
   "metadata": {}
  },
  {
   "cell_type": "markdown",
   "source": [
    "To resolve this, we need to both tell the Stan compiler an undefined function is okay **and** let C++ know what it should be. \n",
    "\n",
    "We can provide a definition in a C++ header file by using the `user_header` argument to either the CmdStanModel constructor or the `compile` method. \n",
    "\n",
    "This will enables the `allow_undefined` flag automatically."
   ],
   "metadata": {}
  },
  {
   "cell_type": "code",
   "execution_count": null,
   "source": [
    "model_external.compile(user_header='make_odds.hpp')"
   ],
   "outputs": [],
   "metadata": {}
  },
  {
   "cell_type": "markdown",
   "source": [
    "We can then run this model and inspect the output"
   ],
   "metadata": {}
  },
  {
   "cell_type": "code",
   "execution_count": null,
   "source": [
    "fit = model_external.sample(data={'N':10, 'y':[0,1,0,0,0,0,0,0,0,1]})\n",
    "fit.stan_variable('odds')"
   ],
   "outputs": [],
   "metadata": {}
  },
  {
   "cell_type": "markdown",
   "source": [
    "The contents of this header file are a bit complicated unless you are familiar with the C++ internals of Stan, so they are presented without comment:\n",
    "\n",
    "```c++\n",
    "#include <boost/math/tools/promotion.hpp>\n",
    "#include <ostream>\n",
    "\n",
    "namespace bernoulli_model_namespace {\n",
    "    template <typename T0__>  inline  typename\n",
    "          boost::math::tools::promote_args<T0__>::type  \n",
    "          make_odds(const T0__& theta, std::ostream* pstream__) {\n",
    "            return theta / (1 - theta);  \n",
    "       }\n",
    "}\n",
    "```"
   ],
   "metadata": {}
  }
 ],
 "metadata": {
  "orig_nbformat": 4,
  "language_info": {
   "name": "python",
   "version": "3.9.5",
   "mimetype": "text/x-python",
   "codemirror_mode": {
    "name": "ipython",
    "version": 3
   },
   "pygments_lexer": "ipython3",
   "nbconvert_exporter": "python",
   "file_extension": ".py"
  },
  "kernelspec": {
   "name": "python3",
   "display_name": "Python 3.9.5 64-bit ('stan': conda)"
  },
  "interpreter": {
   "hash": "d31ce8e45781476cfd394e192e0962028add96ff436d4fd4e560a347d206b9cb"
  }
 },
 "nbformat": 4,
 "nbformat_minor": 2
}