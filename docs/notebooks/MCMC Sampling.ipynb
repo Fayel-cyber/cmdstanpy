{
 "cells": [
  {
   "cell_type": "markdown",
   "metadata": {},
   "source": [
    "# MCMC Sampling\n",
    "\n",
    "The  `CmdStanModel` class method  `sample` invokes Stan's adaptive HMC-NUTS\n",
    "sampler which uses the Hamiltonian Monte Carlo (HMC) algorithm\n",
    "and its adaptive variant the no-U-turn sampler (NUTS) to produce a set of\n",
    "draws from the posterior distribution of the model parameters conditioned on the data.\n",
    "It returns a `CmdStanMCMC` object\n",
    "which provides properties to retrieve information about the sample, as well as methods\n",
    "to run CmdStan's summary and diagnostics tools.\n",
    "\n",
    "In order to evaluate the fit of the model to the data, it is necessary to run\n",
    "several Monte Carlo chains and compare the set of draws returned by each.\n",
    "By default, the `sample` command runs 4 sampler chains, i.e.,\n",
    "CmdStanPy invokes CmdStan 4 times.\n",
    "CmdStanPy uses Python's `subprocess` and `multiprocessing` libraries\n",
    "to run these chains in separate processes.\n",
    "This processing can be done in parallel, up to the number of\n",
    "processor cores available."
   ]
  },
  {
   "cell_type": "markdown",
   "metadata": {},
   "source": [
    "## Fitting a model to data\n",
    "\n",
    "In this example we use the CmdStan example model\n",
    "[bernoulli.stan](https://github.com/stan-dev/cmdstanpy/blob/master/test/data/bernoulli.stan)\n",
    "and data file\n",
    "[bernoulli.data.json](https://github.com/stan-dev/cmdstanpy/blob/master/test/data/bernoulli.data.json>).\n",
    "\n",
    "We instantiate a model and do sampling using the default CmdStan settings:"
   ]
  },
  {
   "cell_type": "code",
   "execution_count": 1,
   "metadata": {},
   "outputs": [
    {
     "name": "stderr",
     "output_type": "stream",
     "text": [
      "INFO:cmdstanpy:found newer exe file, not recompiling\n",
      "INFO:cmdstanpy:compiled model file: /Users/mitzi/.cmdstanpy/cmdstan-2.24.0/examples/bernoulli/bernoulli\n",
      "INFO:cmdstanpy:start chain 1\n",
      "INFO:cmdstanpy:start chain 2\n",
      "INFO:cmdstanpy:start chain 3\n",
      "INFO:cmdstanpy:start chain 4\n",
      "INFO:cmdstanpy:finish chain 1\n",
      "INFO:cmdstanpy:finish chain 3\n",
      "INFO:cmdstanpy:finish chain 2\n",
      "INFO:cmdstanpy:finish chain 4\n"
     ]
    },
    {
     "data": {
      "text/html": [
       "<div>\n",
       "<style scoped>\n",
       "    .dataframe tbody tr th:only-of-type {\n",
       "        vertical-align: middle;\n",
       "    }\n",
       "\n",
       "    .dataframe tbody tr th {\n",
       "        vertical-align: top;\n",
       "    }\n",
       "\n",
       "    .dataframe thead th {\n",
       "        text-align: right;\n",
       "    }\n",
       "</style>\n",
       "<table border=\"1\" class=\"dataframe\">\n",
       "  <thead>\n",
       "    <tr style=\"text-align: right;\">\n",
       "      <th></th>\n",
       "      <th>Mean</th>\n",
       "      <th>MCSE</th>\n",
       "      <th>StdDev</th>\n",
       "      <th>5%</th>\n",
       "      <th>50%</th>\n",
       "      <th>95%</th>\n",
       "      <th>N_Eff</th>\n",
       "      <th>N_Eff/s</th>\n",
       "      <th>R_hat</th>\n",
       "    </tr>\n",
       "    <tr>\n",
       "      <th>name</th>\n",
       "      <th></th>\n",
       "      <th></th>\n",
       "      <th></th>\n",
       "      <th></th>\n",
       "      <th></th>\n",
       "      <th></th>\n",
       "      <th></th>\n",
       "      <th></th>\n",
       "      <th></th>\n",
       "    </tr>\n",
       "  </thead>\n",
       "  <tbody>\n",
       "    <tr>\n",
       "      <th>lp__</th>\n",
       "      <td>-7.248630</td>\n",
       "      <td>0.017720</td>\n",
       "      <td>0.696304</td>\n",
       "      <td>-8.67105</td>\n",
       "      <td>-6.978280</td>\n",
       "      <td>-6.750120</td>\n",
       "      <td>1544.13</td>\n",
       "      <td>7388.18</td>\n",
       "      <td>0.999685</td>\n",
       "    </tr>\n",
       "    <tr>\n",
       "      <th>theta</th>\n",
       "      <td>0.248684</td>\n",
       "      <td>0.003088</td>\n",
       "      <td>0.117110</td>\n",
       "      <td>0.08323</td>\n",
       "      <td>0.235217</td>\n",
       "      <td>0.463638</td>\n",
       "      <td>1437.90</td>\n",
       "      <td>6879.89</td>\n",
       "      <td>1.002630</td>\n",
       "    </tr>\n",
       "  </tbody>\n",
       "</table>\n",
       "</div>"
      ],
      "text/plain": [
       "           Mean      MCSE    StdDev       5%       50%       95%    N_Eff  \\\n",
       "name                                                                        \n",
       "lp__  -7.248630  0.017720  0.696304 -8.67105 -6.978280 -6.750120  1544.13   \n",
       "theta  0.248684  0.003088  0.117110  0.08323  0.235217  0.463638  1437.90   \n",
       "\n",
       "       N_Eff/s     R_hat  \n",
       "name                      \n",
       "lp__   7388.18  0.999685  \n",
       "theta  6879.89  1.002630  "
      ]
     },
     "execution_count": 1,
     "metadata": {},
     "output_type": "execute_result"
    }
   ],
   "source": [
    "import os\n",
    "from cmdstanpy.model import CmdStanModel\n",
    "from cmdstanpy.utils import cmdstan_path\n",
    "    \n",
    "bernoulli_dir = os.path.join(cmdstan_path(), 'examples', 'bernoulli')\n",
    "bernoulli_path = os.path.join(bernoulli_dir, 'bernoulli.stan')\n",
    "bernoulli_data = os.path.join(bernoulli_dir, 'bernoulli.data.json')\n",
    "\n",
    "# instantiate, compile bernoulli model\n",
    "bernoulli_model = CmdStanModel(stan_file=bernoulli_path)\n",
    "\n",
    "# run CmdStan's sample method, returns object `CmdStanMCMC`\n",
    "bern_fit = bernoulli_model.sample(data=bernoulli_data)\n",
    "bern_fit.summary()"
   ]
  },
  {
   "cell_type": "markdown",
   "metadata": {},
   "source": [
    "The ``bern_fit`` object records the command, the return code,\n",
    "and the paths to the sampler output csv and console files.\n",
    "The string representation of this object displays the CmdStan commands and\n",
    "the location of the output files.\n",
    "\n",
    "Output filenames are composed of the model name, a timestamp\n",
    "in the form YYYYMMDDhhmm and the chain id, plus the corresponding\n",
    "filetype suffix, either '.csv' for the CmdStan output or '.txt' for\n",
    "the console messages, e.g. `bernoulli-201912081451-1.csv`. Output files\n",
    "written to the temporary directory contain an additional 8-character\n",
    "random string, e.g. `bernoulli-201912081451-1-5nm6as7u.csv`."
   ]
  },
  {
   "cell_type": "code",
   "execution_count": 2,
   "metadata": {},
   "outputs": [
    {
     "data": {
      "text/plain": [
       "CmdStanMCMC: model=bernoulli chains=4['method=sample', 'algorithm=hmc', 'adapt', 'engaged=1']\n",
       " csv_files:\n",
       "\t/var/folders/sc/0f0wdc_11_xgjs2v52g20fvr0000gn/T/tmpkorblq_n/bernoulli-202008181851-1-w4q71ta0.csv\n",
       "\t/var/folders/sc/0f0wdc_11_xgjs2v52g20fvr0000gn/T/tmpkorblq_n/bernoulli-202008181851-2-9w584a45.csv\n",
       "\t/var/folders/sc/0f0wdc_11_xgjs2v52g20fvr0000gn/T/tmpkorblq_n/bernoulli-202008181851-3-ciwuk44m.csv\n",
       "\t/var/folders/sc/0f0wdc_11_xgjs2v52g20fvr0000gn/T/tmpkorblq_n/bernoulli-202008181851-4-3ko38ipr.csv\n",
       " output_files:\n",
       "\t/var/folders/sc/0f0wdc_11_xgjs2v52g20fvr0000gn/T/tmpkorblq_n/bernoulli-202008181851-1-w4q71ta0-stdout.txt\n",
       "\t/var/folders/sc/0f0wdc_11_xgjs2v52g20fvr0000gn/T/tmpkorblq_n/bernoulli-202008181851-2-9w584a45-stdout.txt\n",
       "\t/var/folders/sc/0f0wdc_11_xgjs2v52g20fvr0000gn/T/tmpkorblq_n/bernoulli-202008181851-3-ciwuk44m-stdout.txt\n",
       "\t/var/folders/sc/0f0wdc_11_xgjs2v52g20fvr0000gn/T/tmpkorblq_n/bernoulli-202008181851-4-3ko38ipr-stdout.txt"
      ]
     },
     "execution_count": 2,
     "metadata": {},
     "output_type": "execute_result"
    }
   ],
   "source": [
    "bern_fit"
   ]
  },
  {
   "cell_type": "markdown",
   "metadata": {},
   "source": [
    "The sampler output files are written to a temporary directory which\n",
    "is deleted upon session exit unless the ``output_dir`` argument is specified.\n",
    "The ``save_csvfiles`` function moves the CmdStan csv output files\n",
    "to a specified directory without having to re-run the sampler."
   ]
  },
  {
   "cell_type": "code",
   "execution_count": 3,
   "metadata": {},
   "outputs": [
    {
     "data": {
      "text/plain": [
       "CmdStanMCMC: model=bernoulli chains=4['method=sample', 'algorithm=hmc', 'adapt', 'engaged=1']\n",
       " csv_files:\n",
       "\t./bernoulli-202008181851-1.csv\n",
       "\t./bernoulli-202008181851-2.csv\n",
       "\t./bernoulli-202008181851-3.csv\n",
       "\t./bernoulli-202008181851-4.csv\n",
       " output_files:\n",
       "\t/var/folders/sc/0f0wdc_11_xgjs2v52g20fvr0000gn/T/tmpkorblq_n/bernoulli-202008181851-1-w4q71ta0-stdout.txt\n",
       "\t/var/folders/sc/0f0wdc_11_xgjs2v52g20fvr0000gn/T/tmpkorblq_n/bernoulli-202008181851-2-9w584a45-stdout.txt\n",
       "\t/var/folders/sc/0f0wdc_11_xgjs2v52g20fvr0000gn/T/tmpkorblq_n/bernoulli-202008181851-3-ciwuk44m-stdout.txt\n",
       "\t/var/folders/sc/0f0wdc_11_xgjs2v52g20fvr0000gn/T/tmpkorblq_n/bernoulli-202008181851-4-3ko38ipr-stdout.txt"
      ]
     },
     "execution_count": 3,
     "metadata": {},
     "output_type": "execute_result"
    }
   ],
   "source": [
    "bern_fit.save_csvfiles(dir='.')\n",
    "bern_fit"
   ]
  },
  {
   "cell_type": "markdown",
   "metadata": {},
   "source": [
    "## Running the sampler with `fixed_param=True` to generate simulated data.\n",
    "\n",
    "In this example we show how to generate a sample using a known value of some parameter $\\theta$.  Being able to generate sample data is a key component of the Bayesian workflow; it allows us to demonstrate model correctness.\n",
    "When fitting a model to simulated data, we expect the model to recover the true parameter value, however the estimate will have some amount of variation; this is the _sampling uncertainty_.  See the Stan User's Guide chapter on [posterior predictive sampling](https://mc-stan.org/docs/stan-users-guide/sampling-from-the-posterior-predictive-distribution.html) for futher discussion.\n",
    "\n",
    "The sample is generated from running the MCMC sampler on a Stan program; because the value of the parameter is declared as data instead of estimated in the program's model block, which is empty, it is necessary to run the sampler with argument `fixed_param=True`."
   ]
  },
  {
   "cell_type": "code",
   "execution_count": 4,
   "metadata": {},
   "outputs": [
    {
     "name": "stderr",
     "output_type": "stream",
     "text": [
      "INFO:cmdstanpy:compiling stan program, exe file: /Users/mitzi/github/stan-dev/cmdstanpy/docs/notebooks/bernoulli_datagen\n",
      "INFO:cmdstanpy:compiler options: stanc_options=None, cpp_options=None\n",
      "INFO:cmdstanpy:compiled model file: /Users/mitzi/github/stan-dev/cmdstanpy/docs/notebooks/bernoulli_datagen\n"
     ]
    },
    {
     "name": "stdout",
     "output_type": "stream",
     "text": [
      "data { \n",
      "  int<lower=0> N;\n",
      "  real<lower=0,upper=1> theta;\n",
      "} \n",
      "generated quantities {\n",
      "  int theta_rep = 0;\n",
      "  for (n in 1:N)\n",
      "    theta_rep += bernoulli_rng(theta);\n",
      "}\n",
      "\n"
     ]
    }
   ],
   "source": [
    "datagen_model=CmdStanModel(stan_file='bernoulli_datagen.stan')\n",
    "print(datagen_model.code())"
   ]
  },
  {
   "cell_type": "markdown",
   "metadata": {},
   "source": [
    "The program `bernoulli_datagen.stan` declares two variables in the `data` block:  `N`, the number of Bernoulli trials, and `theta`, the probability of success.  In the `generated quantities` block of the program we define variable `theta_rep` which accumulates the total successful outcomes for `N` trials with probability `theta`."
   ]
  },
  {
   "cell_type": "code",
   "execution_count": 7,
   "metadata": {},
   "outputs": [
    {
     "name": "stderr",
     "output_type": "stream",
     "text": [
      "INFO:cmdstanpy:start chain 1\n",
      "INFO:cmdstanpy:finish chain 1\n"
     ]
    },
    {
     "data": {
      "text/html": [
       "<div>\n",
       "<style scoped>\n",
       "    .dataframe tbody tr th:only-of-type {\n",
       "        vertical-align: middle;\n",
       "    }\n",
       "\n",
       "    .dataframe tbody tr th {\n",
       "        vertical-align: top;\n",
       "    }\n",
       "\n",
       "    .dataframe thead th {\n",
       "        text-align: right;\n",
       "    }\n",
       "</style>\n",
       "<table border=\"1\" class=\"dataframe\">\n",
       "  <thead>\n",
       "    <tr style=\"text-align: right;\">\n",
       "      <th></th>\n",
       "      <th>Mean</th>\n",
       "      <th>MCSE</th>\n",
       "      <th>StdDev</th>\n",
       "      <th>5%</th>\n",
       "      <th>50%</th>\n",
       "      <th>95%</th>\n",
       "      <th>N_Eff</th>\n",
       "      <th>N_Eff/s</th>\n",
       "      <th>R_hat</th>\n",
       "    </tr>\n",
       "    <tr>\n",
       "      <th>name</th>\n",
       "      <th></th>\n",
       "      <th></th>\n",
       "      <th></th>\n",
       "      <th></th>\n",
       "      <th></th>\n",
       "      <th></th>\n",
       "      <th></th>\n",
       "      <th></th>\n",
       "      <th></th>\n",
       "    </tr>\n",
       "  </thead>\n",
       "  <tbody>\n",
       "    <tr>\n",
       "      <th>lp__</th>\n",
       "      <td>0.000</td>\n",
       "      <td>NaN</td>\n",
       "      <td>0.00000</td>\n",
       "      <td>0</td>\n",
       "      <td>0</td>\n",
       "      <td>0</td>\n",
       "      <td>NaN</td>\n",
       "      <td>NaN</td>\n",
       "      <td>NaN</td>\n",
       "    </tr>\n",
       "    <tr>\n",
       "      <th>theta_rep</th>\n",
       "      <td>7.262</td>\n",
       "      <td>0.051233</td>\n",
       "      <td>1.46407</td>\n",
       "      <td>5</td>\n",
       "      <td>7</td>\n",
       "      <td>9</td>\n",
       "      <td>816.615</td>\n",
       "      <td>90735.0</td>\n",
       "      <td>1.0023</td>\n",
       "    </tr>\n",
       "  </tbody>\n",
       "</table>\n",
       "</div>"
      ],
      "text/plain": [
       "            Mean      MCSE   StdDev  5%  50%  95%    N_Eff  N_Eff/s   R_hat\n",
       "name                                                                       \n",
       "lp__       0.000       NaN  0.00000   0    0    0      NaN      NaN     NaN\n",
       "theta_rep  7.262  0.051233  1.46407   5    7    9  816.615  90735.0  1.0023"
      ]
     },
     "execution_count": 7,
     "metadata": {},
     "output_type": "execute_result"
    }
   ],
   "source": [
    "sim_data = datagen_model.sample(fixed_param=True, data={\"N\":10, \"theta\":0.73})\n",
    "sim_data.summary()"
   ]
  },
  {
   "cell_type": "markdown",
   "metadata": {},
   "source": [
    "Because the number of successes is a discrete outcome, we plot these not as a histogram, but as a barchart:"
   ]
  },
  {
   "cell_type": "code",
   "execution_count": 8,
   "metadata": {},
   "outputs": [
    {
     "data": {
      "text/plain": [
       "Text(0.5, 1.0, 'Total successes for 10 trials with probability of success 0.73')"
      ]
     },
     "execution_count": 8,
     "metadata": {},
     "output_type": "execute_result"
    },
    {
     "data": {
      "image/png": "[encoded data removed]",
      "text/plain": [
       "<Figure size 432x288 with 1 Axes>"
      ]
     },
     "metadata": {
      "needs_background": "light"
     },
     "output_type": "display_data"
    }
   ],
   "source": [
    "import matplotlib.pyplot as plt\n",
    "import numpy as np\n",
    "\n",
    "values, counts = np.unique(sim_data.stan_variable('theta_rep'), return_counts=True)\n",
    "plt.vlines(values, 0, counts, lw=20)\n",
    "plt.title('Total successes for 10 trials with probability of success 0.73')"
   ]
  },
  {
   "cell_type": "code",
   "execution_count": null,
   "metadata": {},
   "outputs": [],
   "source": []
  }
 ],
 "metadata": {
  "kernelspec": {
   "display_name": "Python 3",
   "language": "python",
   "name": "python3"
  },
  "language_info": {
   "codemirror_mode": {
    "name": "ipython",
    "version": 3
   },
   "file_extension": ".py",
   "mimetype": "text/x-python",
   "name": "python",
   "nbconvert_exporter": "python",
   "pygments_lexer": "ipython3",
   "version": "3.7.0"
  }
 },
 "nbformat": 4,
 "nbformat_minor": 2
}
