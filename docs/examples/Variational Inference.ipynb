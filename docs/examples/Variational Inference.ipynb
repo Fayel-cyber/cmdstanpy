{
 "cells": [
  {
   "cell_type": "markdown",
   "metadata": {},
   "source": [
    "#  Variational Inference in Stan\n",
    "\n",
    "Variational inference is a scalable technique for approximate Bayesian inference.\n",
    "Stan implements an automatic variational inference algorithm,\n",
    "called Automatic Differentiation Variational Inference (ADVI)\n",
    "which searches over a family of simple densities to find the best\n",
    "approximate posterior density.\n",
    "ADVI produces an estimate of the parameter means together with a sample\n",
    "from the approximate posterior density.\n",
    "\n",
    "ADVI approximates the variational objective function, the evidence lower bound or ELBO,\n",
    "using stochastic gradient ascent.\n",
    "The algorithm ascends these gradients using an adaptive stepsize sequence\n",
    "that has one parameter ``eta`` which is adjusted during warmup.\n",
    "The number of draws used to approximate the ELBO is denoted by ``elbo_samples``. \n",
    "ADVI heuristically determines a rolling window over which it computes\n",
    "the average and the median change of the ELBO.\n",
    "When this change falls below a threshold, denoted by ``tol_rel_obj``,\n",
    "the algorithm is considered to have converged."
   ]
  },
  {
   "cell_type": "markdown",
   "metadata": {},
   "source": [
    "### Example: variational inference for model ``bernoulli.stan``\n",
    "\n",
    "In CmdStanPy, the `CmdStanModel` class method `variational` invokes CmdStan with\n",
    "`method=variational` and returns an estimate of the approximate posterior\n",
    "mean of all model parameters as well as a set of draws from this approximate\n",
    "posterior."
   ]
  },
  {
   "cell_type": "code",
   "execution_count": 1,
   "metadata": {
    "execution": {
     "iopub.execute_input": "2021-10-19T13:37:35.303257Z",
     "iopub.status.busy": "2021-10-19T13:37:35.302622Z",
     "iopub.status.idle": "2021-10-19T13:37:35.663890Z",
     "shell.execute_reply": "2021-10-19T13:37:35.662762Z"
    }
   },
   "outputs": [
    {
     "name": "stderr",
     "output_type": "stream",
     "text": [
      "INFO:cmdstanpy:found newer exe file, not recompiling\n"
     ]
    },
    {
     "name": "stderr",
     "output_type": "stream",
     "text": [
      "INFO:cmdstanpy:compiled model file: /home/runner/.cmdstan/cmdstan-2.28.0/examples/bernoulli/bernoulli\n"
     ]
    },
    {
     "name": "stderr",
     "output_type": "stream",
     "text": [
      "INFO:cmdstanpy:start chain 1\n"
     ]
    },
    {
     "name": "stderr",
     "output_type": "stream",
     "text": [
      "INFO:cmdstanpy:finish chain 1\n"
     ]
    }
   ],
   "source": [
    "import os\n",
    "from cmdstanpy.model import CmdStanModel\n",
    "from cmdstanpy.utils import cmdstan_path\n",
    "\n",
    "bernoulli_dir = os.path.join(cmdstan_path(), 'examples', 'bernoulli')\n",
    "stan_file = os.path.join(bernoulli_dir, 'bernoulli.stan')\n",
    "data_file = os.path.join(bernoulli_dir, 'bernoulli.data.json')\n",
    "# instantiate, compile bernoulli model\n",
    "model = CmdStanModel(stan_file=stan_file)\n",
    "# run CmdStan's variational inference method, returns object `CmdStanVB`\n",
    "vi = model.variational(data=data_file)"
   ]
  },
  {
   "cell_type": "markdown",
   "metadata": {},
   "source": [
    "The class [`CmdStanVB`](https://cmdstanpy.readthedocs.io/en/latest/api.html#stanvariational) provides the following properties to access information about the parameter names, estimated means, and the sample:\n",
    " + `column_names`\n",
    " + `variational_params_dict`\n",
    " + `variational_params_np`\n",
    " + `variational_params_pd`\n",
    " + `variational_sample`"
   ]
  },
  {
   "cell_type": "code",
   "execution_count": 2,
   "metadata": {
    "execution": {
     "iopub.execute_input": "2021-10-19T13:37:35.669783Z",
     "iopub.status.busy": "2021-10-19T13:37:35.668774Z",
     "iopub.status.idle": "2021-10-19T13:37:35.674090Z",
     "shell.execute_reply": "2021-10-19T13:37:35.673560Z"
    },
    "scrolled": true
   },
   "outputs": [
    {
     "name": "stdout",
     "output_type": "stream",
     "text": [
      "('lp__', 'log_p__', 'log_g__', 'theta')\n"
     ]
    }
   ],
   "source": [
    "print(vi.column_names)"
   ]
  },
  {
   "cell_type": "code",
   "execution_count": 3,
   "metadata": {
    "execution": {
     "iopub.execute_input": "2021-10-19T13:37:35.679058Z",
     "iopub.status.busy": "2021-10-19T13:37:35.677989Z",
     "iopub.status.idle": "2021-10-19T13:37:35.682894Z",
     "shell.execute_reply": "2021-10-19T13:37:35.683336Z"
    }
   },
   "outputs": [
    {
     "name": "stdout",
     "output_type": "stream",
     "text": [
      "0.263926\n"
     ]
    }
   ],
   "source": [
    "print(vi.variational_params_dict['theta'])"
   ]
  },
  {
   "cell_type": "code",
   "execution_count": 4,
   "metadata": {
    "execution": {
     "iopub.execute_input": "2021-10-19T13:37:35.687759Z",
     "iopub.status.busy": "2021-10-19T13:37:35.687162Z",
     "iopub.status.idle": "2021-10-19T13:37:35.691135Z",
     "shell.execute_reply": "2021-10-19T13:37:35.691610Z"
    }
   },
   "outputs": [
    {
     "name": "stdout",
     "output_type": "stream",
     "text": [
      "(1000, 4)\n"
     ]
    }
   ],
   "source": [
    "print(vi.variational_sample.shape)"
   ]
  },
  {
   "cell_type": "markdown",
   "metadata": {},
   "source": [
    "These estimates are only valid if the algorithm has converged to a good\n",
    "approximation. When the algorithm fails to do so, the `variational`\n",
    "method will throw a `RuntimeError`.\n"
   ]
  },
  {
   "cell_type": "code",
   "execution_count": 5,
   "metadata": {
    "execution": {
     "iopub.execute_input": "2021-10-19T13:37:35.696580Z",
     "iopub.status.busy": "2021-10-19T13:37:35.695596Z",
     "iopub.status.idle": "2021-10-19T13:37:48.757090Z",
     "shell.execute_reply": "2021-10-19T13:37:48.756433Z"
    }
   },
   "outputs": [
    {
     "name": "stderr",
     "output_type": "stream",
     "text": [
      "INFO:cmdstanpy:compiling stan program, exe file: /home/runner/work/cmdstanpy/cmdstanpy/docsrc/examples/eta_should_fail\n"
     ]
    },
    {
     "name": "stderr",
     "output_type": "stream",
     "text": [
      "INFO:cmdstanpy:compiler options: stanc_options={}, cpp_options={}\n"
     ]
    },
    {
     "name": "stderr",
     "output_type": "stream",
     "text": [
      "INFO:cmdstanpy:compiled model file: /home/runner/work/cmdstanpy/cmdstanpy/docsrc/examples/eta_should_fail\n"
     ]
    },
    {
     "name": "stderr",
     "output_type": "stream",
     "text": [
      "INFO:cmdstanpy:start chain 1\n"
     ]
    },
    {
     "name": "stderr",
     "output_type": "stream",
     "text": [
      "INFO:cmdstanpy:finish chain 1\n"
     ]
    },
    {
     "ename": "RuntimeError",
     "evalue": "The algorithm may not have converged.\nIf you would like to inspect the output, re-call with require_converged=False",
     "output_type": "error",
     "traceback": [
      "\u001b[0;31m---------------------------------------------------------------------------\u001b[0m",
      "\u001b[0;31mRuntimeError\u001b[0m                              Traceback (most recent call last)",
      "\u001b[0;32m/tmp/ipykernel_4768/1235282617.py\u001b[0m in \u001b[0;36m<module>\u001b[0;34m\u001b[0m\n\u001b[1;32m      1\u001b[0m \u001b[0mmodel_fail\u001b[0m \u001b[0;34m=\u001b[0m \u001b[0mCmdStanModel\u001b[0m\u001b[0;34m(\u001b[0m\u001b[0mstan_file\u001b[0m\u001b[0;34m=\u001b[0m\u001b[0;34m'eta_should_fail.stan'\u001b[0m\u001b[0;34m)\u001b[0m\u001b[0;34m\u001b[0m\u001b[0;34m\u001b[0m\u001b[0m\n\u001b[0;32m----> 2\u001b[0;31m \u001b[0mvi_fail\u001b[0m \u001b[0;34m=\u001b[0m \u001b[0mmodel_fail\u001b[0m\u001b[0;34m.\u001b[0m\u001b[0mvariational\u001b[0m\u001b[0;34m(\u001b[0m\u001b[0;34m)\u001b[0m\u001b[0;34m\u001b[0m\u001b[0;34m\u001b[0m\u001b[0m\n\u001b[0m",
      "\u001b[0;32m~/work/cmdstanpy/cmdstanpy/cmdstanpy/model.py\u001b[0m in \u001b[0;36mvariational\u001b[0;34m(self, data, seed, inits, output_dir, sig_figs, save_latent_dynamics, save_profile, algorithm, iter, grad_samples, elbo_samples, eta, adapt_engaged, adapt_iter, tol_rel_obj, eval_elbo, output_samples, require_converged, show_console, refresh, time_fmt)\u001b[0m\n\u001b[1;32m   1247\u001b[0m         \u001b[0;32mif\u001b[0m \u001b[0mlen\u001b[0m\u001b[0;34m(\u001b[0m\u001b[0mre\u001b[0m\u001b[0;34m.\u001b[0m\u001b[0mfindall\u001b[0m\u001b[0;34m(\u001b[0m\u001b[0mpat\u001b[0m\u001b[0;34m,\u001b[0m \u001b[0mcontents\u001b[0m\u001b[0;34m)\u001b[0m\u001b[0;34m)\u001b[0m \u001b[0;34m>\u001b[0m \u001b[0;36m0\u001b[0m\u001b[0;34m:\u001b[0m\u001b[0;34m\u001b[0m\u001b[0;34m\u001b[0m\u001b[0m\n\u001b[1;32m   1248\u001b[0m             \u001b[0;32mif\u001b[0m \u001b[0mrequire_converged\u001b[0m\u001b[0;34m:\u001b[0m\u001b[0;34m\u001b[0m\u001b[0;34m\u001b[0m\u001b[0m\n\u001b[0;32m-> 1249\u001b[0;31m                 raise RuntimeError(\n\u001b[0m\u001b[1;32m   1250\u001b[0m                     \u001b[0;34m'The algorithm may not have converged.\\n'\u001b[0m\u001b[0;34m\u001b[0m\u001b[0;34m\u001b[0m\u001b[0m\n\u001b[1;32m   1251\u001b[0m                     \u001b[0;34m'If you would like to inspect the output, '\u001b[0m\u001b[0;34m\u001b[0m\u001b[0;34m\u001b[0m\u001b[0m\n",
      "\u001b[0;31mRuntimeError\u001b[0m: The algorithm may not have converged.\nIf you would like to inspect the output, re-call with require_converged=False"
     ]
    }
   ],
   "source": [
    "model_fail = CmdStanModel(stan_file='eta_should_fail.stan')\n",
    "vi_fail = model_fail.variational()"
   ]
  },
  {
   "cell_type": "markdown",
   "metadata": {},
   "source": [
    "Unless you set `require_converged=False`:"
   ]
  },
  {
   "cell_type": "code",
   "execution_count": 6,
   "metadata": {
    "execution": {
     "iopub.execute_input": "2021-10-19T13:37:48.763772Z",
     "iopub.status.busy": "2021-10-19T13:37:48.762701Z",
     "iopub.status.idle": "2021-10-19T13:37:48.832766Z",
     "shell.execute_reply": "2021-10-19T13:37:48.833405Z"
    }
   },
   "outputs": [
    {
     "name": "stderr",
     "output_type": "stream",
     "text": [
      "INFO:cmdstanpy:start chain 1\n"
     ]
    },
    {
     "name": "stderr",
     "output_type": "stream",
     "text": [
      "INFO:cmdstanpy:finish chain 1\n"
     ]
    },
    {
     "name": "stderr",
     "output_type": "stream",
     "text": [
      "WARNING:cmdstanpy:The algorithm may not have converged.\n",
      "Proceeding because require_converged is set to False\n"
     ]
    }
   ],
   "source": [
    "vi_fail = model_fail.variational(require_converged=False)"
   ]
  },
  {
   "cell_type": "markdown",
   "metadata": {},
   "source": [
    "This lets you inspect the output to try to diagnose the issue with the model"
   ]
  },
  {
   "cell_type": "code",
   "execution_count": 7,
   "metadata": {
    "execution": {
     "iopub.execute_input": "2021-10-19T13:37:48.846757Z",
     "iopub.status.busy": "2021-10-19T13:37:48.845770Z",
     "iopub.status.idle": "2021-10-19T13:37:48.855246Z",
     "shell.execute_reply": "2021-10-19T13:37:48.855728Z"
    }
   },
   "outputs": [
    {
     "data": {
      "text/plain": [
       "OrderedDict([('lp__', 0.0),\n",
       "             ('log_p__', 0.0),\n",
       "             ('log_g__', 0.0),\n",
       "             ('mu[1]', 0.0374025),\n",
       "             ('mu[2]', -0.0652137)])"
      ]
     },
     "execution_count": 7,
     "metadata": {},
     "output_type": "execute_result"
    }
   ],
   "source": [
    "vi_fail.variational_params_dict"
   ]
  },
  {
   "cell_type": "markdown",
   "metadata": {},
   "source": [
    "See the [api docs](https://cmdstanpy.readthedocs.io/en/latest/api.html), section [`CmdStanModel.variational`](https://cmdstanpy.readthedocs.io/en/latest/api.html#cmdstanpy.CmdStanModel.variational) for a full description of all arguments."
   ]
  }
 ],
 "metadata": {
  "kernelspec": {
   "display_name": "Python 3",
   "language": "python",
   "name": "python3"
  },
  "language_info": {
   "codemirror_mode": {
    "name": "ipython",
    "version": 3
   },
   "file_extension": ".py",
   "mimetype": "text/x-python",
   "name": "python",
   "nbconvert_exporter": "python",
   "pygments_lexer": "ipython3",
   "version": "3.9.7"
  }
 },
 "nbformat": 4,
 "nbformat_minor": 4
}
