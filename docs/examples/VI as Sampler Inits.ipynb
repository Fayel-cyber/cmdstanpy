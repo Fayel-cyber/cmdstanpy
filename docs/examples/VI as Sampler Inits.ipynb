{
 "cells": [
  {
   "cell_type": "markdown",
   "metadata": {},
   "source": [
    "## Using Variational Estimates to Initialize the NUTS-HMC Sampler\n",
    "\n",
    "In this example we show how to use the parameter estimates return by Stan's variational inference algorithm\n",
    "as the initial parameter values for Stan's NUTS-HMC sampler, using a the [earnings-logearn_height model](https://github.com/stan-dev/posteriordb/blob/master/posterior_database/models/stan/logearn_height.stan) and data from the [posteriordb package](https://github.com/stan-dev/posteriordb).\n",
    "\n",
    "The experiments reported in the paper [Pathfinder: Parallel quasi-Newton variational inference](https://arxiv.org/abs/2108.03782) by Zhang et al. show that mean-field ADVI provides a better estimate of the posterior, as measured by the 1-Wasserstein distance to the reference posterior, than 75 iterations of the warmup Phase I algorithm used by the NUTS-HMC sampler, furthermore, ADVI is more computationally efficient, requiring fewer evaluations of the log density and gradient functions.  Therefore, using the estimates from ADVI to initialize the parameter values for the NUTS-HMC sampler will allow the sampler to do a better job of adapting the stepsize and metric during warmup, resulting in better performance and estimation.\n",
    "\n",
    "\n",
    "### Model and data\n",
    "\n",
    "For conveince, we have copied the posteriordb model and data to this directory, in files [logearn_height.stan](logearn_height.stan) and [earnings.json](earnings.json)."
   ]
  },
  {
   "cell_type": "code",
   "execution_count": 1,
   "metadata": {
    "execution": {
     "iopub.execute_input": "2021-10-19T13:37:01.036488Z",
     "iopub.status.busy": "2021-10-19T13:37:01.035873Z",
     "iopub.status.idle": "2021-10-19T13:37:11.579373Z",
     "shell.execute_reply": "2021-10-19T13:37:11.578783Z"
    }
   },
   "outputs": [
    {
     "name": "stderr",
     "output_type": "stream",
     "text": [
      "INFO:cmdstanpy:compiling stan program, exe file: /home/runner/work/cmdstanpy/cmdstanpy/docsrc/examples/logearn_height\n"
     ]
    },
    {
     "name": "stderr",
     "output_type": "stream",
     "text": [
      "INFO:cmdstanpy:compiler options: stanc_options={}, cpp_options={}\n"
     ]
    },
    {
     "name": "stderr",
     "output_type": "stream",
     "text": [
      "INFO:cmdstanpy:compiled model file: /home/runner/work/cmdstanpy/cmdstanpy/docsrc/examples/logearn_height\n"
     ]
    }
   ],
   "source": [
    "import os\n",
    "from cmdstanpy import CmdStanModel\n",
    "    \n",
    "stan_file = 'logearn_height.stan'\n",
    "data_file = 'earnings.json'\n",
    "\n",
    "# instantiate, compile bernoulli model\n",
    "model = CmdStanModel(stan_file=stan_file)"
   ]
  },
  {
   "cell_type": "markdown",
   "metadata": {},
   "source": [
    "The earnings dataset is a set of 1192 observations of annual earnings in USD, height in inches, and indicator for sex==male."
   ]
  },
  {
   "cell_type": "code",
   "execution_count": 2,
   "metadata": {
    "execution": {
     "iopub.execute_input": "2021-10-19T13:37:11.589278Z",
     "iopub.status.busy": "2021-10-19T13:37:11.586017Z",
     "iopub.status.idle": "2021-10-19T13:37:11.592996Z",
     "shell.execute_reply": "2021-10-19T13:37:11.592485Z"
    }
   },
   "outputs": [
    {
     "name": "stdout",
     "output_type": "stream",
     "text": [
      "dict_keys(['N', 'earn', 'height', 'male'])\n",
      "1192\n",
      "50000 74\n",
      "60000 66\n",
      "30000 64\n",
      "50000 63\n",
      "51000 63\n"
     ]
    }
   ],
   "source": [
    "import json\n",
    "with open(data_file, 'r') as fd:\n",
    "    data_dict = json.load(fd)\n",
    "print(data_dict.keys())\n",
    "print(data_dict['N'])\n",
    "for i in range(5):\n",
    "    print(data_dict['earn'][i], data_dict['height'][i])\n"
   ]
  },
  {
   "cell_type": "markdown",
   "metadata": {},
   "source": [
    "The \"logearn_height\" model regresses the log earnings on height."
   ]
  },
  {
   "cell_type": "code",
   "execution_count": 3,
   "metadata": {
    "execution": {
     "iopub.execute_input": "2021-10-19T13:37:11.597736Z",
     "iopub.status.busy": "2021-10-19T13:37:11.597054Z",
     "iopub.status.idle": "2021-10-19T13:37:11.600075Z",
     "shell.execute_reply": "2021-10-19T13:37:11.600594Z"
    }
   },
   "outputs": [
    {
     "name": "stdout",
     "output_type": "stream",
     "text": [
      "data {\n",
      "  int<lower=0> N;\n",
      "  vector[N] earn;\n",
      "  vector[N] height;\n",
      "}\n",
      "transformed data {           // log transformation\n",
      "  vector[N] log_earn;\n",
      "  log_earn = log(earn);\n",
      "}\n",
      "parameters {\n",
      "  vector[2] beta;\n",
      "  real<lower=0> sigma;\n",
      "}\n",
      "model {\n",
      "  log_earn ~ normal(beta[1] + beta[2] * height, sigma);\n",
      "}\n",
      "\n"
     ]
    }
   ],
   "source": [
    "print(model.code())"
   ]
  },
  {
   "cell_type": "markdown",
   "metadata": {},
   "source": [
    "### Run Stan's variational inference algorithm, obtain fitted estimates\n",
    "\n",
    "The `CmdStanModel` method `variational` runs CmdStan's ADVI algorithm.\n",
    "Conditioning the model on the data results in a posterior geometry which is difficult to navigate.  Because the ADVI algorithm is unstable and may fail to converge, we run it with argument `require_converged` set to `False`.  We also specify a seed, to avoid instabilities as well as for reproducibility."
   ]
  },
  {
   "cell_type": "code",
   "execution_count": 4,
   "metadata": {
    "execution": {
     "iopub.execute_input": "2021-10-19T13:37:11.605417Z",
     "iopub.status.busy": "2021-10-19T13:37:11.604661Z",
     "iopub.status.idle": "2021-10-19T13:37:12.052775Z",
     "shell.execute_reply": "2021-10-19T13:37:12.052184Z"
    }
   },
   "outputs": [
    {
     "name": "stderr",
     "output_type": "stream",
     "text": [
      "INFO:cmdstanpy:start chain 1\n"
     ]
    },
    {
     "name": "stderr",
     "output_type": "stream",
     "text": [
      "INFO:cmdstanpy:finish chain 1\n"
     ]
    },
    {
     "name": "stderr",
     "output_type": "stream",
     "text": [
      "WARNING:cmdstanpy:The algorithm may not have converged.\n",
      "Proceeding because require_converged is set to False\n"
     ]
    }
   ],
   "source": [
    "vb_fit = model.variational(data=data_file, require_converged=False, seed=123)"
   ]
  },
  {
   "cell_type": "markdown",
   "metadata": {},
   "source": [
    "The ADVI algorithm provides estimates of all model parameters as well as the step size scaling factor `eta`.\n",
    "\n",
    "The `variational` method returns a `CmdStanVB` object, with methods `eta` and `stan_variables`, which\n",
    "return the step size scaling factor and estimates of all model parameters as a Python dictionary respectively."
   ]
  },
  {
   "cell_type": "code",
   "execution_count": 5,
   "metadata": {
    "execution": {
     "iopub.execute_input": "2021-10-19T13:37:12.060306Z",
     "iopub.status.busy": "2021-10-19T13:37:12.059129Z",
     "iopub.status.idle": "2021-10-19T13:37:12.062476Z",
     "shell.execute_reply": "2021-10-19T13:37:12.062968Z"
    }
   },
   "outputs": [
    {
     "name": "stdout",
     "output_type": "stream",
     "text": [
      "10.0 {'beta': array([2.74011 , 0.104137]), 'sigma': 3.83589}\n"
     ]
    }
   ],
   "source": [
    "print(vb_fit.eta, vb_fit.stan_variables())"
   ]
  },
  {
   "cell_type": "markdown",
   "metadata": {},
   "source": [
    "Posteriordb provides reference posteriors for all models.  For the logearn_height model, conditioned on the dataset `earnings.json`, the posterior variables are:\n",
    "\n",
    "- beta[1]:  5.782\n",
    "- beta[2]:  0.059\n",
    "- sigma: 0.894\n",
    "\n",
    "By default, the sampler algorithm randomly initializes all model parameters in the range uniform[-2, 2].  The ADVI estimates will provide a better starting point, especially w/r/t to parameter `beta[1]`, than the defaults.\n",
    "In addition, we can use the step size scaling factor to scale the initial step size, which allows us to skip the first phase of warmup (default 75 iterations)."
   ]
  },
  {
   "cell_type": "code",
   "execution_count": 6,
   "metadata": {
    "execution": {
     "iopub.execute_input": "2021-10-19T13:37:12.070814Z",
     "iopub.status.busy": "2021-10-19T13:37:12.069658Z",
     "iopub.status.idle": "2021-10-19T13:37:21.805817Z",
     "shell.execute_reply": "2021-10-19T13:37:21.804407Z"
    }
   },
   "outputs": [
    {
     "name": "stderr",
     "output_type": "stream",
     "text": [
      "INFO:cmdstanpy:sampling: ['/home/runner/work/cmdstanpy/cmdstanpy/docsrc/examples/logearn_height', 'id=1', 'random', 'seed=123', 'data', 'file=earnings.json', 'init=/tmp/tmp1zpxl682/531tv4uq.json', 'output', 'file=/tmp/tmp1zpxl682/logearn_height-20211019133712-1-n2ti0eb0.csv', 'method=sample', 'algorithm=hmc', 'stepsize=0.1', 'adapt', 'engaged=1', 'init_buffer=0']\n"
     ]
    },
    {
     "name": "stderr",
     "output_type": "stream",
     "text": [
      "ERROR:cmdstanpy:Error in progress bar initialization:\n",
      "\tIProgress not found. Please update jupyter and ipywidgets. See https://ipywidgets.readthedocs.io/en/stable/user_install.html\n",
      "Disabling progress bars for this session\n"
     ]
    },
    {
     "name": "stderr",
     "output_type": "stream",
     "text": [
      "Exception ignored in: <function tqdm.__del__ at 0x7f6020b7f1f0>\n",
      "Traceback (most recent call last):\n",
      "  File \"/opt/hostedtoolcache/Python/3.9.7/x64/lib/python3.9/site-packages/tqdm/std.py\", line 1147, in __del__\n",
      "Exception ignored in: <function tqdm.__del__ at 0x7f6020b7f1f0>\n",
      "Traceback (most recent call last):\n",
      "  File \"/opt/hostedtoolcache/Python/3.9.7/x64/lib/python3.9/site-packages/tqdm/std.py\", line 1147, in __del__\n",
      "    self.close()\n",
      "  File \"/opt/hostedtoolcache/Python/3.9.7/x64/lib/python3.9/site-packages/tqdm/notebook.py\", line 286, in close\n",
      "        self.close()\n",
      "  File \"/opt/hostedtoolcache/Python/3.9.7/x64/lib/python3.9/site-packages/tqdm/notebook.py\", line 286, in close\n",
      "self.disp(bar_style='danger', check_delay=False)\n",
      "AttributeError: 'tqdm' object has no attribute 'disp'\n"
     ]
    },
    {
     "name": "stderr",
     "output_type": "stream",
     "text": [
      "    self.disp(bar_style='danger', check_delay=False)\n",
      "AttributeError: 'tqdm' object has no attribute 'disp'\n"
     ]
    },
    {
     "name": "stderr",
     "output_type": "stream",
     "text": [
      "INFO:cmdstanpy:start chain 3\n"
     ]
    },
    {
     "name": "stderr",
     "output_type": "stream",
     "text": [
      "INFO:cmdstanpy:start chain 4\n"
     ]
    },
    {
     "name": "stderr",
     "output_type": "stream",
     "text": [
      "INFO:cmdstanpy:sampling completed\n"
     ]
    }
   ],
   "source": [
    "vb_vars = vb_fit.stan_variables()\n",
    "vb_stepsize = 1.0 / vb_fit.eta\n",
    "mcmc_vb_inits_fit = model.sample(\n",
    "    data=data_file, inits=vb_vars, step_size=vb_stepsize,\n",
    "    adapt_init_phase=0, seed=123\n",
    ")"
   ]
  },
  {
   "cell_type": "code",
   "execution_count": 7,
   "metadata": {
    "execution": {
     "iopub.execute_input": "2021-10-19T13:37:21.809190Z",
     "iopub.status.busy": "2021-10-19T13:37:21.808511Z",
     "iopub.status.idle": "2021-10-19T13:37:21.904149Z",
     "shell.execute_reply": "2021-10-19T13:37:21.903524Z"
    }
   },
   "outputs": [
    {
     "data": {
      "text/html": [
       "<div>\n",
       "<style scoped>\n",
       "    .dataframe tbody tr th:only-of-type {\n",
       "        vertical-align: middle;\n",
       "    }\n",
       "\n",
       "    .dataframe tbody tr th {\n",
       "        vertical-align: top;\n",
       "    }\n",
       "\n",
       "    .dataframe thead th {\n",
       "        text-align: right;\n",
       "    }\n",
       "</style>\n",
       "<table border=\"1\" class=\"dataframe\">\n",
       "  <thead>\n",
       "    <tr style=\"text-align: right;\">\n",
       "      <th></th>\n",
       "      <th>Mean</th>\n",
       "      <th>MCSE</th>\n",
       "      <th>StdDev</th>\n",
       "      <th>5%</th>\n",
       "      <th>50%</th>\n",
       "      <th>95%</th>\n",
       "      <th>N_Eff</th>\n",
       "      <th>N_Eff/s</th>\n",
       "      <th>R_hat</th>\n",
       "    </tr>\n",
       "    <tr>\n",
       "      <th>name</th>\n",
       "      <th></th>\n",
       "      <th></th>\n",
       "      <th></th>\n",
       "      <th></th>\n",
       "      <th></th>\n",
       "      <th></th>\n",
       "      <th></th>\n",
       "      <th></th>\n",
       "      <th></th>\n",
       "    </tr>\n",
       "  </thead>\n",
       "  <tbody>\n",
       "    <tr>\n",
       "      <th>lp__</th>\n",
       "      <td>-460.000</td>\n",
       "      <td>0.0360</td>\n",
       "      <td>1.200</td>\n",
       "      <td>-460.000</td>\n",
       "      <td>-460.000</td>\n",
       "      <td>-460.00</td>\n",
       "      <td>1200.0</td>\n",
       "      <td>120.0</td>\n",
       "      <td>1.0</td>\n",
       "    </tr>\n",
       "    <tr>\n",
       "      <th>beta[1]</th>\n",
       "      <td>5.800</td>\n",
       "      <td>0.0140</td>\n",
       "      <td>0.470</td>\n",
       "      <td>5.000</td>\n",
       "      <td>5.800</td>\n",
       "      <td>6.60</td>\n",
       "      <td>1178.0</td>\n",
       "      <td>124.0</td>\n",
       "      <td>1.0</td>\n",
       "    </tr>\n",
       "    <tr>\n",
       "      <th>beta[2]</th>\n",
       "      <td>0.059</td>\n",
       "      <td>0.0002</td>\n",
       "      <td>0.007</td>\n",
       "      <td>0.047</td>\n",
       "      <td>0.059</td>\n",
       "      <td>0.07</td>\n",
       "      <td>1160.0</td>\n",
       "      <td>122.0</td>\n",
       "      <td>1.0</td>\n",
       "    </tr>\n",
       "    <tr>\n",
       "      <th>sigma</th>\n",
       "      <td>0.900</td>\n",
       "      <td>0.0000</td>\n",
       "      <td>0.000</td>\n",
       "      <td>0.900</td>\n",
       "      <td>0.900</td>\n",
       "      <td>0.90</td>\n",
       "      <td>1905.9</td>\n",
       "      <td>200.6</td>\n",
       "      <td>1.0</td>\n",
       "    </tr>\n",
       "  </tbody>\n",
       "</table>\n",
       "</div>"
      ],
      "text/plain": [
       "            Mean    MCSE  StdDev       5%      50%     95%   N_Eff  N_Eff/s  \\\n",
       "name                                                                          \n",
       "lp__    -460.000  0.0360   1.200 -460.000 -460.000 -460.00  1200.0    120.0   \n",
       "beta[1]    5.800  0.0140   0.470    5.000    5.800    6.60  1178.0    124.0   \n",
       "beta[2]    0.059  0.0002   0.007    0.047    0.059    0.07  1160.0    122.0   \n",
       "sigma      0.900  0.0000   0.000    0.900    0.900    0.90  1905.9    200.6   \n",
       "\n",
       "         R_hat  \n",
       "name            \n",
       "lp__       1.0  \n",
       "beta[1]    1.0  \n",
       "beta[2]    1.0  \n",
       "sigma      1.0  "
      ]
     },
     "execution_count": 7,
     "metadata": {},
     "output_type": "execute_result"
    }
   ],
   "source": [
    "mcmc_vb_inits_fit.summary()"
   ]
  },
  {
   "cell_type": "markdown",
   "metadata": {},
   "source": [
    "The sampler results match the reference posterior, (taking into account MCSE).\n",
    "\n",
    "- beta[1]:  5.782\n",
    "- beta[2]:  0.059\n",
    "- sigma: 0.894\n",
    "\n",
    "To see how this is useful, we run the sampler with default initializations, step size, and warmup."
   ]
  },
  {
   "cell_type": "code",
   "execution_count": 8,
   "metadata": {
    "execution": {
     "iopub.execute_input": "2021-10-19T13:37:21.910554Z",
     "iopub.status.busy": "2021-10-19T13:37:21.909793Z",
     "iopub.status.idle": "2021-10-19T13:37:32.944220Z",
     "shell.execute_reply": "2021-10-19T13:37:32.944891Z"
    }
   },
   "outputs": [
    {
     "name": "stderr",
     "output_type": "stream",
     "text": [
      "INFO:cmdstanpy:sampling: ['/home/runner/work/cmdstanpy/cmdstanpy/docsrc/examples/logearn_height', 'id=1', 'random', 'seed=123', 'data', 'file=earnings.json', 'output', 'file=/tmp/tmp1zpxl682/logearn_height-20211019133721-1-rr1sno4g.csv', 'method=sample', 'algorithm=hmc', 'adapt', 'engaged=1']\n"
     ]
    },
    {
     "name": "stderr",
     "output_type": "stream",
     "text": [
      "INFO:cmdstanpy:start chain 1\n"
     ]
    },
    {
     "name": "stderr",
     "output_type": "stream",
     "text": [
      "INFO:cmdstanpy:start chain 2\n"
     ]
    },
    {
     "name": "stderr",
     "output_type": "stream",
     "text": [
      "INFO:cmdstanpy:finish chain 2\n"
     ]
    },
    {
     "name": "stderr",
     "output_type": "stream",
     "text": [
      "INFO:cmdstanpy:start chain 3\n"
     ]
    },
    {
     "name": "stderr",
     "output_type": "stream",
     "text": [
      "INFO:cmdstanpy:finish chain 1\n"
     ]
    },
    {
     "name": "stderr",
     "output_type": "stream",
     "text": [
      "INFO:cmdstanpy:start chain 4\n"
     ]
    },
    {
     "name": "stderr",
     "output_type": "stream",
     "text": [
      "INFO:cmdstanpy:finish chain 4\n"
     ]
    },
    {
     "name": "stderr",
     "output_type": "stream",
     "text": [
      "INFO:cmdstanpy:finish chain 3\n"
     ]
    },
    {
     "name": "stderr",
     "output_type": "stream",
     "text": [
      "INFO:cmdstanpy:sampling completed\n"
     ]
    }
   ],
   "source": [
    "mcmc_random_inits_fit = model.sample(data=data_file, seed=123)"
   ]
  },
  {
   "cell_type": "code",
   "execution_count": 9,
   "metadata": {
    "execution": {
     "iopub.execute_input": "2021-10-19T13:37:32.949250Z",
     "iopub.status.busy": "2021-10-19T13:37:32.947583Z",
     "iopub.status.idle": "2021-10-19T13:37:33.031957Z",
     "shell.execute_reply": "2021-10-19T13:37:33.032449Z"
    }
   },
   "outputs": [
    {
     "data": {
      "text/html": [
       "<div>\n",
       "<style scoped>\n",
       "    .dataframe tbody tr th:only-of-type {\n",
       "        vertical-align: middle;\n",
       "    }\n",
       "\n",
       "    .dataframe tbody tr th {\n",
       "        vertical-align: top;\n",
       "    }\n",
       "\n",
       "    .dataframe thead th {\n",
       "        text-align: right;\n",
       "    }\n",
       "</style>\n",
       "<table border=\"1\" class=\"dataframe\">\n",
       "  <thead>\n",
       "    <tr style=\"text-align: right;\">\n",
       "      <th></th>\n",
       "      <th>Mean</th>\n",
       "      <th>MCSE</th>\n",
       "      <th>StdDev</th>\n",
       "      <th>5%</th>\n",
       "      <th>50%</th>\n",
       "      <th>95%</th>\n",
       "      <th>N_Eff</th>\n",
       "      <th>N_Eff/s</th>\n",
       "      <th>R_hat</th>\n",
       "    </tr>\n",
       "    <tr>\n",
       "      <th>name</th>\n",
       "      <th></th>\n",
       "      <th></th>\n",
       "      <th></th>\n",
       "      <th></th>\n",
       "      <th></th>\n",
       "      <th></th>\n",
       "      <th></th>\n",
       "      <th></th>\n",
       "      <th></th>\n",
       "    </tr>\n",
       "  </thead>\n",
       "  <tbody>\n",
       "    <tr>\n",
       "      <th>lp__</th>\n",
       "      <td>-460.000</td>\n",
       "      <td>0.0360</td>\n",
       "      <td>1.2000</td>\n",
       "      <td>-460.000</td>\n",
       "      <td>-460.000</td>\n",
       "      <td>-460.00</td>\n",
       "      <td>1200.0</td>\n",
       "      <td>130.0</td>\n",
       "      <td>1.0</td>\n",
       "    </tr>\n",
       "    <tr>\n",
       "      <th>beta[1]</th>\n",
       "      <td>5.800</td>\n",
       "      <td>0.0130</td>\n",
       "      <td>0.4500</td>\n",
       "      <td>5.100</td>\n",
       "      <td>5.800</td>\n",
       "      <td>6.50</td>\n",
       "      <td>1142.0</td>\n",
       "      <td>123.0</td>\n",
       "      <td>1.0</td>\n",
       "    </tr>\n",
       "    <tr>\n",
       "      <th>beta[2]</th>\n",
       "      <td>0.059</td>\n",
       "      <td>0.0002</td>\n",
       "      <td>0.0068</td>\n",
       "      <td>0.047</td>\n",
       "      <td>0.059</td>\n",
       "      <td>0.07</td>\n",
       "      <td>1144.0</td>\n",
       "      <td>124.0</td>\n",
       "      <td>1.0</td>\n",
       "    </tr>\n",
       "    <tr>\n",
       "      <th>sigma</th>\n",
       "      <td>0.900</td>\n",
       "      <td>0.0000</td>\n",
       "      <td>0.0000</td>\n",
       "      <td>0.900</td>\n",
       "      <td>0.900</td>\n",
       "      <td>0.90</td>\n",
       "      <td>1532.8</td>\n",
       "      <td>165.7</td>\n",
       "      <td>1.0</td>\n",
       "    </tr>\n",
       "  </tbody>\n",
       "</table>\n",
       "</div>"
      ],
      "text/plain": [
       "            Mean    MCSE  StdDev       5%      50%     95%   N_Eff  N_Eff/s  \\\n",
       "name                                                                          \n",
       "lp__    -460.000  0.0360  1.2000 -460.000 -460.000 -460.00  1200.0    130.0   \n",
       "beta[1]    5.800  0.0130  0.4500    5.100    5.800    6.50  1142.0    123.0   \n",
       "beta[2]    0.059  0.0002  0.0068    0.047    0.059    0.07  1144.0    124.0   \n",
       "sigma      0.900  0.0000  0.0000    0.900    0.900    0.90  1532.8    165.7   \n",
       "\n",
       "         R_hat  \n",
       "name            \n",
       "lp__       1.0  \n",
       "beta[1]    1.0  \n",
       "beta[2]    1.0  \n",
       "sigma      1.0  "
      ]
     },
     "execution_count": 9,
     "metadata": {},
     "output_type": "execute_result"
    }
   ],
   "source": [
    "mcmc_random_inits_fit.summary()"
   ]
  },
  {
   "cell_type": "markdown",
   "metadata": {},
   "source": [
    "Using the variational estimates to skip warmup phase I shows improved N_Eff/s (number of effective sampler per second) values for all parameters.  This is a simple model run on a small dataset.  For complex models where the initial parameter values are far from the default initializations, this procedure may allow for faster and better adaptation during warmup."
   ]
  }
 ],
 "metadata": {
  "kernelspec": {
   "display_name": "Python 3",
   "language": "python",
   "name": "python3"
  },
  "language_info": {
   "codemirror_mode": {
    "name": "ipython",
    "version": 3
   },
   "file_extension": ".py",
   "mimetype": "text/x-python",
   "name": "python",
   "nbconvert_exporter": "python",
   "pygments_lexer": "ipython3",
   "version": "3.9.7"
  }
 },
 "nbformat": 4,
 "nbformat_minor": 4
}
