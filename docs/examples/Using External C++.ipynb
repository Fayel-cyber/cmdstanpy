{
 "cells": [
  {
   "cell_type": "markdown",
   "metadata": {},
   "source": [
    "# Advanced Topic: Using External C++ Functions\n",
    "\n",
    "This is based on the relevant portion of the CmdStan documentation [here](https://mc-stan.org/docs/cmdstan-guide/using-external-cpp-code.html)"
   ]
  },
  {
   "cell_type": "markdown",
   "metadata": {},
   "source": [
    "Consider the following Stan model, based on the bernoulli example."
   ]
  },
  {
   "cell_type": "code",
   "execution_count": 1,
   "metadata": {
    "execution": {
     "iopub.execute_input": "2021-10-19T13:36:35.857606Z",
     "iopub.status.busy": "2021-10-19T13:36:35.856948Z",
     "iopub.status.idle": "2021-10-19T13:36:35.867131Z",
     "shell.execute_reply": "2021-10-19T13:36:35.867725Z"
    },
    "nbsphinx": "hidden"
   },
   "outputs": [],
   "source": [
    "import os\n",
    "try:\n",
    "    os.remove('bernoulli_external')\n",
    "except:\n",
    "    pass"
   ]
  },
  {
   "cell_type": "code",
   "execution_count": 2,
   "metadata": {
    "execution": {
     "iopub.execute_input": "2021-10-19T13:36:35.872882Z",
     "iopub.status.busy": "2021-10-19T13:36:35.872190Z",
     "iopub.status.idle": "2021-10-19T13:36:36.194227Z",
     "shell.execute_reply": "2021-10-19T13:36:36.193602Z"
    }
   },
   "outputs": [
    {
     "name": "stdout",
     "output_type": "stream",
     "text": [
      "functions {\n",
      "  real make_odds(real theta);\n",
      "}\n",
      "data {\n",
      "  int<lower=0> N;\n",
      "  array[N] int<lower=0, upper=1> y;\n",
      "}\n",
      "parameters {\n",
      "  real<lower=0, upper=1> theta;\n",
      "}\n",
      "model {\n",
      "  theta ~ beta(1, 1); // uniform prior on interval 0, 1\n",
      "  y ~ bernoulli(theta);\n",
      "}\n",
      "generated quantities {\n",
      "  real odds;\n",
      "  odds = make_odds(theta);\n",
      "}\n"
     ]
    }
   ],
   "source": [
    "from cmdstanpy import CmdStanModel\n",
    "model_external = CmdStanModel(stan_file='bernoulli_external.stan', compile=False)\n",
    "print(model_external.code())"
   ]
  },
  {
   "cell_type": "markdown",
   "metadata": {},
   "source": [
    "As you can see, it features a function declaration for `make_odds`, but no definition. If we try to compile this, we will get an error. "
   ]
  },
  {
   "cell_type": "code",
   "execution_count": 3,
   "metadata": {
    "execution": {
     "iopub.execute_input": "2021-10-19T13:36:36.199297Z",
     "iopub.status.busy": "2021-10-19T13:36:36.198649Z",
     "iopub.status.idle": "2021-10-19T13:36:36.469659Z",
     "shell.execute_reply": "2021-10-19T13:36:36.469100Z"
    }
   },
   "outputs": [
    {
     "name": "stderr",
     "output_type": "stream",
     "text": [
      "INFO:cmdstanpy:compiling stan program, exe file: /home/runner/work/cmdstanpy/cmdstanpy/docsrc/examples/bernoulli_external\n"
     ]
    },
    {
     "name": "stderr",
     "output_type": "stream",
     "text": [
      "INFO:cmdstanpy:compiler options: stanc_options={}, cpp_options={}\n"
     ]
    },
    {
     "name": "stderr",
     "output_type": "stream",
     "text": [
      "ERROR:cmdstanpy:Stan program failed to compile:\n"
     ]
    },
    {
     "name": "stderr",
     "output_type": "stream",
     "text": [
      "WARNING:cmdstanpy:make[2]: Entering directory '/home/runner/.cmdstan/cmdstan-2.28.0'\n",
      "\n",
      "--- Translating Stan model to C++ code ---\n",
      "bin/stanc  --o=/home/runner/work/cmdstanpy/cmdstanpy/docsrc/examples/bernoulli_external.hpp /home/runner/work/cmdstanpy/cmdstanpy/docsrc/examples/bernoulli_external.stan\n",
      "Semantic error in '/home/runner/work/cmdstanpy/cmdstanpy/docsrc/examples/bernoulli_external.stan', line 2, column 2 to column 29:\n",
      "   -------------------------------------------------\n",
      "     1:  functions {\n",
      "     2:    real make_odds(real theta);\n",
      "           ^\n",
      "     3:  }\n",
      "     4:  data {\n",
      "   -------------------------------------------------\n",
      "\n",
      "Some function is declared without specifying a definition.\n",
      "make[2]: *** [make/program:50: /home/runner/work/cmdstanpy/cmdstanpy/docsrc/examples/bernoulli_external.hpp] Error 1\n",
      "make[2]: Leaving directory '/home/runner/.cmdstan/cmdstan-2.28.0'\n",
      "\n",
      "Command ['make', '/home/runner/work/cmdstanpy/cmdstanpy/docsrc/examples/bernoulli_external']\n",
      "\terror during processing No such file or directory\n",
      "\n"
     ]
    },
    {
     "name": "stderr",
     "output_type": "stream",
     "text": [
      "ERROR:cmdstanpy:model compilation failed\n"
     ]
    }
   ],
   "source": [
    "model_external.compile()"
   ]
  },
  {
   "cell_type": "markdown",
   "metadata": {},
   "source": [
    "Even enabling the `--allow_undefined` flag to stanc3 will not allow this model to be compiled quite yet."
   ]
  },
  {
   "cell_type": "code",
   "execution_count": 4,
   "metadata": {
    "execution": {
     "iopub.execute_input": "2021-10-19T13:36:36.475721Z",
     "iopub.status.busy": "2021-10-19T13:36:36.475007Z",
     "iopub.status.idle": "2021-10-19T13:36:36.758761Z",
     "shell.execute_reply": "2021-10-19T13:36:36.759239Z"
    }
   },
   "outputs": [
    {
     "name": "stderr",
     "output_type": "stream",
     "text": [
      "INFO:cmdstanpy:compiling stan program, exe file: /home/runner/work/cmdstanpy/cmdstanpy/docsrc/examples/bernoulli_external\n"
     ]
    },
    {
     "name": "stderr",
     "output_type": "stream",
     "text": [
      "INFO:cmdstanpy:compiler options: stanc_options={'allow_undefined': True}, cpp_options={}\n"
     ]
    },
    {
     "name": "stderr",
     "output_type": "stream",
     "text": [
      "ERROR:cmdstanpy:model compilation failed\n"
     ]
    }
   ],
   "source": [
    "model_external.compile(stanc_options={'allow_undefined':True})"
   ]
  },
  {
   "cell_type": "markdown",
   "metadata": {},
   "source": [
    "To resolve this, we need to both tell the Stan compiler an undefined function is okay **and** let C++ know what it should be. \n",
    "\n",
    "We can provide a definition in a C++ header file by using the `user_header` argument to either the CmdStanModel constructor or the `compile` method. \n",
    "\n",
    "This will enables the `allow_undefined` flag automatically."
   ]
  },
  {
   "cell_type": "code",
   "execution_count": 5,
   "metadata": {
    "execution": {
     "iopub.execute_input": "2021-10-19T13:36:36.764811Z",
     "iopub.status.busy": "2021-10-19T13:36:36.764065Z",
     "iopub.status.idle": "2021-10-19T13:36:58.812216Z",
     "shell.execute_reply": "2021-10-19T13:36:58.812665Z"
    }
   },
   "outputs": [
    {
     "name": "stderr",
     "output_type": "stream",
     "text": [
      "INFO:cmdstanpy:compiling stan program, exe file: /home/runner/work/cmdstanpy/cmdstanpy/docsrc/examples/bernoulli_external\n"
     ]
    },
    {
     "name": "stderr",
     "output_type": "stream",
     "text": [
      "INFO:cmdstanpy:compiler options: stanc_options={'allow_undefined': True}, cpp_options={'USER_HEADER': '/home/runner/work/cmdstanpy/cmdstanpy/docsrc/examples/make_odds.hpp'}\n"
     ]
    },
    {
     "name": "stderr",
     "output_type": "stream",
     "text": [
      "INFO:cmdstanpy:compiled model file: /home/runner/work/cmdstanpy/cmdstanpy/docsrc/examples/bernoulli_external\n"
     ]
    }
   ],
   "source": [
    "model_external.compile(user_header='make_odds.hpp')"
   ]
  },
  {
   "cell_type": "markdown",
   "metadata": {},
   "source": [
    "We can then run this model and inspect the output"
   ]
  },
  {
   "cell_type": "code",
   "execution_count": 6,
   "metadata": {
    "execution": {
     "iopub.execute_input": "2021-10-19T13:36:58.820141Z",
     "iopub.status.busy": "2021-10-19T13:36:58.819562Z",
     "iopub.status.idle": "2021-10-19T13:36:58.981277Z",
     "shell.execute_reply": "2021-10-19T13:36:58.980678Z"
    }
   },
   "outputs": [
    {
     "name": "stderr",
     "output_type": "stream",
     "text": [
      "INFO:cmdstanpy:sampling: ['/home/runner/work/cmdstanpy/cmdstanpy/docsrc/examples/bernoulli_external', 'id=1', 'random', 'seed=91806', 'data', 'file=/tmp/tmp3drp3pza/e1asorac.json', 'output', 'file=/tmp/tmp3drp3pza/bernoulli_external-20211019133658-1-fu4u0t73.csv', 'method=sample', 'algorithm=hmc', 'adapt', 'engaged=1']\n"
     ]
    },
    {
     "name": "stderr",
     "output_type": "stream",
     "text": [
      "ERROR:cmdstanpy:Error in progress bar initialization:\n",
      "\tIProgress not found. Please update jupyter and ipywidgets. See https://ipywidgets.readthedocs.io/en/stable/user_install.html\n",
      "Disabling progress bars for this session\n",
      "Exception ignored in: <function tqdm.__del__ at 0x7f01dc3a8310>\n",
      "Traceback (most recent call last):\n",
      "  File \"/opt/hostedtoolcache/Python/3.9.7/x64/lib/python3.9/site-packages/tqdm/std.py\", line 1147, in __del__\n"
     ]
    },
    {
     "name": "stderr",
     "output_type": "stream",
     "text": [
      "Exception ignored in: <function tqdm.__del__ at 0x7f01dc3a8310>\n",
      "Traceback (most recent call last):\n",
      "  File \"/opt/hostedtoolcache/Python/3.9.7/x64/lib/python3.9/site-packages/tqdm/std.py\", line 1147, in __del__\n",
      "        self.close()\n",
      "  File \"/opt/hostedtoolcache/Python/3.9.7/x64/lib/python3.9/site-packages/tqdm/notebook.py\", line 286, in close\n",
      "self.close()\n",
      "  File \"/opt/hostedtoolcache/Python/3.9.7/x64/lib/python3.9/site-packages/tqdm/notebook.py\", line 286, in close\n",
      "        self.disp(bar_style='danger', check_delay=False)\n",
      "AttributeError: 'tqdm' object has no attribute 'disp'\n"
     ]
    },
    {
     "name": "stderr",
     "output_type": "stream",
     "text": [
      "self.disp(bar_style='danger', check_delay=False)\n",
      "AttributeError: 'tqdm' object has no attribute 'disp'\n"
     ]
    },
    {
     "name": "stderr",
     "output_type": "stream",
     "text": [
      "INFO:cmdstanpy:start chain 3\n"
     ]
    },
    {
     "name": "stderr",
     "output_type": "stream",
     "text": [
      "INFO:cmdstanpy:start chain 4\n"
     ]
    },
    {
     "name": "stderr",
     "output_type": "stream",
     "text": [
      "INFO:cmdstanpy:sampling completed\n"
     ]
    },
    {
     "data": {
      "text/plain": [
       "array([0.090568, 0.263977, 0.362605, ..., 0.298994, 0.423499, 0.292286])"
      ]
     },
     "execution_count": 6,
     "metadata": {},
     "output_type": "execute_result"
    }
   ],
   "source": [
    "fit = model_external.sample(data={'N':10, 'y':[0,1,0,0,0,0,0,0,0,1]})\n",
    "fit.stan_variable('odds')"
   ]
  },
  {
   "cell_type": "markdown",
   "metadata": {},
   "source": [
    "The contents of this header file are a bit complicated unless you are familiar with the C++ internals of Stan, so they are presented without comment:\n",
    "\n",
    "```c++\n",
    "#include <boost/math/tools/promotion.hpp>\n",
    "#include <ostream>\n",
    "\n",
    "namespace bernoulli_model_namespace {\n",
    "    template <typename T0__>  inline  typename\n",
    "          boost::math::tools::promote_args<T0__>::type  \n",
    "          make_odds(const T0__& theta, std::ostream* pstream__) {\n",
    "            return theta / (1 - theta);  \n",
    "       }\n",
    "}\n",
    "```"
   ]
  }
 ],
 "metadata": {
  "interpreter": {
   "hash": "8765ce46b013071999fc1966b52035a7309a0da7551e066cc0f0fa23e83d4f60"
  },
  "kernelspec": {
   "display_name": "Python 3.9.5 64-bit ('stan': conda)",
   "name": "python3"
  },
  "language_info": {
   "codemirror_mode": {
    "name": "ipython",
    "version": 3
   },
   "file_extension": ".py",
   "mimetype": "text/x-python",
   "name": "python",
   "nbconvert_exporter": "python",
   "pygments_lexer": "ipython3",
   "version": "3.9.7"
  }
 },
 "nbformat": 4,
 "nbformat_minor": 2
}
